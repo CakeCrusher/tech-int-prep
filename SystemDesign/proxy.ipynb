{
 "cells": [
  {
   "cell_type": "markdown",
   "metadata": {},
   "source": [
    "# forward proxy\n",
    "- sits between the client and internet\n",
    "  - talks to the internet on behalf of the client\n",
    "- ip address is invisible\n",
    "- firewall restrict access to the internet\n",
    "- add filtering rules to the proxy\n",
    "- transparent proxy\n",
    "  - intercepts traffic and directs it to the proxy\n",
    "# reverse proxy\n",
    "- server uses proxy to connect to the internet\n",
    "- proxy can handle load balancing\n",
    "  - can increase processing capacity\n",
    "- caches static content\n",
    "- handles SSL handshakes\n",
    "- frees up server resources"
   ]
  }
 ],
 "metadata": {
  "kernelspec": {
   "display_name": "Python 3.10.2 64-bit",
   "language": "python",
   "name": "python3"
  },
  "language_info": {
   "name": "python",
   "version": "3.10.2"
  },
  "orig_nbformat": 4,
  "vscode": {
   "interpreter": {
    "hash": "369f2c481f4da34e4445cda3fffd2e751bd1c4d706f27375911949ba6bb62e1c"
   }
  }
 },
 "nbformat": 4,
 "nbformat_minor": 2
}
