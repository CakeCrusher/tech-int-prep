{
 "cells": [
  {
   "cell_type": "markdown",
   "metadata": {},
   "source": [
    "- orientation should be from top left to bottom right\n",
    "- use terminator shape\n",
    "- use 3 or less colors\n",
    "- shapes https://www.lucidchart.com/blog/flowchart-symbols-and-notation\n",
    "  - squre = process\n",
    "  - wave square = input/output\n",
    "  - diamond = decision\n",
    "  - circle = connects separate elements\n",
    "  - circular square = terminator\n",
    "  - } = comment\n",
    "    - use when longer text is needed for a node\n",
    "- swim lane\n",
    "  - the different actors in the system are represented by swim lanes\n",
    "  \n",
    "  "
   ]
  },
  {
   "cell_type": "code",
   "execution_count": null,
   "metadata": {},
   "outputs": [],
   "source": []
  }
 ],
 "metadata": {
  "kernelspec": {
   "display_name": "Python 3.10.2 ('env')",
   "language": "python",
   "name": "python3"
  },
  "language_info": {
   "name": "python",
   "version": "3.10.2"
  },
  "orig_nbformat": 4,
  "vscode": {
   "interpreter": {
    "hash": "8ebb0fa82196ab5cd02a5b231fa8fb6d37dc58c342ef6ac8d3ed2447e0dae4a4"
   }
  }
 },
 "nbformat": 4,
 "nbformat_minor": 2
}
