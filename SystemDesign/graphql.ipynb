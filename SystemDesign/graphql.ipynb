{
 "cells": [
  {
   "cell_type": "markdown",
   "metadata": {},
   "source": [
    "- sits between client and backend\n",
    "- can aggregate requests into one query\n",
    "- supports  mutations and subscriptions\n",
    "  - mutations: update data\n",
    "  - subscriptions: send notifications on data modifications\n",
    "- rest vs graphql\n",
    "  - rest\n",
    "    - centers around resources\n",
    "    - client must decide data\n",
    "      - resulting in n+1 queries\n",
    "    - uses http get which is well defined and understood \n",
    "  - graphql\n",
    "    - typed\n",
    "    - the client decides what data to include\n",
    "    - does not depend on a url instead it uses a schema\n",
    "    - graphql requires tools to use\n",
    "    - caching is harder due to complex queries\n"
   ]
  }
 ],
 "metadata": {
  "language_info": {
   "name": "python"
  },
  "orig_nbformat": 4
 },
 "nbformat": 4,
 "nbformat_minor": 2
}
