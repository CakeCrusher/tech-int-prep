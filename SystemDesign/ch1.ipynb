{
 "cells": [
  {
   "cell_type": "markdown",
   "metadata": {},
   "source": [
    "- DNS is a paid service hosted by 3rd party servers\n",
    "- web/mobile traffic = web tier\n",
    "- database = data tier\n",
    "- # database types\n",
    "  - relational\n",
    "    - SQL databases include: MySQL, Oracle, SQL Server, PostgreSQL\n",
    "    - utilize tables and rows\n",
    "    - can join multipl tables\n",
    "  - non-relational\n",
    "    - NoSQL databases include: MongoDB, Neo4j, Cassandra, DynamoDB\n",
    "    - utilize key-value, graph, column, and document stores\n",
    "    - usually cant join tables\n",
    "  - non relational are better when\n",
    "    - low latency\n",
    "    - unstructured or low relational data\n",
    "    - need to serialize data\n",
    "    - need high amounts of data\n",
    "- # vertical vs horizontal scaling\n",
    "  - vertical scaling\n",
    "    - making servers more powerful\n",
    "    - vertical scaling is simple\n",
    "    - has a hard limit\n",
    "    - has little failover\n",
    "      - cannot switch to another server if one fails\n",
    "  - horizontal scaling (scale out)\n",
    "    - adding more servers\n",
    "- when the server load is maxed users experience a significant slowdown\n",
    "- # load balancer\n",
    "  - distributes incoming traffic over webservers\n",
    "  - load balancer connects to servers with a public IP\n",
    "    - the public IP is only reachable within the network\n",
    "- # database replication"
   ]
  },
  {
   "cell_type": "markdown",
   "metadata": {},
   "source": []
  }
 ],
 "metadata": {
  "kernelspec": {
   "display_name": "Python 3.10.2 64-bit",
   "language": "python",
   "name": "python3"
  },
  "language_info": {
   "name": "python",
   "version": "3.10.2"
  },
  "orig_nbformat": 4,
  "vscode": {
   "interpreter": {
    "hash": "369f2c481f4da34e4445cda3fffd2e751bd1c4d706f27375911949ba6bb62e1c"
   }
  }
 },
 "nbformat": 4,
 "nbformat_minor": 2
}
