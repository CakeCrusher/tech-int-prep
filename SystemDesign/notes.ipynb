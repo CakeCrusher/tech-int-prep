{
 "cells": [
  {
   "cell_type": "markdown",
   "metadata": {},
   "source": [
    "# approach\n",
    "- break down the problem\n",
    "  - separate into service and features\n",
    "- communicate ideas visually and verbally\n",
    "- make assumptions and back them up with facts and figures\n",
    "# reliability\n",
    "- if all features can be served without wearing down the system\n",
    "- build fault tolerance\n",
    "  - faults are errors that occur in the system do not cause failure of the system\n",
    "  - failure is when the system can no longer provide the features to the user\n",
    "  - determine the failure state\n",
    "- reliability is measured by mean time between failure (MTBF)\n",
    "  - (total time - downtime) / num. of fauilures\n",
    "# availability\n",
    "- uptime of the system\n",
    "- low availability can be fine for social media not for baking\n",
    "- high availability cannot allow for a single point of failure\n",
    "- should be capable of detecting the source of the failure\n",
    "- common availability is 99.999%\n",
    "# scalability\n",
    "- ability of the system to cope with increasing load\n",
    "- design the system for load X, it should be capable of handling 10X load"
   ]
  },
  {
   "cell_type": "markdown",
   "metadata": {},
   "source": [
    "# distributed system\n",
    "- a group of computers working together\n",
    "- networks are not reliable\n",
    "- there is latency\n",
    "- moving data is diffucult\n",
    "- topology changes\n",
    "  - topology is the shape of nodes\n",
    "- security is a concern\n",
    "## characteristics\n",
    "- no shared clock or memory\n",
    "- everthing should be able to be shared in the system\n",
    "- must be able to communicate with each other\n",
    "- things can go wrong\n",
    "  - client may not be able to find the server\n",
    "  - server crash mid request\n",
    "  - client crashes\n",
    "# performance metrics\n",
    "## reliable vs available\n",
    "- reliable = available\n",
    "- redundancy increases availability but not reliability\n",
    "- reliability is more cost effective\n",
    "## efficiency\n",
    "- measured by latancy and throughput\n",
    "## manegeability\n",
    "- speed and difficulty maintaining the system\n",
    "- tracking bugs\n",
    "- deploying updates\n",
    "- abstract away the complexity by outsourcing\n",
    "# numbers programmers should know\n",
    "- RAM and cache (redis) is significantly faster than calling from HDD (database)\n",
    "- avoid network calls when possible\n",
    "- replicate data across datascenters for recovery\n",
    "- Google's MapReduce divided one server that would run all calculations globally into many servers that would run calculations locally\n",
    "- 1 kb = 1024 bytes\n",
    "- 1 byte for a char\n",
    "- 4 bytes for int and timestamp\n",
    "- cache 20% of data by the 80/20 rule\n"
   ]
  },
  {
   "cell_type": "markdown",
   "metadata": {},
   "source": [
    "# Horizontal vs Vertical scaling\n",
    "- functions that require high processing power can slow down CPU\n",
    "## vertical scaling\n",
    "- when a server is upgraded to a more powerful server\n",
    "- diminishing returns\n",
    "## horizontal scaling\n",
    "- when a server is split into multiple servers\n",
    "  - hadoop splits the data into multiple processes\n",
    "  - docker and kubernetes are used to split process\n",
    "- latency is reduced by creating closer servers to the user"
   ]
  },
  {
   "cell_type": "markdown",
   "metadata": {},
   "source": [
    "# System Design Components\n",
    "## load balancers\n",
    "- splits traffic to multiple servers\n",
    "  - gninx\n",
    "- a simple server: user -> internet -> web server -> application\n",
    "  - a load balancer comes between internet and web server\n",
    "- methods\n",
    "  - round robin\n",
    "    - distributes traffic evenly\n",
    "    - some servers could crash if a heavy query is done to it\n",
    "  - least connections\n",
    "    - communicates back and forth with the servers and routes to server with least connections\n",
    "    - useful dor long lived connections\n",
    "  - least response time\n",
    "    - direct traffic to server with lowest response time\n",
    "  - IP hash\n",
    "    - link user to server permanently\n",
    "  - layer 4\n",
    "    - limits access tp TCP and UDP\n",
    "  - layer 7\n",
    "- redundant load balancer\n",
    "  - checks for issues in the load balancer and begins to accept traffic when something is wrong\n",
    "# caching\n",
    "  - example: user -> internet -> load balancer -> web server -> application -> database\n",
    "    - comes in between app server and database  \n",
    "  - predict what the user will want and cache it in advance\n",
    "  - when heading to a domain the ip address is cached"
   ]
  },
  {
   "cell_type": "code",
   "execution_count": 2,
   "metadata": {},
   "outputs": [
    {
     "name": "stdout",
     "output_type": "stream",
     "text": [
      "Cache hit\n",
      "{0: 'stored'}\n",
      "db hit\n",
      "{0: 'stored', 1: 'fetched'}\n"
     ]
    },
    {
     "data": {
      "text/plain": [
       "'fetched'"
      ]
     },
     "execution_count": 2,
     "metadata": {},
     "output_type": "execute_result"
    }
   ],
   "source": [
    "def app_request(tweet_id):\n",
    "    cache = {0: \"stored\"}\n",
    "    data = cache.get(tweet_id)\n",
    "    if data:\n",
    "        print(\"Cache hit\")\n",
    "        print(cache)\n",
    "        return data\n",
    "    else:\n",
    "        print(\"db hit\")\n",
    "        data = \"fetched\"\n",
    "        cache[tweet_id] = data\n",
    "        print(cache)\n",
    "        return data\n",
    "app_request(0)\n",
    "app_request(1)"
   ]
  },
  {
   "cell_type": "code",
   "execution_count": 5,
   "metadata": {},
   "outputs": [
    {
     "name": "stdout",
     "output_type": "stream",
     "text": [
      "{0: 'updated'}\n"
     ]
    }
   ],
   "source": [
    "def app_update(tweet_id, data):\n",
    "    cache = {0: \"stored\"}\n",
    "    cache.pop(tweet_id)\n",
    "    cache[tweet_id] = data\n",
    "    print(cache)\n",
    "app_update(0, \"updated\")"
   ]
  },
  {
   "cell_type": "markdown",
   "metadata": {},
   "source": [
    "- distributed cache\n",
    "  - has built in functionality for replicating data\n",
    "  - works by creating a passive server\n",
    "- cache eviction\n",
    "  - dont want to cache everything\n",
    "  - set up time to live (TTL)\n",
    "  - least recently used (LRU)\n",
    "    - evict the oldest used data\n",
    "  - least frequently used (LFU)\n",
    "    - evict the least frequently used data\n",
    "  - thundering heard problem\n",
    "    - facebook would momentarily drop a post when a user would edit which would provoke many read requests\n",
    "- caching startegies\n",
    "  - cache aside\n",
    "  - write through\n",
    "    - writes cache before db\n",
    "  - write back\n",
    "    - writing data directly to cache\n",
    "    - could have data loss if the cache fails\n",
    "- cahce consistency\n",
    "  - cache should be maintained updated"
   ]
  },
  {
   "cell_type": "markdown",
   "metadata": {},
   "source": [
    "# database scaling\n",
    "- most applocations are read heavy, around 90%\n",
    "- vertical scaling is the simplest solution\n",
    "- indexes speed up the lookup\n",
    "- denormalization\n",
    "  - add redundant data to reduce joins\n",
    "  - updating is complex\n",
    "- connection pooling\n",
    "  - mutiple threads use the same connection\n",
    "- best way to scale the db is by not hitting it\n",
    "- facebook uses cache 99% of the time\n",
    "- replication and partitioning\n",
    "  - read replicas\n",
    "- sharding\n",
    "  - databases are split into multiple databases\n",
    "- vertical partition\n",
    "  - split colmns by function\n",
    "- when to conider NoSQL\n",
    "  - destroying all benefits of SQL in exchange for scalability\n",
    "  - NoSQL is more consistent\n",
    "- "
   ]
  },
  {
   "cell_type": "markdown",
   "metadata": {},
   "source": [
    "# interview question\n",
    "- ask for requirements\n",
    "  - features\n",
    "- estimate values for storage, bandwith, ...\n",
    "  - 500 hrs of video per minute\n",
    "  \n"
   ]
  },
  {
   "cell_type": "code",
   "execution_count": 7,
   "metadata": {},
   "outputs": [
    {
     "data": {
      "text/plain": [
       "2160.0"
      ]
     },
     "execution_count": 7,
     "metadata": {},
     "output_type": "execute_result"
    }
   ],
   "source": [
    "vid_hrs_per_minute = 500\n",
    "vid_hrs_per_hr = 60 * vid_hrs_per_minute\n",
    "# considering videos are are sored as multiple files for each quality\n",
    "gb_vid_size_per_hr = 3\n",
    "gb_vid_per_hr = gb_vid_size_per_hr * vid_hrs_per_hr\n",
    "tb_vid_per_hr = gb_vid_per_hr / 1000"
   ]
  },
  {
   "cell_type": "markdown",
   "metadata": {},
   "source": [
    "- show database design\n",
    "- describe the important processes that will take place\n",
    "- cloud delivery network is a way to reach the closes server\n",
    "  - it can cache data\n",
    "- no need to separate the frontend and backend\n",
    "  - you can treat it as a monorepo\n",
    "- minimize the amount of complexity"
   ]
  },
  {
   "cell_type": "markdown",
   "metadata": {},
   "source": [
    "# sequence diagrams\n",
    "- shows how objects in a system interact with each other\n",
    "- shows the sequence of events\n",
    "- objects\n",
    "  - the systems acting in response to the event\n",
    "- actor\n",
    "  - agent initiating the system\n",
    "- lifeline\n",
    "  - vertical dashed lines that show the existance of an object or actor iver time\n",
    "- return message\n",
    "  - are dashed lines returns to the requesting object\n",
    "- alternative frame\n",
    "  - shows the alternative paths the a exchange can take\n",
    "- activation boxes\n",
    "  - shows how active an object is"
   ]
  },
  {
   "cell_type": "markdown",
   "metadata": {},
   "source": []
  }
 ],
 "metadata": {
  "kernelspec": {
   "display_name": "Python 3.10.2 64-bit",
   "language": "python",
   "name": "python3"
  },
  "language_info": {
   "codemirror_mode": {
    "name": "ipython",
    "version": 3
   },
   "file_extension": ".py",
   "mimetype": "text/x-python",
   "name": "python",
   "nbconvert_exporter": "python",
   "pygments_lexer": "ipython3",
   "version": "3.10.2"
  },
  "orig_nbformat": 4,
  "vscode": {
   "interpreter": {
    "hash": "369f2c481f4da34e4445cda3fffd2e751bd1c4d706f27375911949ba6bb62e1c"
   }
  }
 },
 "nbformat": 4,
 "nbformat_minor": 2
}
