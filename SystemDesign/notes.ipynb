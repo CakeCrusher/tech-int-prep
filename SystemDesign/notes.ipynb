{
 "cells": [
  {
   "cell_type": "markdown",
   "metadata": {},
   "source": [
    "# approach\n",
    "- break down the problem\n",
    "  - separate into service and features\n",
    "- communicate ideas visually and verbally\n",
    "- make assumptions and back them up with facts and figures\n",
    "# reliability\n",
    "- if all features can be served without wearing down the system\n",
    "- build fault tolerance\n",
    "  - faults are errors that occur in the system do not cause failure of the system\n",
    "  - failure is when the system can no longer provide the features to the user\n",
    "  - determine the failure state\n",
    "- reliability is measured by mean time between failure (MTBF)\n",
    "  - (total time - downtime) / num. of fauilures\n",
    "# availability\n",
    "- uptime of the system\n",
    "- low availability can be fine for social media not for baking\n",
    "- high availability cannot allow for a single point of failure\n",
    "- should be capable of detecting the source of the failure\n",
    "- common availability is 99.999%\n",
    "# scalability\n",
    "- ability of the system to cope with increasing load\n",
    "- design the system for load X, it should be capable of handling 10X load"
   ]
  },
  {
   "cell_type": "markdown",
   "metadata": {},
   "source": [
    "# distributed system\n",
    "- a group of computers working together\n",
    "- networks are not reliable\n",
    "- there is latency\n",
    "- moving data is diffucult\n",
    "- topology changes\n",
    "  - topology is the shape of nodes\n",
    "- security is a concern\n",
    "## characteristics\n",
    "- no shared clock or memory\n",
    "- everthing should be able to be shared in the system\n",
    "- must be able to communicate with each other\n",
    "- things can go wrong\n",
    "  - client may not be able to find the server\n",
    "  - server crash mid request\n",
    "  - client crashes\n",
    "# performance metrics\n",
    "## reliable vs available\n",
    "- reliable = available\n",
    "- redundancy increases availability but not availability\n",
    "- reliability is more cost effective\n",
    "## efficiency\n",
    "- measured by latancy and throughput\n",
    "## manegeability\n",
    "- speed and difficulty maintaining the system\n",
    "- tracking bugs\n",
    "- deploying updates\n",
    "- abstract away the complexity by outsourcing\n",
    "# numbers programmers should know\n",
    "- RAM and cache (redis) is significantly faster than calling from HDD (database)\n",
    "- avoid network calls when possible\n",
    "- replicate data across datascenters for recovery\n",
    "- Google's MapReduce divided one serverthat would run all calculations globally into many servers that would run calculations locally\n",
    "- 1 kb = 1024 bytes\n",
    "- 1 byte for a char\n",
    "- 4 bytes for int and timestamp\n",
    "- cache 20% of data by the 80/20 rule\n"
   ]
  }
 ],
 "metadata": {
  "kernelspec": {
   "display_name": "Python 3.10.2 64-bit",
   "language": "python",
   "name": "python3"
  },
  "language_info": {
   "name": "python",
   "version": "3.10.2"
  },
  "orig_nbformat": 4,
  "vscode": {
   "interpreter": {
    "hash": "369f2c481f4da34e4445cda3fffd2e751bd1c4d706f27375911949ba6bb62e1c"
   }
  }
 },
 "nbformat": 4,
 "nbformat_minor": 2
}
