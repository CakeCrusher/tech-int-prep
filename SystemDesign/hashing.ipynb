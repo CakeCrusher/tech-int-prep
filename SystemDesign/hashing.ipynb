{
 "cells": [
  {
   "cell_type": "markdown",
   "metadata": {},
   "source": [
    "# consistent hashing\n",
    "- large scale distrubuted systems\n",
    "  - cannot hold all data in one machine\n",
    "    - they are saled horizontally\n",
    "    - data must be distributed evenly\n",
    "    - distribute hashes evenly across servers\n",
    "    - adapts to the amount of available servers\n",
    "    - hashes object keys with server neames\n",
    "- simple hasing requires almost all keys to be remapped when a server is added or removed\n",
    "  - consistent hashing only requires remapping of a fraction of the keys\n",
    "- objects are mapped into a hash ring using an uniformly distributed hash function\n",
    "- virtual nodes\n",
    "  - each server has several nodes to increase likelihood of even distribution\n",
    "- helps with data partitioning, load balancing, and web content in edge servers\n"
   ]
  },
  {
   "cell_type": "code",
   "execution_count": null,
   "metadata": {},
   "outputs": [],
   "source": []
  }
 ],
 "metadata": {
  "kernelspec": {
   "display_name": "Python 3.10.2 64-bit",
   "language": "python",
   "name": "python3"
  },
  "language_info": {
   "name": "python",
   "version": "3.10.2"
  },
  "orig_nbformat": 4,
  "vscode": {
   "interpreter": {
    "hash": "369f2c481f4da34e4445cda3fffd2e751bd1c4d706f27375911949ba6bb62e1c"
   }
  }
 },
 "nbformat": 4,
 "nbformat_minor": 2
}
