{
 "cells": [
  {
   "cell_type": "markdown",
   "metadata": {},
   "source": [
    "- sso is a protocol to authenticate users with a single set of credentials\n",
    "- identity provider\n",
    "  - central authentication server\n",
    "  - provides an encrypted access token\n",
    "  - handles long lived sessions (not needing to login again)\n",
    "- sso architecure use Security Assertion Markup language, or OAuth, or OpenID\n",
    "- workflow\n",
    "  - user requests a resuource from a service provider\n",
    "  - redirects to identity provider for authentication\n",
    "  - idp authenticates the user and passes a token to sso server\n",
    "  - sso server delivers the token to the application\n",
    "  - application grants access to user\n",
    "  \n",
    "- securely access multiple applications with a single id\n",
    "- built on federated identity\n",
    "- uses SAML or OpenID\n",
    "  - SAML\n",
    "    found in work environment\n",
    "  - OpenID\n",
    "    - found in google and youtube\n",
    "    - workflow\n",
    "      - soo login page\n",
    "      - returns SAR to browser\n",
    "      - forwards to commercial identity provider\n",
    "      - shows login page\n",
    "      - eventually prodices a SAML assertion\n",
    "      - sso provider validates SAML assertion\n",
    "      - when accessed again\n",
    "      - skips the commercial identity provider\n",
    "\n"
   ]
  },
  {
   "cell_type": "code",
   "execution_count": null,
   "metadata": {},
   "outputs": [],
   "source": []
  }
 ],
 "metadata": {
  "kernelspec": {
   "display_name": "Python 3.10.2 64-bit",
   "language": "python",
   "name": "python3"
  },
  "language_info": {
   "name": "python",
   "version": "3.10.2"
  },
  "orig_nbformat": 4,
  "vscode": {
   "interpreter": {
    "hash": "369f2c481f4da34e4445cda3fffd2e751bd1c4d706f27375911949ba6bb62e1c"
   }
  }
 },
 "nbformat": 4,
 "nbformat_minor": 2
}
