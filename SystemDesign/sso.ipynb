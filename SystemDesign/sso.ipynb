{
 "cells": [
  {
   "cell_type": "markdown",
   "metadata": {},
   "source": [
    "- sso is a protocol to authenticate users with a single set of credentials\n",
    "- identity provider\n",
    "  - central authentication server\n",
    "  - provides an encrypted access token\n",
    "  - handles long lived sessions (not needing to login again)\n",
    "- sso architecure use Security Assertion Markup language, or OAuth, or OpenID\n",
    "- workflow\n",
    "  - user requests a resuource from a service provider\n",
    "  - redirects to identity provider for authentication\n",
    "  - idp authenticates the user and passes a token to sso server\n",
    "  - sso server delivers the token to the application\n",
    "  - application grants access to user\n",
    "  \n"
   ]
  },
  {
   "cell_type": "code",
   "execution_count": null,
   "metadata": {},
   "outputs": [],
   "source": []
  }
 ],
 "metadata": {
  "language_info": {
   "name": "python"
  },
  "orig_nbformat": 4
 },
 "nbformat": 4,
 "nbformat_minor": 2
}
