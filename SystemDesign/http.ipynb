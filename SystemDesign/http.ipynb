{
 "cells": [
  {
   "cell_type": "markdown",
   "metadata": {},
   "source": [
    "# http1\n",
    "- every request requires a new TCP connection\n",
    "- keep alive\n",
    "  - which eliminated the necesity for TCP connection setup on each request\n",
    "- pipelining\n",
    "  - allowes for multiple requests before the first response is recieved\n",
    "  - head of line blocking blocks upcoming requests if prior requests fail\n",
    "# http2\n",
    "- multiple streams of requests could be sent on same connection\n",
    "- each stream is independent\n",
    "- allowed servers to send updates to client\n",
    "# http3\n",
    "- new protocol called QUIC instead of TCP\n",
    "  - is designed forconstantly changing network conditions\n",
    "  - uses QUIC connection id"
   ]
  },
  {
   "cell_type": "code",
   "execution_count": null,
   "metadata": {},
   "outputs": [],
   "source": []
  }
 ],
 "metadata": {
  "kernelspec": {
   "display_name": "Python 3.10.2 64-bit",
   "language": "python",
   "name": "python3"
  },
  "language_info": {
   "name": "python",
   "version": "3.10.2"
  },
  "orig_nbformat": 4,
  "vscode": {
   "interpreter": {
    "hash": "369f2c481f4da34e4445cda3fffd2e751bd1c4d706f27375911949ba6bb62e1c"
   }
  }
 },
 "nbformat": 4,
 "nbformat_minor": 2
}
