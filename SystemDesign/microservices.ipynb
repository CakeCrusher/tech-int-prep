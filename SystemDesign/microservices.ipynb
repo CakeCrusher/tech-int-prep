{
 "cells": [
  {
   "cell_type": "markdown",
   "metadata": {},
   "source": [
    "# microservices\n",
    "- composed of many loosely coupled services\n",
    "- enables scalability\n",
    "- domains\n",
    "  - each service handles a specific function\n",
    "- small surface limits the blast radious of failure\n",
    "- communicate\n",
    "  - through remote procedure calls\n",
    "    - faster response but blast radius is larger\n",
    "  - event streaming \n",
    "    - better isolation between services\n",
    "  - message brokers\n",
    "- can be independently deployed\n",
    "- logical components of a database (schema) can be separated\n",
    "  - cannot contain foreign key relationships\n",
    "- api gateway\n",
    "  - is an orchestration layer\n",
    "  - handles incoming requests and routes to microservices\n",
    "  - relies on identity provider\n",
    "  - use a service registry & discovery\n",
    "    - helps discover microservices\n",
    "- it is more expensive\n",
    "- each function can be handled by an independent team\n",
    "- in a monolith, if a single domain peaks the whole application must scale\n",
    "\n",
    "\n",
    "\n",
    "\n"
   ]
  },
  {
   "cell_type": "markdown",
   "metadata": {},
   "source": []
  }
 ],
 "metadata": {
  "kernelspec": {
   "display_name": "Python 3.10.2 64-bit",
   "language": "python",
   "name": "python3"
  },
  "language_info": {
   "name": "python",
   "version": "3.10.2"
  },
  "orig_nbformat": 4,
  "vscode": {
   "interpreter": {
    "hash": "369f2c481f4da34e4445cda3fffd2e751bd1c4d706f27375911949ba6bb62e1c"
   }
  }
 },
 "nbformat": 4,
 "nbformat_minor": 2
}
