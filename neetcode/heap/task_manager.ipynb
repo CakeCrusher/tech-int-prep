{
 "cells": [
  {
   "cell_type": "code",
   "execution_count": 31,
   "metadata": {},
   "outputs": [
    {
     "name": "stdout",
     "output_type": "stream",
     "text": [
      "['A', 'E', 'F', 'A', 'D', 'C', 'A', 'G', 'B', 'A', 'idle', 'idle', 'A', 'idle', 'idle', 'A']\n"
     ]
    },
    {
     "data": {
      "text/plain": [
       "16"
      ]
     },
     "execution_count": 31,
     "metadata": {},
     "output_type": "execute_result"
    }
   ],
   "source": [
    "from collections import defaultdict\n",
    "class Solution(object):\n",
    "    def leastInterval(self, tasks, n):\n",
    "        \"\"\"\n",
    "        :type tasks: List[str]\n",
    "        :type n: int\n",
    "        :rtype: int\n",
    "        \"\"\"\n",
    "        reordered_tasks = []\n",
    "        if not n:\n",
    "            return len(tasks)\n",
    "        \n",
    "        task_count = defaultdict(lambda: 0)\n",
    "        for task in tasks:\n",
    "            task_count[task] += 1\n",
    "\n",
    "        task_keys = list(set(tasks))\n",
    "\n",
    "\n",
    "        while task_keys:\n",
    "            to_remove = []\n",
    "            task_keys.sort(key=lambda x: task_count[x], reverse=True)\n",
    "            for task in task_keys[:n + 1]:\n",
    "                task_count[task] -= 1\n",
    "                while task in reordered_tasks[-n:]:\n",
    "                    reordered_tasks.append('idle')\n",
    "                reordered_tasks.append(task)\n",
    "                if task_count[task] == 0:\n",
    "                    to_remove.append(task)\n",
    "            for task in to_remove:\n",
    "                task_keys.remove(task)\n",
    "                del task_count[task]\n",
    "        print(reordered_tasks)\n",
    "        return len(reordered_tasks)\n",
    "\n",
    "\n",
    "s = Solution()\n",
    "s.leastInterval([\"A\",\"A\",\"A\",\"A\",\"A\",\"A\",\"B\",\"C\",\"D\",\"E\",\"F\",\"G\"], 2)"
   ]
  },
  {
   "cell_type": "markdown",
   "metadata": {},
   "source": [
    "- min heap is the default heapify in python\n",
    "  - when you pop the minimum is removed\n",
    "- max heap can be created by transforming the values to negative\n",
    "  - when you pop the maximum is removed"
   ]
  },
  {
   "cell_type": "code",
   "execution_count": 6,
   "metadata": {},
   "outputs": [
    {
     "name": "stdout",
     "output_type": "stream",
     "text": [
      "[-6, -1, -1, -1, -1, -1, -1]\n"
     ]
    },
    {
     "data": {
      "text/plain": [
       "16"
      ]
     },
     "execution_count": 6,
     "metadata": {},
     "output_type": "execute_result"
    }
   ],
   "source": [
    "from collections import defaultdict, Counter, deque\n",
    "import heapq\n",
    "\n",
    "\n",
    "class Solution(object):\n",
    "    def leastInterval(self, tasks, n):\n",
    "        \"\"\"\n",
    "        :type tasks: List[str]\n",
    "        :type n: int\n",
    "        :rtype: int\n",
    "        \"\"\"\n",
    "        count = Counter(tasks)\n",
    "        max_heap = [-cnt for cnt in count.values()]\n",
    "        heapq.heapify(max_heap)\n",
    "        \n",
    "        q = deque()\n",
    "\n",
    "        time = 0\n",
    "\n",
    "        while q or max_heap:\n",
    "            time += 1\n",
    "            if max_heap:\n",
    "                cnt = heapq.heappop(max_heap)\n",
    "                if cnt < -1:\n",
    "                    q.append([cnt + 1, time + n])\n",
    "            if q and q[0][1] <= time:\n",
    "                q_item = q.popleft()\n",
    "                heapq.heappush(max_heap, q_item[0])\n",
    "        return time\n",
    "\n",
    "        \n",
    "\n",
    "\n",
    "s = Solution()\n",
    "s.leastInterval([\"A\",\"A\",\"A\",\"A\",\"A\",\"A\",\"B\",\"C\",\"D\",\"E\",\"F\",\"G\"], 2)"
   ]
  },
  {
   "cell_type": "code",
   "execution_count": 3,
   "metadata": {},
   "outputs": [
    {
     "data": {
      "text/plain": [
       "6"
      ]
     },
     "execution_count": 3,
     "metadata": {},
     "output_type": "execute_result"
    }
   ],
   "source": [
    "from collections import Counter\n",
    "a = [\"A\",\"A\",\"A\",\"A\",\"A\",\"A\",\"B\",\"C\",\"D\",\"E\",\"F\",\"G\"]\n",
    "Counter(a)"
   ]
  },
  {
   "cell_type": "code",
   "execution_count": null,
   "metadata": {},
   "outputs": [],
   "source": []
  }
 ],
 "metadata": {
  "kernelspec": {
   "display_name": "Python 3.10.2 ('env')",
   "language": "python",
   "name": "python3"
  },
  "language_info": {
   "codemirror_mode": {
    "name": "ipython",
    "version": 3
   },
   "file_extension": ".py",
   "mimetype": "text/x-python",
   "name": "python",
   "nbconvert_exporter": "python",
   "pygments_lexer": "ipython3",
   "version": "3.10.2"
  },
  "orig_nbformat": 4,
  "vscode": {
   "interpreter": {
    "hash": "8ebb0fa82196ab5cd02a5b231fa8fb6d37dc58c342ef6ac8d3ed2447e0dae4a4"
   }
  }
 },
 "nbformat": 4,
 "nbformat_minor": 2
}
