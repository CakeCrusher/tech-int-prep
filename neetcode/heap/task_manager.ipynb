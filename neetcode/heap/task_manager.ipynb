{
 "cells": [
  {
   "cell_type": "code",
   "execution_count": 1,
   "metadata": {},
   "outputs": [
    {
     "data": {
      "text/plain": [
       "8"
      ]
     },
     "execution_count": 1,
     "metadata": {},
     "output_type": "execute_result"
    }
   ],
   "source": [
    "class Solution(object):\n",
    "    def leastInterval(self, tasks, n):\n",
    "        \"\"\"\n",
    "        :type tasks: List[str]\n",
    "        :type n: int\n",
    "        :rtype: int\n",
    "        \"\"\"\n",
    "        time = 0\n",
    "        for i in range(len(tasks)):\n",
    "            if i == 0:\n",
    "                continue\n",
    "            if tasks[i] == tasks[i-1]:\n",
    "                time += n\n",
    "        return time\n",
    "        \n",
    "s = Solution()\n",
    "s.leastInterval([\"A\",\"A\",\"A\",\"B\",\"B\",\"B\"], 2)"
   ]
  },
  {
   "cell_type": "code",
   "execution_count": null,
   "metadata": {},
   "outputs": [],
   "source": []
  }
 ],
 "metadata": {
  "kernelspec": {
   "display_name": "Python 3.8.8 ('pytorch')",
   "language": "python",
   "name": "python3"
  },
  "language_info": {
   "codemirror_mode": {
    "name": "ipython",
    "version": 3
   },
   "file_extension": ".py",
   "mimetype": "text/x-python",
   "name": "python",
   "nbconvert_exporter": "python",
   "pygments_lexer": "ipython3",
   "version": "3.8.8"
  },
  "orig_nbformat": 4,
  "vscode": {
   "interpreter": {
    "hash": "d34aa9f39f10f16201fc114dff84608cf6ba130c84783248164c147d7d94d246"
   }
  }
 },
 "nbformat": 4,
 "nbformat_minor": 2
}
