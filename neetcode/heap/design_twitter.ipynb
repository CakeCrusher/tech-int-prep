{
 "cells": [
  {
   "cell_type": "code",
   "execution_count": 41,
   "metadata": {},
   "outputs": [
    {
     "name": "stdout",
     "output_type": "stream",
     "text": [
      "[5]\n",
      "[6, 5]\n",
      "[5]\n"
     ]
    }
   ],
   "source": [
    "import heapq\n",
    "class Twitter(object):\n",
    "\n",
    "    def __init__(self):\n",
    "        self.users = {}\n",
    "        self.tweet_time = 0\n",
    "\n",
    "    def createUser(self, userId):\n",
    "        self.users[userId] = {\"tweets\": [], \"following\": []} \n",
    "\n",
    "    def postTweet(self, userId, tweetId):\n",
    "        \"\"\"\n",
    "        :type userId: int\n",
    "        :type tweetId: int\n",
    "        :rtype: None\n",
    "        \"\"\"\n",
    "        if userId not in self.users:\n",
    "            self.createUser(userId)\n",
    "        self.tweet_time += 1\n",
    "        self.users[userId][\"tweets\"].append([self.tweet_time, tweetId])\n",
    "\n",
    "    def getNewsFeed(self, userId):\n",
    "        \"\"\"\n",
    "        :type userId: int\n",
    "        :rtype: List[int]\n",
    "        \"\"\"\n",
    "        if userId not in self.users:\n",
    "            self.createUser(userId)\n",
    "        user_tweets = self.users[userId][\"tweets\"][:]\n",
    "        following = self.users[userId][\"following\"]\n",
    "        for user in following:\n",
    "            user_tweets += self.users[user][\"tweets\"]\n",
    "        heapq.heapify(user_tweets)\n",
    "        return list(map(lambda x: x[1], heapq.nlargest(10, user_tweets)))\n",
    "\n",
    "        \n",
    "\n",
    "    def follow(self, followerId, followeeId):\n",
    "        \"\"\"\n",
    "        :type followerId: int\n",
    "        :type followeeId: int\n",
    "        :rtype: None\n",
    "        \"\"\"\n",
    "        if followerId not in self.users:\n",
    "            self.createUser(followerId)\n",
    "        if followeeId not in self.users:\n",
    "            self.createUser(followeeId)\n",
    "        if followeeId not in self.users[followerId][\"following\"]:\n",
    "            self.users[followerId][\"following\"].append(followeeId)\n",
    "\n",
    "        \n",
    "\n",
    "    def unfollow(self, followerId, followeeId):\n",
    "        \"\"\"\n",
    "        :type followerId: int\n",
    "        :type followeeId: int\n",
    "        :rtype: None\n",
    "        \"\"\"\n",
    "        if followerId not in self.users:\n",
    "            self.createUser(followerId)\n",
    "        if followeeId not in self.users:\n",
    "            self.createUser(followeeId)\n",
    "        try:\n",
    "            self.users[followerId][\"following\"].remove(followeeId)\n",
    "        except:\n",
    "            pass\n",
    "\n",
    "twitter = Twitter()\n",
    "twitter.postTweet(1, 5) # User 1 posts a new tweet (id = 5).\n",
    "print(twitter.getNewsFeed(1))  # User 1's news feed should return a list with 1 tweet id -> [5]. return [5]\n",
    "twitter.follow(1, 2)    # User 1 follows user 2.\n",
    "twitter.postTweet(2, 6) # User 2 posts a new tweet (id = 6).\n",
    "print(twitter.getNewsFeed(1))  # User 1's news feed should return a list with 2 tweet ids -> [6, 5]. Tweet id 6 should precede tweet id 5 because it is posted after tweet id 5.\n",
    "twitter.unfollow(1, 2)  # User 1 unfollows user 2.\n",
    "print(twitter.getNewsFeed(1))  # User 1's news feed should return a list with 1 tweet id -> [5], since user 1 is no longer following user 2."
   ]
  },
  {
   "cell_type": "code",
   "execution_count": 44,
   "metadata": {},
   "outputs": [
    {
     "name": "stdout",
     "output_type": "stream",
     "text": [
      "[5]\n",
      "[6, 5]\n",
      "[5]\n"
     ]
    }
   ],
   "source": [
    "import heapq\n",
    "class Twitter(object):\n",
    "\n",
    "    def __init__(self):\n",
    "        self.users = {}\n",
    "        self.tweet_time = 0\n",
    "\n",
    "    def createUser(self, userId):\n",
    "        self.users[userId] = {\"tweets\": [], \"following\": []} \n",
    "\n",
    "    def postTweet(self, userId, tweetId):\n",
    "        \"\"\"\n",
    "        :type userId: int\n",
    "        :type tweetId: int\n",
    "        :rtype: None\n",
    "        \"\"\"\n",
    "        if userId not in self.users:\n",
    "            self.createUser(userId)\n",
    "        self.tweet_time += 1\n",
    "        self.users[userId][\"tweets\"].append([self.tweet_time, tweetId])\n",
    "\n",
    "    def getNewsFeed(self, userId):\n",
    "        \"\"\"\n",
    "        :type userId: int\n",
    "        :rtype: List[int]\n",
    "        \"\"\"\n",
    "        if userId not in self.users:\n",
    "            self.createUser(userId)\n",
    "        user_tweets = self.users[userId][\"tweets\"][:]\n",
    "        following = self.users[userId][\"following\"]\n",
    "        for user in following:\n",
    "            user_tweets += self.users[user][\"tweets\"]\n",
    "        heapq.heapify(user_tweets)\n",
    "        return list(map(lambda x: x[1], heapq.nlargest(10, user_tweets)))\n",
    "\n",
    "        \n",
    "\n",
    "    def follow(self, followerId, followeeId):\n",
    "        \"\"\"\n",
    "        :type followerId: int\n",
    "        :type followeeId: int\n",
    "        :rtype: None\n",
    "        \"\"\"\n",
    "        if followerId not in self.users:\n",
    "            self.createUser(followerId)\n",
    "        if followeeId not in self.users:\n",
    "            self.createUser(followeeId)\n",
    "        if followeeId not in self.users[followerId][\"following\"]:\n",
    "            self.users[followerId][\"following\"].append(followeeId)\n",
    "\n",
    "        \n",
    "\n",
    "    def unfollow(self, followerId, followeeId):\n",
    "        \"\"\"\n",
    "        :type followerId: int\n",
    "        :type followeeId: int\n",
    "        :rtype: None\n",
    "        \"\"\"\n",
    "        if followerId not in self.users:\n",
    "            self.createUser(followerId)\n",
    "        if followeeId not in self.users:\n",
    "            self.createUser(followeeId)\n",
    "        try:\n",
    "            self.users[followerId][\"following\"].remove(followeeId)\n",
    "        except:\n",
    "            pass\n",
    "\n",
    "twitter = Twitter()\n",
    "twitter.postTweet(1, 5) # User 1 posts a new tweet (id = 5).\n",
    "print(twitter.getNewsFeed(1))  # User 1's news feed should return a list with 1 tweet id -> [5]. return [5]\n",
    "twitter.follow(1, 2)    # User 1 follows user 2.\n",
    "twitter.postTweet(2, 6) # User 2 posts a new tweet (id = 6).\n",
    "print(twitter.getNewsFeed(1))  # User 1's news feed should return a list with 2 tweet ids -> [6, 5]. Tweet id 6 should precede tweet id 5 because it is posted after tweet id 5.\n",
    "twitter.unfollow(1, 2)  # User 1 unfollows user 2.\n",
    "print(twitter.getNewsFeed(1))  # User 1's news feed should return a list with 1 tweet id -> [5], since user 1 is no longer following user 2."
   ]
  },
  {
   "cell_type": "code",
   "execution_count": 46,
   "metadata": {},
   "outputs": [
    {
     "name": "stdout",
     "output_type": "stream",
     "text": [
      "[5]\n",
      "[6, 5, 4]\n",
      "[5]\n"
     ]
    }
   ],
   "source": [
    "import heapq\n",
    "from collections import defaultdict\n",
    "class Twitter:\n",
    "    def __init__(self):\n",
    "        self.count = 0\n",
    "        self.tweetMap = defaultdict(list)  # userId -> list of [count, tweetIds]\n",
    "        self.followMap = defaultdict(set)  # userId -> set of followeeId\n",
    "\n",
    "    def postTweet(self, userId, tweetId):\n",
    "        self.tweetMap[userId].append([self.count, tweetId])\n",
    "        self.count -= 1\n",
    "\n",
    "    def getNewsFeed(self, userId):\n",
    "        res = []\n",
    "        minHeap = []\n",
    "\n",
    "        self.followMap[userId].add(userId)\n",
    "        for followeeId in self.followMap[userId]:\n",
    "            if followeeId in self.tweetMap:\n",
    "                index = len(self.tweetMap[followeeId]) - 1\n",
    "                count, tweetId = self.tweetMap[followeeId][index]\n",
    "                heapq.heappush(minHeap, [count, tweetId, followeeId, index - 1])\n",
    "\n",
    "        while minHeap and len(res) < 10:\n",
    "            count, tweetId, followeeId, index = heapq.heappop(minHeap)\n",
    "            res.append(tweetId)\n",
    "            if index >= 0:\n",
    "                count, tweetId = self.tweetMap[followeeId][index]\n",
    "                heapq.heappush(minHeap, [count, tweetId, followeeId, index - 1])\n",
    "        return res\n",
    "\n",
    "    def follow(self, followerId, followeeId):\n",
    "        self.followMap[followerId].add(followeeId)\n",
    "\n",
    "    def unfollow(self, followerId, followeeId):\n",
    "        if followeeId in self.followMap[followerId]:\n",
    "            self.followMap[followerId].remove(followeeId)\n",
    "\n",
    "twitter = Twitter()\n",
    "twitter.postTweet(2, 4) # User 2 posts a new tweet (id = 6).\n",
    "twitter.postTweet(1, 5) # User 1 posts a new tweet (id = 5).\n",
    "print(twitter.getNewsFeed(1))  # User 1's news feed should return a list with 1 tweet id -> [5]. return [5]\n",
    "twitter.follow(1, 2)    # User 1 follows user 2.\n",
    "twitter.postTweet(2, 6) # User 2 posts a new tweet (id = 6).\n",
    "print(twitter.getNewsFeed(1))  # User 1's news feed should return a list with 2 tweet ids -> [6, 5]. Tweet id 6 should precede tweet id 5 because it is posted after tweet id 5.\n",
    "twitter.unfollow(1, 2)  # User 1 unfollows user 2.\n",
    "print(twitter.getNewsFeed(1))  # User 1's news feed should return a list with 1 tweet id -> [5], since user 1 is no longer following user 2."
   ]
  },
  {
   "cell_type": "code",
   "execution_count": 3,
   "metadata": {},
   "outputs": [
    {
     "name": "stdout",
     "output_type": "stream",
     "text": [
      "[[1, 3], [2, 2]]\n"
     ]
    }
   ],
   "source": [
    "import heapq\n",
    "a = [[3,1],[1,3],[2,2]]\n",
    "heapq.heapify(a)\n",
    "# retrieve the smallest 2 items\n",
    "print(heapq.nsmallest(2, a))\n"
   ]
  },
  {
   "cell_type": "code",
   "execution_count": 38,
   "metadata": {},
   "outputs": [
    {
     "name": "stdout",
     "output_type": "stream",
     "text": [
      "[4, 6, 8, 10]\n"
     ]
    }
   ],
   "source": [
    "a = [2,3,4,5]\n",
    "# use map to retrieve the i times 2 of a\n",
    "print(list(map(lambda x: x*2, a)))"
   ]
  },
  {
   "cell_type": "code",
   "execution_count": null,
   "metadata": {},
   "outputs": [],
   "source": []
  }
 ],
 "metadata": {
  "kernelspec": {
   "display_name": "Python 3.10.2 ('env')",
   "language": "python",
   "name": "python3"
  },
  "language_info": {
   "codemirror_mode": {
    "name": "ipython",
    "version": 3
   },
   "file_extension": ".py",
   "mimetype": "text/x-python",
   "name": "python",
   "nbconvert_exporter": "python",
   "pygments_lexer": "ipython3",
   "version": "3.10.2"
  },
  "orig_nbformat": 4,
  "vscode": {
   "interpreter": {
    "hash": "8ebb0fa82196ab5cd02a5b231fa8fb6d37dc58c342ef6ac8d3ed2447e0dae4a4"
   }
  }
 },
 "nbformat": 4,
 "nbformat_minor": 2
}
