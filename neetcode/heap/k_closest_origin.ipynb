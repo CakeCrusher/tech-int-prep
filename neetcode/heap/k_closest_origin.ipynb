{
 "cells": [
  {
   "cell_type": "code",
   "execution_count": 43,
   "metadata": {},
   "outputs": [
    {
     "data": {
      "text/plain": [
       "[[-2, 2]]"
      ]
     },
     "execution_count": 43,
     "metadata": {},
     "output_type": "execute_result"
    }
   ],
   "source": [
    "import heapq\n",
    "from math import sqrt\n",
    "class Solution(object):\n",
    "    def kClosest(self, points, k):\n",
    "        \"\"\"\n",
    "        :type points: List[List[int]]\n",
    "        :type k: int\n",
    "        :rtype: List[List[int]]\n",
    "        \"\"\"\n",
    "        points.sort(key=lambda x: sqrt(x[0]**2 + x[1]**2))\n",
    "        return points[:k]\n",
    "        \n",
    "s = Solution()\n",
    "\n",
    "s.kClosest([[1,3],[-2,2]], 1)"
   ]
  },
  {
   "cell_type": "code",
   "execution_count": 45,
   "metadata": {},
   "outputs": [
    {
     "data": {
      "text/plain": [
       "[[3, 3], [-2, 4]]"
      ]
     },
     "execution_count": 45,
     "metadata": {},
     "output_type": "execute_result"
    }
   ],
   "source": [
    "import heapq\n",
    "from math import sqrt\n",
    "class Solution(object):\n",
    "    def kClosest(self, points, k):\n",
    "        \"\"\"\n",
    "        :type points: List[List[int]]\n",
    "        :type k: int\n",
    "        :rtype: List[List[int]]\n",
    "        \"\"\"\n",
    "        heap = []\n",
    "        for x, y in points:\n",
    "            dist = sqrt(x**2 + y**2)\n",
    "            heap.append((dist, x, y))\n",
    "        heapq.heapify(heap)\n",
    "        return [[x,y] for dist,x,y in heapq.nsmallest(k, heap)]\n",
    "\n",
    "        \n",
    "s = Solution()\n",
    "\n",
    "s.kClosest([[3,3],[5,-1],[-2,4]], 2)"
   ]
  },
  {
   "cell_type": "code",
   "execution_count": 29,
   "metadata": {},
   "outputs": [
    {
     "data": {
      "text/plain": [
       "[1, 1, 2]"
      ]
     },
     "execution_count": 29,
     "metadata": {},
     "output_type": "execute_result"
    }
   ],
   "source": [
    "[1] + [1,2]"
   ]
  }
 ],
 "metadata": {
  "kernelspec": {
   "display_name": "Python 3.8.8 ('pytorch')",
   "language": "python",
   "name": "python3"
  },
  "language_info": {
   "codemirror_mode": {
    "name": "ipython",
    "version": 3
   },
   "file_extension": ".py",
   "mimetype": "text/x-python",
   "name": "python",
   "nbconvert_exporter": "python",
   "pygments_lexer": "ipython3",
   "version": "3.8.8"
  },
  "orig_nbformat": 4,
  "vscode": {
   "interpreter": {
    "hash": "d34aa9f39f10f16201fc114dff84608cf6ba130c84783248164c147d7d94d246"
   }
  }
 },
 "nbformat": 4,
 "nbformat_minor": 2
}
