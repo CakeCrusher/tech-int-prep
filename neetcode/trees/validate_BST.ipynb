{
 "cells": [
  {
   "cell_type": "code",
   "execution_count": null,
   "metadata": {},
   "outputs": [],
   "source": [
    "# \n",
    "# "
   ]
  },
  {
   "cell_type": "markdown",
   "metadata": {},
   "source": [
    "binary search tree \n",
    "  - left value is less than root\n",
    "  - right value is greater than root\n",
    "  - requires depth first search\n",
    "    - must look beyond the immediate left and right nodes"
   ]
  },
  {
   "cell_type": "code",
   "execution_count": 8,
   "metadata": {},
   "outputs": [
    {
     "data": {
      "text/plain": [
       "False"
      ]
     },
     "execution_count": 8,
     "metadata": {},
     "output_type": "execute_result"
    }
   ],
   "source": [
    "# Definition for a binary tree node.\n",
    "class TreeNode(object):\n",
    "    def __init__(self, val=0, left=None, right=None):\n",
    "        self.val = val\n",
    "        self.left = left\n",
    "        self.right = right\n",
    "class Solution(object):\n",
    "    def isValidBST(self, root):\n",
    "        \"\"\"\n",
    "        :type root: TreeNode\n",
    "        :rtype: bool\n",
    "        \"\"\"\n",
    "        left_valid, right_valid = True, True\n",
    "        if root.left:\n",
    "            if root.left.val >= root.val:\n",
    "                return False\n",
    "            else:\n",
    "                left_valid = self.isValidBST(root.left)\n",
    "        if root.right:\n",
    "            if root.right.val <= root.val:\n",
    "                return False\n",
    "            else:\n",
    "                right_valid = self.isValidBST(root.right)\n",
    "        return left_valid and right_valid\n",
    "\n",
    "s = Solution()\n",
    "tn1 = TreeNode(1)\n",
    "tn5 = TreeNode(3)\n",
    "tn6 = TreeNode(6)\n",
    "tn2 = TreeNode(4,tn5, tn6)\n",
    "tn3 = TreeNode(5, tn1, tn2)\n",
    "s.isValidBST(tn3)\n",
    "\n",
    "        "
   ]
  },
  {
   "cell_type": "code",
   "execution_count": 22,
   "metadata": {},
   "outputs": [
    {
     "name": "stdout",
     "output_type": "stream",
     "text": [
      "node:  5\n",
      "left_val:  4 bounds:  (-inf, inf)\n",
      "node:  4\n",
      "node:  6\n",
      "left_val:  3 bounds:  (5, inf)\n"
     ]
    },
    {
     "data": {
      "text/plain": [
       "False"
      ]
     },
     "execution_count": 22,
     "metadata": {},
     "output_type": "execute_result"
    }
   ],
   "source": [
    "# Definition for a binary tree node.\n",
    "class TreeNode(object):\n",
    "    def __init__(self, val=0, left=None, right=None):\n",
    "        self.val = val\n",
    "        self.left = left\n",
    "        self.right = right\n",
    "class Solution(object):\n",
    "    def isValidBST(self, root):\n",
    "        \"\"\"\n",
    "        :type root: TreeNode\n",
    "        :rtype: bool\n",
    "        \"\"\"\n",
    "        return self.withBounds(root, (float('-inf'), float('inf')))\n",
    "    def withBounds(self, node, bounds):\n",
    "        print(\"node: \", node.val)\n",
    "        left_res, right_res = True, True\n",
    "        if node.left:\n",
    "            print(\"left_val: \", node.left.val, \"bounds: \", bounds)\n",
    "            if node.left.val < node.val and node.left.val > bounds[0] and node.left.val < bounds[1]:\n",
    "                left_res = self.withBounds(node.left, (bounds[0], node.val))\n",
    "            else:\n",
    "                return False\n",
    "        if node.right:\n",
    "            if node.right.val > node.val and node.right.val > bounds[0] and node.right.val < bounds[1]:\n",
    "                right_res = self.withBounds(node.right, (node.val, bounds[1]))\n",
    "            else:\n",
    "                return False\n",
    "        return left_res and right_res\n",
    "        \n",
    "\n",
    "s = Solution()\n",
    "tn1 = TreeNode(1)\n",
    "tn3 = TreeNode(3)\n",
    "tn7 = TreeNode(7)\n",
    "tn6 = TreeNode(6, tn3, tn7)\n",
    "tn4 = TreeNode(4)\n",
    "tn5 = TreeNode(5, tn4, tn6)\n",
    "s.isValidBST(tn5)\n",
    "\n",
    "        "
   ]
  },
  {
   "cell_type": "code",
   "execution_count": 23,
   "metadata": {},
   "outputs": [
    {
     "data": {
      "text/plain": [
       "False"
      ]
     },
     "execution_count": 23,
     "metadata": {},
     "output_type": "execute_result"
    }
   ],
   "source": [
    "# Definition for a binary tree node.\n",
    "class TreeNode(object):\n",
    "    def __init__(self, val=0, left=None, right=None):\n",
    "        self.val = val\n",
    "        self.left = left\n",
    "        self.right = right\n",
    "class Solution(object):\n",
    "    def isValidBST(self, root):\n",
    "        \"\"\"\n",
    "        :type root: TreeNode\n",
    "        :rtype: bool\n",
    "        \"\"\"\n",
    "        def isValid(node, left, right):\n",
    "            if not node:\n",
    "                return True\n",
    "            if node.val <= left or node.val >= right:\n",
    "                return False\n",
    "            return (isValid(node.left, left, node.val) and isValid(node.right, node.val, right))\n",
    "        return isValid(root, float('-inf'), float('inf'))\n",
    "        \n",
    "\n",
    "s = Solution()\n",
    "tn1 = TreeNode(1)\n",
    "tn3 = TreeNode(3)\n",
    "tn7 = TreeNode(7)\n",
    "tn6 = TreeNode(6, tn3, tn7)\n",
    "tn4 = TreeNode(4)\n",
    "tn5 = TreeNode(5, tn4, tn6)\n",
    "s.isValidBST(tn5)\n",
    "\n",
    "        "
   ]
  },
  {
   "cell_type": "code",
   "execution_count": null,
   "metadata": {},
   "outputs": [],
   "source": []
  }
 ],
 "metadata": {
  "kernelspec": {
   "display_name": "Python 3.10.2 ('env')",
   "language": "python",
   "name": "python3"
  },
  "language_info": {
   "codemirror_mode": {
    "name": "ipython",
    "version": 3
   },
   "file_extension": ".py",
   "mimetype": "text/x-python",
   "name": "python",
   "nbconvert_exporter": "python",
   "pygments_lexer": "ipython3",
   "version": "3.10.2"
  },
  "orig_nbformat": 4,
  "vscode": {
   "interpreter": {
    "hash": "8ebb0fa82196ab5cd02a5b231fa8fb6d37dc58c342ef6ac8d3ed2447e0dae4a4"
   }
  }
 },
 "nbformat": 4,
 "nbformat_minor": 2
}
