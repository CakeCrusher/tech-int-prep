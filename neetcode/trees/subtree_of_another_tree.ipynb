{
 "cells": [
  {
   "cell_type": "code",
   "execution_count": 11,
   "metadata": {},
   "outputs": [
    {
     "name": "stdout",
     "output_type": "stream",
     "text": [
      "False\n",
      "True\n",
      "True\n"
     ]
    }
   ],
   "source": [
    "class TreeNode:\n",
    "    def __init__(self, val=0, left=None, right=None):\n",
    "        self.val = val\n",
    "        self.left = left\n",
    "        self.right = right\n",
    "class Solution:\n",
    "    def isSubtree(self, root, subRoot):\n",
    "        def sameTree(node, compNode):\n",
    "            if node is None and compNode is None:\n",
    "                return True\n",
    "            elif node is None or compNode is None:\n",
    "                return False\n",
    "            elif node.val != compNode.val:\n",
    "                return False\n",
    "            else:\n",
    "                return sameTree(node.left, compNode.left) and sameTree(node.right, compNode.right)\n",
    "        if root is None:\n",
    "            return False\n",
    "        if root.val == subRoot.val:\n",
    "            if sameTree(root, subRoot):\n",
    "                return True\n",
    "        left_res = self.isSubtree(root.left, subRoot)\n",
    "        right_res = self.isSubtree(root.right, subRoot)\n",
    "        return left_res or right_res\n",
    "            \n",
    "            \n",
    "            \n",
    "            \n",
    "            \n",
    "sol = Solution()\n",
    "\n",
    "subtree1 = TreeNode(1)\n",
    "subtree2 = TreeNode(2)\n",
    "subtree4 = TreeNode(4, subtree1, subtree2)\n",
    "\n",
    "tree0 = TreeNode(0)\n",
    "tree2 = TreeNode(2, tree0)\n",
    "tree1 = TreeNode(1)\n",
    "tree4 = TreeNode(4, tree1, tree2)\n",
    "tree5 = TreeNode(5)\n",
    "tree3 = TreeNode(3, tree4, tree5)\n",
    "print(sol.isSubtree(tree3, subtree4))\n",
    "\n",
    "alttree2 = TreeNode(2)\n",
    "alttree1 = TreeNode(1)\n",
    "alttree4 = TreeNode(4, alttree1, alttree2)\n",
    "alttree5 = TreeNode(5)\n",
    "alttree3 = TreeNode(3, alttree4, alttree5)\n",
    "print(sol.isSubtree(alttree3, subtree4))\n",
    "\n",
    "alt2tree1 = TreeNode(1)\n",
    "alt2tree2 = TreeNode(1, alt2tree1)\n",
    "alt2subtree1 = TreeNode(1)\n",
    "print(sol.isSubtree(alt2tree2, alt2subtree1))\n",
    "\n",
    "\n"
   ]
  }
 ],
 "metadata": {
  "kernelspec": {
   "display_name": "Python 3",
   "language": "python",
   "name": "python3"
  },
  "language_info": {
   "codemirror_mode": {
    "name": "ipython",
    "version": 3
   },
   "file_extension": ".py",
   "mimetype": "text/x-python",
   "name": "python",
   "nbconvert_exporter": "python",
   "pygments_lexer": "ipython3",
   "version": "3.10.2"
  }
 },
 "nbformat": 4,
 "nbformat_minor": 2
}
