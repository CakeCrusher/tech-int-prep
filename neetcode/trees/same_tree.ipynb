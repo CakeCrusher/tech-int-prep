{
 "cells": [
  {
   "cell_type": "code",
   "execution_count": 12,
   "metadata": {},
   "outputs": [
    {
     "data": {
      "text/plain": [
       "True"
      ]
     },
     "execution_count": 12,
     "metadata": {},
     "output_type": "execute_result"
    }
   ],
   "source": [
    "# Definition for a binary tree node.\n",
    "class TreeNode(object):\n",
    "    def __init__(self, val=0, left=None, right=None):\n",
    "        self.val = val\n",
    "        self.left = left\n",
    "        self.right = right\n",
    "\n",
    "class Solution(object):\n",
    "    def isSameTree(self, p, q):\n",
    "        \"\"\"\n",
    "        :type p: TreeNode\n",
    "        :type q: TreeNode\n",
    "        :rtype: bool\n",
    "        \"\"\"\n",
    "        if p.val == q.val:\n",
    "            if p.left and p.left.val == q.left.val:\n",
    "                self.isSameTree(p.left, q.left)\n",
    "            else:\n",
    "                return False\n",
    "            if p.right and p.right.val == q.right.val:\n",
    "                self.isSameTree(p.right, q.right)\n",
    "            else:\n",
    "                return False\n",
    "        else:\n",
    "            return False\n",
    "        return True\n",
    "\n",
    "tnp3 = TreeNode(3)\n",
    "tnp2 = TreeNode(2)\n",
    "tnp1 = TreeNode(1, tnp2, tnp3)\n",
    "tnq3 = TreeNode(3)\n",
    "tnq2 = TreeNode(2)\n",
    "tnq1 = TreeNode(1, tnq2, tnq3)\n",
    "s = Solution()\n",
    "s.isSameTree(tnp1, tnq1)"
   ]
  },
  {
   "cell_type": "code",
   "execution_count": 13,
   "metadata": {},
   "outputs": [
    {
     "data": {
      "text/plain": [
       "True"
      ]
     },
     "execution_count": 13,
     "metadata": {},
     "output_type": "execute_result"
    }
   ],
   "source": [
    "# Definition for a binary tree node.\n",
    "class TreeNode(object):\n",
    "    def __init__(self, val=0, left=None, right=None):\n",
    "        self.val = val\n",
    "        self.left = left\n",
    "        self.right = right\n",
    "\n",
    "class Solution(object):\n",
    "    def isSameTree(self, p, q):\n",
    "        \"\"\"\n",
    "        :type p: TreeNode\n",
    "        :type q: TreeNode\n",
    "        :rtype: bool\n",
    "        \"\"\"\n",
    "        if not p and not q:\n",
    "            return True\n",
    "        if not p or not q or p.val != q.val:\n",
    "            return False\n",
    "        self.isSameTree(p.left, q.left)\n",
    "        self.isSameTree(p.right, q.right)\n",
    "        return True\n",
    "\n",
    "tnp3 = TreeNode(3)\n",
    "tnp2 = TreeNode(2)\n",
    "tnp1 = TreeNode(1, tnp2, tnp3)\n",
    "tnq3 = TreeNode(3)\n",
    "tnq2 = TreeNode(2)\n",
    "tnq1 = TreeNode(1, tnq2, tnq3)\n",
    "s = Solution()\n",
    "s.isSameTree(tnp1, tnq1)"
   ]
  }
 ],
 "metadata": {
  "kernelspec": {
   "display_name": "Python 3.10.2 ('env')",
   "language": "python",
   "name": "python3"
  },
  "language_info": {
   "codemirror_mode": {
    "name": "ipython",
    "version": 3
   },
   "file_extension": ".py",
   "mimetype": "text/x-python",
   "name": "python",
   "nbconvert_exporter": "python",
   "pygments_lexer": "ipython3",
   "version": "3.10.2"
  },
  "orig_nbformat": 4,
  "vscode": {
   "interpreter": {
    "hash": "8ebb0fa82196ab5cd02a5b231fa8fb6d37dc58c342ef6ac8d3ed2447e0dae4a4"
   }
  }
 },
 "nbformat": 4,
 "nbformat_minor": 2
}
