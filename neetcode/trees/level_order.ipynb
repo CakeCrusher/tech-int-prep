{
 "cells": [
  {
   "cell_type": "markdown",
   "metadata": {},
   "source": [
    "- breadth first search\n",
    "  - it explored nodes at the present depth"
   ]
  },
  {
   "cell_type": "code",
   "execution_count": 8,
   "metadata": {},
   "outputs": [
    {
     "data": {
      "text/plain": [
       "[[3], [9, 20], [15, 7]]"
      ]
     },
     "execution_count": 8,
     "metadata": {},
     "output_type": "execute_result"
    }
   ],
   "source": [
    "# Definition for a binary tree node.\n",
    "class TreeNode(object):\n",
    "    def __init__(self, val=0, left=None, right=None):\n",
    "        self.val = val\n",
    "        self.left = left\n",
    "        self.right = right\n",
    "class Solution(object):\n",
    "    def levelOrder(self, root):\n",
    "        \"\"\"\n",
    "        :type root: TreeNode\n",
    "        :rtype: List[List[int]]\n",
    "        \"\"\"\n",
    "        result = []\n",
    "        \n",
    "        def traverse(node, level):\n",
    "            if node:\n",
    "                if len(result) - 1 < level:\n",
    "                    result.append([])\n",
    "                result[level].append(node.val)\n",
    "                traverse(node.left, level+1)\n",
    "                traverse(node.right, level+1)\n",
    "\n",
    "        traverse(root, 0)\n",
    "        return result\n",
    "\n",
    "tn7 = TreeNode(7)\n",
    "tn15 = TreeNode(15)\n",
    "tn20 = TreeNode(20, tn15, tn7)\n",
    "tn9 = TreeNode(9)\n",
    "tn3 = TreeNode(3, tn9, tn20)\n",
    "\n",
    "s = Solution()\n",
    "s.levelOrder(tn3)\n"
   ]
  },
  {
   "cell_type": "code",
   "execution_count": 10,
   "metadata": {},
   "outputs": [
    {
     "data": {
      "text/plain": [
       "[[3], [9, 20], [15, 7]]"
      ]
     },
     "execution_count": 10,
     "metadata": {},
     "output_type": "execute_result"
    }
   ],
   "source": [
    "import collections\n",
    "class TreeNode(object):\n",
    "    def __init__(self, val=0, left=None, right=None):\n",
    "        self.val = val\n",
    "        self.left = left\n",
    "        self.right = right\n",
    "class Solution(object):\n",
    "    def levelOrder(self, root):\n",
    "        \"\"\"\n",
    "        :type root: TreeNode\n",
    "        :rtype: List[List[int]]\n",
    "        \"\"\"\n",
    "        result = []\n",
    "        q = collections.deque()\n",
    "        q.append(root)\n",
    "        while q:\n",
    "            lenQ = len(q)\n",
    "            level = []\n",
    "            for i in range(lenQ):\n",
    "                node = q.popleft()\n",
    "                if node:\n",
    "                    level.append(node.val)\n",
    "                    q.append(node.left)\n",
    "                    q.append(node.right)\n",
    "            if level:\n",
    "                result.append(level)\n",
    "        return result\n",
    "\n",
    "tn7 = TreeNode(7)\n",
    "tn15 = TreeNode(15)\n",
    "tn20 = TreeNode(20, tn15, tn7)\n",
    "tn9 = TreeNode(9)\n",
    "tn3 = TreeNode(3, tn9, tn20)\n",
    "\n",
    "s = Solution()\n",
    "s.levelOrder(tn3)\n"
   ]
  },
  {
   "cell_type": "code",
   "execution_count": null,
   "metadata": {},
   "outputs": [],
   "source": []
  }
 ],
 "metadata": {
  "kernelspec": {
   "display_name": "Python 3.10.2 ('env')",
   "language": "python",
   "name": "python3"
  },
  "language_info": {
   "codemirror_mode": {
    "name": "ipython",
    "version": 3
   },
   "file_extension": ".py",
   "mimetype": "text/x-python",
   "name": "python",
   "nbconvert_exporter": "python",
   "pygments_lexer": "ipython3",
   "version": "3.10.2"
  },
  "orig_nbformat": 4,
  "vscode": {
   "interpreter": {
    "hash": "8ebb0fa82196ab5cd02a5b231fa8fb6d37dc58c342ef6ac8d3ed2447e0dae4a4"
   }
  }
 },
 "nbformat": 4,
 "nbformat_minor": 2
}
