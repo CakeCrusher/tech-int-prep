{
 "cells": [
  {
   "cell_type": "code",
   "execution_count": 5,
   "metadata": {},
   "outputs": [
    {
     "name": "stdout",
     "output_type": "stream",
     "text": [
      "2\n"
     ]
    }
   ],
   "source": [
    "import math\n",
    "class TreeNode:\n",
    "    def __init__(self, val=0, left=None, right=None):\n",
    "        self.val = val\n",
    "        self.left = left\n",
    "        self.right = right\n",
    "class Solution:\n",
    "    def lowestCommonAncestor(self, root, p, q):\n",
    "        if p.val > q.val:\n",
    "            p, q = q, p\n",
    "        def navigate(node):\n",
    "            if p.val < node.val < q.val:\n",
    "                return node\n",
    "            if node.val == p.val or node.val == q.val:\n",
    "                return node\n",
    "            else:\n",
    "                if p.val < node.val:\n",
    "                    return navigate(node.left)\n",
    "                else:\n",
    "                    return navigate(node.right)\n",
    "        return navigate(root)\n",
    "\n",
    "\n",
    "            \n",
    "\n",
    "# Create the tree nodes\n",
    "node0 = TreeNode(0)\n",
    "node1 = TreeNode(1)\n",
    "node2 = TreeNode(2)\n",
    "node3 = TreeNode(3)\n",
    "node4 = TreeNode(4)\n",
    "node5 = TreeNode(5)\n",
    "node6 = TreeNode(6)\n",
    "node7 = TreeNode(7)\n",
    "node8 = TreeNode(8)\n",
    "node9 = TreeNode(9)\n",
    "\n",
    "# # Assemble the tree as per the provided structure\n",
    "# node6.left = node2\n",
    "# node6.right = node8\n",
    "# node2.left = node0\n",
    "# node2.right = node4\n",
    "# node0.right = node3\n",
    "# node4.right = node5\n",
    "# node8.left = node7\n",
    "# node8.right = node9\n",
    "\n",
    "node2.left = node1\n",
    "node2.right = node3\n",
    "\n",
    "sol = Solution()\n",
    "print(sol.lowestCommonAncestor(node2, ))\n",
    "\n"
   ]
  }
 ],
 "metadata": {
  "kernelspec": {
   "display_name": "Python 3",
   "language": "python",
   "name": "python3"
  },
  "language_info": {
   "codemirror_mode": {
    "name": "ipython",
    "version": 3
   },
   "file_extension": ".py",
   "mimetype": "text/x-python",
   "name": "python",
   "nbconvert_exporter": "python",
   "pygments_lexer": "ipython3",
   "version": "3.10.2"
  }
 },
 "nbformat": 4,
 "nbformat_minor": 2
}
