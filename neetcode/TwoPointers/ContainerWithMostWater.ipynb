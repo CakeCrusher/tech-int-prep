{
 "cells": [
  {
   "cell_type": "code",
   "execution_count": 2,
   "metadata": {},
   "outputs": [
    {
     "name": "stdout",
     "output_type": "stream",
     "text": [
      "49\n",
      "1\n"
     ]
    }
   ],
   "source": [
    "class Solution(object):\n",
    "    def maxArea(self, height):\n",
    "        \"\"\"\n",
    "        :type height: List[int]\n",
    "        :rtype: int\n",
    "        \"\"\"\n",
    "        l, r = 0, len(height) - 1\n",
    "        max_area = 0\n",
    "        while l < r:\n",
    "            height_l = height[l]\n",
    "            height_r = height[r]\n",
    "            area = min(height_l, height_r) * (r - l)\n",
    "            max_area = max(max_area, area)\n",
    "            if height_l < height_r:\n",
    "                l += 1\n",
    "            else:\n",
    "                r -= 1\n",
    "        return max_area\n",
    "s = Solution()\n",
    "print(s.maxArea([1,8,6,2,5,4,8,3,7]))\n",
    "print(s.maxArea([1,1]))\n",
    "\n"
   ]
  }
 ],
 "metadata": {
  "kernelspec": {
   "display_name": "Python 3.10.2 ('env')",
   "language": "python",
   "name": "python3"
  },
  "language_info": {
   "codemirror_mode": {
    "name": "ipython",
    "version": 3
   },
   "file_extension": ".py",
   "mimetype": "text/x-python",
   "name": "python",
   "nbconvert_exporter": "python",
   "pygments_lexer": "ipython3",
   "version": "3.10.2"
  },
  "orig_nbformat": 4,
  "vscode": {
   "interpreter": {
    "hash": "8ebb0fa82196ab5cd02a5b231fa8fb6d37dc58c342ef6ac8d3ed2447e0dae4a4"
   }
  }
 },
 "nbformat": 4,
 "nbformat_minor": 2
}
