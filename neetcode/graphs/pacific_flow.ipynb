{
 "cells": [
  {
   "cell_type": "code",
   "execution_count": 6,
   "metadata": {},
   "outputs": [
    {
     "data": {
      "text/plain": [
       "[[0, 4], [1, 3], [1, 4], [2, 2], [3, 0], [3, 1], [4, 0]]"
      ]
     },
     "execution_count": 6,
     "metadata": {},
     "output_type": "execute_result"
    }
   ],
   "source": [
    "class Solution(object):\n",
    "    def pacificAtlantic(self, heights):\n",
    "        \"\"\"\n",
    "        :type heights: List[List[int]]\n",
    "        :rtype: List[List[int]]\n",
    "        \"\"\"\n",
    "        COLS, ROWS = len(heights), len(heights[0])\n",
    "        pac, atl = set(), set()\n",
    "        res = []\n",
    "\n",
    "        def dfs(c, r, ocean, prev_height):\n",
    "            if r < 0 or c < 0 or r == ROWS or c == COLS or heights[c][r] < prev_height or (c,r) in ocean:\n",
    "                return\n",
    "            ocean.add((c,r))\n",
    "            moves = [(0,1), (0,-1), (1,0), (-1,0)]\n",
    "            for mv, mh in moves:\n",
    "                dfs(c+mv, r+mh, ocean, heights[c][r])\n",
    "\n",
    "\n",
    "        for r in range(ROWS):\n",
    "            dfs(COLS-1, r, atl, heights[COLS-1][r])\n",
    "            dfs(0, r, pac, heights[0][r])\n",
    "        \n",
    "        for c in range(COLS):\n",
    "            dfs(c, ROWS-1, atl, heights[c][ROWS-1])\n",
    "            dfs(c, 0, pac, heights[c][0])\n",
    "        \n",
    "        for c in range(COLS):\n",
    "            for r in range(ROWS):\n",
    "                if (c, r) in pac and (c, r) in atl:\n",
    "                    res.append([c,r])\n",
    "        \n",
    "        return res\n",
    "\n",
    "\n",
    "        \n",
    "\n",
    "heights = [[1,2,2,3,5],[3,2,3,4,4],[2,4,5,3,1],[6,7,1,4,5],[5,1,1,2,4]]\n",
    "s = Solution()\n",
    "s.pacificAtlantic(heights)"
   ]
  },
  {
   "cell_type": "code",
   "execution_count": null,
   "metadata": {},
   "outputs": [],
   "source": []
  }
 ],
 "metadata": {
  "kernelspec": {
   "display_name": "Python 3.10.2 ('env')",
   "language": "python",
   "name": "python3"
  },
  "language_info": {
   "codemirror_mode": {
    "name": "ipython",
    "version": 3
   },
   "file_extension": ".py",
   "mimetype": "text/x-python",
   "name": "python",
   "nbconvert_exporter": "python",
   "pygments_lexer": "ipython3",
   "version": "3.10.2"
  },
  "orig_nbformat": 4,
  "vscode": {
   "interpreter": {
    "hash": "8ebb0fa82196ab5cd02a5b231fa8fb6d37dc58c342ef6ac8d3ed2447e0dae4a4"
   }
  }
 },
 "nbformat": 4,
 "nbformat_minor": 2
}
