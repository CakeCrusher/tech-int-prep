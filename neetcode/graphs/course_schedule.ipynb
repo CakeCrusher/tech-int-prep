{
 "cells": [
  {
   "cell_type": "markdown",
   "metadata": {},
   "source": [
    "- draw a linked tree\n",
    "# adjecency list\n",
    "- get a list of all things related to the target\n",
    "- it allows you to get all associations of the target"
   ]
  },
  {
   "cell_type": "code",
   "execution_count": 19,
   "metadata": {},
   "outputs": [
    {
     "data": {
      "text/plain": [
       "True"
      ]
     },
     "execution_count": 19,
     "metadata": {},
     "output_type": "execute_result"
    }
   ],
   "source": [
    "class Solution(object):\n",
    "    def canFinish(self, numCourses, prerequisites):\n",
    "        \"\"\"\n",
    "        :type numCourses: int\n",
    "        :type prerequisites: List[List[int]]\n",
    "        :rtype: bool\n",
    "        \"\"\"\n",
    "        if not prerequisites:\n",
    "            return True\n",
    "        normal, sted = set(), set()\n",
    "        COLS, ROWS = len(prerequisites), len(prerequisites[0])\n",
    "        for c in range(COLS):\n",
    "            for r in range(ROWS-1):\n",
    "                pair = (prerequisites[c][r], prerequisites[c][r+1])\n",
    "                spair = tuple(sorted(pair))\n",
    "                if spair in sted and pair not in normal:\n",
    "                    return False\n",
    "                normal.add(pair)\n",
    "                sted.add(spair)\n",
    "        return True\n",
    "\n",
    "        \n",
    "        \n",
    "numCourses = 20\n",
    "prerequisites = [[0,10],[3,18],[5,5],[6,11],[11,14],[13,1],[15,1],[17,4]]\n",
    "s = Solution()\n",
    "s.canFinish(numCourses, prerequisites)"
   ]
  },
  {
   "cell_type": "code",
   "execution_count": 46,
   "metadata": {},
   "outputs": [
    {
     "data": {
      "text/plain": [
       "False"
      ]
     },
     "execution_count": 46,
     "metadata": {},
     "output_type": "execute_result"
    }
   ],
   "source": [
    "import collections\n",
    "\n",
    "\n",
    "class Solution(object):\n",
    "    def canFinish(self, numCourses, prerequisites):\n",
    "        \"\"\"\n",
    "        :type numCourses: int\n",
    "        :type prerequisites: List[List[int]]\n",
    "        :rtype: bool\n",
    "        \"\"\"\n",
    "        pset = set(map(lambda x: tuple(x), prerequisites))\n",
    "        # flatten the list\n",
    "        class_preqs = collections.defaultdict(set)\n",
    "        for p in pset:\n",
    "            class_preqs[p[0]].add(p[0])\n",
    "            class_preqs[p[0]].add(p[1])\n",
    "\n",
    "        for p in pset:\n",
    "            cls, pr = p\n",
    "            # if cls is a prerequesite of a class in its prerequisites\n",
    "            pr_chain = set()\n",
    "            q = collections.deque()\n",
    "            q.append(pr)\n",
    "            while q:\n",
    "                pr = q.popleft()\n",
    "                if pr not in pr_chain:\n",
    "                    pr_chain.add(pr)\n",
    "                    for new_pr in class_preqs[pr]:\n",
    "                        q.append(new_pr)\n",
    "            if cls in pr_chain:\n",
    "                return False\n",
    "        return True\n",
    "\n",
    "\n",
    "\n",
    "        \n",
    "        \n",
    "numCourses = 20\n",
    "prerequisites = [[1,4],[2,4],[3,1],[3,2], [4,2]]\n",
    "s = Solution()\n",
    "s.canFinish(numCourses, prerequisites)"
   ]
  },
  {
   "cell_type": "code",
   "execution_count": 48,
   "metadata": {},
   "outputs": [
    {
     "data": {
      "text/plain": [
       "False"
      ]
     },
     "execution_count": 48,
     "metadata": {},
     "output_type": "execute_result"
    }
   ],
   "source": [
    "import collections\n",
    "\n",
    "\n",
    "class Solution(object):\n",
    "    def canFinish(self, numCourses, prerequisites):\n",
    "        \"\"\"\n",
    "        :type numCourses: int\n",
    "        :type prerequisites: List[List[int]]\n",
    "        :rtype: bool\n",
    "        \"\"\"\n",
    "        pset = set(map(lambda x: tuple(x), prerequisites))\n",
    "        # flatten the list\n",
    "        class_preqs = collections.defaultdict(set)\n",
    "        for p in pset:\n",
    "            class_preqs[p[0]].add(p[0])\n",
    "            class_preqs[p[0]].add(p[1])\n",
    "\n",
    "        for p in pset:\n",
    "            cls, pr = p\n",
    "            # if cls is a prerequesite of a class in its prerequisites\n",
    "            pr_chain = set()\n",
    "            q = collections.deque()\n",
    "            q.append(pr)\n",
    "            while q:\n",
    "                pr = q.popleft()\n",
    "                if pr not in pr_chain:\n",
    "                    pr_chain.add(pr)\n",
    "                    for new_pr in class_preqs[pr]:\n",
    "                        q.append(new_pr)\n",
    "            if cls in pr_chain:\n",
    "                return False\n",
    "        return True\n",
    "\n",
    "\n",
    "\n",
    "        \n",
    "        \n",
    "numCourses = 20\n",
    "prerequisites = [[1,4],[2,4],[3,1],[3,2], [4,2]]\n",
    "s = Solution()\n",
    "s.canFinish(numCourses, prerequisites)"
   ]
  },
  {
   "cell_type": "code",
   "execution_count": 61,
   "metadata": {},
   "outputs": [
    {
     "data": {
      "text/plain": [
       "False"
      ]
     },
     "execution_count": 61,
     "metadata": {},
     "output_type": "execute_result"
    }
   ],
   "source": [
    "import collections\n",
    " \n",
    "class Solution(object):\n",
    "    def canFinish(self, numCourses, prerequisites):\n",
    "        \"\"\"\n",
    "        :type numCourses: int\n",
    "        :type prerequisites: List[List[int]]\n",
    "        :rtype: bool\n",
    "        \"\"\"\n",
    "        classes_preqs = {i:[] for i in range(numCourses)}\n",
    "        for p in prerequisites:\n",
    "            classes_preqs[p[0]].append(p[1])\n",
    "        visited = set()\n",
    "        def dfs(cls):\n",
    "            if cls in visited:\n",
    "                return False\n",
    "            if classes_preqs[cls] == []:\n",
    "                return True\n",
    "            visited.add(cls)\n",
    "            for preq in classes_preqs[cls]:\n",
    "                if not dfs(preq):\n",
    "                    return False\n",
    "            visited.remove(cls)\n",
    "            classes_preqs[cls] = []\n",
    "            return True\n",
    "        \n",
    "        for cls in classes_preqs:\n",
    "            res = dfs(cls)\n",
    "            if not res:\n",
    "                return False\n",
    "        return True\n",
    "        \n",
    "numCourses = 20\n",
    "prerequisites = [[1,4],[2,4],[3,1],[3,2], [4,2]]\n",
    "s = Solution()\n",
    "s.canFinish(numCourses, prerequisites)"
   ]
  },
  {
   "cell_type": "code",
   "execution_count": 50,
   "metadata": {},
   "outputs": [
    {
     "data": {
      "text/plain": [
       "[1, 2, 3, 4]"
      ]
     },
     "execution_count": 50,
     "metadata": {},
     "output_type": "execute_result"
    }
   ],
   "source": [
    "[1,2] + [3,4]"
   ]
  },
  {
   "cell_type": "code",
   "execution_count": null,
   "metadata": {},
   "outputs": [],
   "source": []
  }
 ],
 "metadata": {
  "kernelspec": {
   "display_name": "Python 3.10.2 ('env')",
   "language": "python",
   "name": "python3"
  },
  "language_info": {
   "codemirror_mode": {
    "name": "ipython",
    "version": 3
   },
   "file_extension": ".py",
   "mimetype": "text/x-python",
   "name": "python",
   "nbconvert_exporter": "python",
   "pygments_lexer": "ipython3",
   "version": "3.10.2"
  },
  "orig_nbformat": 4,
  "vscode": {
   "interpreter": {
    "hash": "8ebb0fa82196ab5cd02a5b231fa8fb6d37dc58c342ef6ac8d3ed2447e0dae4a4"
   }
  }
 },
 "nbformat": 4,
 "nbformat_minor": 2
}
