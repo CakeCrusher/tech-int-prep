{
 "cells": [
  {
   "cell_type": "markdown",
   "metadata": {},
   "source": [
    "# union find\n",
    "- determine if two elements are in the same subset\n",
    "- join two subsets\n",
    "- create a parnet list that leads to the same node\n"
   ]
  },
  {
   "cell_type": "code",
   "execution_count": null,
   "metadata": {},
   "outputs": [],
   "source": []
  },
  {
   "cell_type": "code",
   "execution_count": 1,
   "metadata": {},
   "outputs": [
    {
     "data": {
      "text/plain": [
       "[0, 1, 2, 3]"
      ]
     },
     "execution_count": 1,
     "metadata": {},
     "output_type": "execute_result"
    }
   ],
   "source": [
    "import collections\n",
    "\n",
    "\n",
    "class Solution(object):\n",
    "    def findRedundantConnection(self, edges):\n",
    "        \"\"\"\n",
    "        :type edges: List[List[int]]\n",
    "        :rtype: List[int]\n",
    "        \"\"\"\n",
    "        # create an adjacency list\n",
    "        adj_list = collections.defaultdict(list)\n",
    "        for edge in edges:\n",
    "            adj_list[edge[0]].append(edge[1])\n",
    "            # adj_list[edge[1]].append(edge[0])\n",
    "        \n",
    "        visited = set()\n",
    "\n",
    "        def dfs(node, parent, grandparent):\n",
    "            if node == grandparent:\n",
    "                return False\n",
    "            if node in visited:\n",
    "                return True\n",
    "            \n",
    "            visited.add(parent)\n",
    "\n",
    "            for child in adj_list[node]:\n",
    "                if dfs(child, node, parent):\n",
    "                    return True\n",
    "            \n",
    "            visited.remove(parent)\n",
    "\n",
    "            return False            \n",
    "\n",
    "        possible_edges = []\n",
    "        for edge in edges:\n",
    "            if dfs(edge[0], edge[1], -1):\n",
    "                possible_edges.append(edge)\n",
    "\n",
    "        return possible_edges\n",
    "\n",
    "s = Solution()\n",
    "s.findRedundantConnection([[1,2],[1,3],[2,3]])"
   ]
  },
  {
   "cell_type": "code",
   "execution_count": 10,
   "metadata": {},
   "outputs": [
    {
     "data": {
      "text/plain": [
       "[2, 3]"
      ]
     },
     "execution_count": 10,
     "metadata": {},
     "output_type": "execute_result"
    }
   ],
   "source": [
    "import collections\n",
    "\n",
    "\n",
    "class Solution(object):\n",
    "    def findRedundantConnection(self, edges):\n",
    "        \"\"\"\n",
    "        :type edges: List[List[int]]\n",
    "        :rtype: List[int]\n",
    "        \"\"\"\n",
    "        par = [i for i in range(len(edges)+1)]\n",
    "        rank = [1 for i in range(len(edges)+1)]\n",
    "\n",
    "        def find(node):\n",
    "            p = par[node]\n",
    "            while par[p] != p:\n",
    "                # path compression is to shorten the amount of links\n",
    "                par[p] = par[par[p]]\n",
    "                p = par[p]\n",
    "            return p\n",
    "        def union(node1, node2):\n",
    "            p1, p2 = find(node1), find(node2)\n",
    "            if p1 == p2:\n",
    "                return True\n",
    "            if rank[p1] >= rank[p2]:\n",
    "                par[p2] = p1\n",
    "                rank[p1] += 1\n",
    "            else:\n",
    "                par[p1] = p2\n",
    "                rank[p2] += 1\n",
    "            return False\n",
    "        for edge in edges:\n",
    "            if union(edge[0], edge[1]):\n",
    "                return edge\n",
    "\n",
    "\n",
    "\n",
    "s = Solution()\n",
    "# s.findRedundantConnection([[1,2],[1,3],[2,3]])\n",
    "s.findRedundantConnection([[1,2],[2,3],[3,4],[1,4],[1,5]])"
   ]
  },
  {
   "cell_type": "code",
   "execution_count": 13,
   "metadata": {},
   "outputs": [
    {
     "data": {
      "text/plain": [
       "[2, 3]"
      ]
     },
     "execution_count": 13,
     "metadata": {},
     "output_type": "execute_result"
    }
   ],
   "source": [
    "import collections\n",
    "\n",
    "\n",
    "class Solution(object):\n",
    "    def findRedundantConnection(self, edges):\n",
    "        \"\"\"\n",
    "        :type edges: List[List[int]]\n",
    "        :rtype: List[int]\n",
    "        \"\"\"\n",
    "        parents = [i for i in range(len(edges) + 1)]\n",
    "\n",
    "        def find(n):\n",
    "            if n == parents[n]:\n",
    "                return n\n",
    "            return find(parents[n])\n",
    "        \n",
    "        def union(edge):\n",
    "            p1, p2 = find(edge[0]), find(edge[1])\n",
    "            if p1 == p2:\n",
    "                return True\n",
    "            parents[p1] = p2\n",
    "            return False\n",
    "        \n",
    "        for edge in edges:\n",
    "            if union(edge):\n",
    "                return edge\n",
    "\n",
    "\n",
    "\n",
    "s = Solution()\n",
    "s.findRedundantConnection([[1,2],[1,3],[2,3]])\n",
    "# s.findRedundantConnection([[1,2],[2,3],[3,4],[1,4],[1,5]])"
   ]
  },
  {
   "cell_type": "code",
   "execution_count": null,
   "metadata": {},
   "outputs": [],
   "source": []
  }
 ],
 "metadata": {
  "kernelspec": {
   "display_name": "Python 3.10.2 ('env')",
   "language": "python",
   "name": "python3"
  },
  "language_info": {
   "codemirror_mode": {
    "name": "ipython",
    "version": 3
   },
   "file_extension": ".py",
   "mimetype": "text/x-python",
   "name": "python",
   "nbconvert_exporter": "python",
   "pygments_lexer": "ipython3",
   "version": "3.10.2"
  },
  "orig_nbformat": 4,
  "vscode": {
   "interpreter": {
    "hash": "8ebb0fa82196ab5cd02a5b231fa8fb6d37dc58c342ef6ac8d3ed2447e0dae4a4"
   }
  }
 },
 "nbformat": 4,
 "nbformat_minor": 2
}
