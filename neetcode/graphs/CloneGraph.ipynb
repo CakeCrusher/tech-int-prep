{
 "cells": [
  {
   "cell_type": "markdown",
   "metadata": {},
   "source": [
    "# 0: custom depth first search\n",
    "- had components that pertained to a breadth first search approach\n",
    "  - organizing the connections would only work for breadth first search"
   ]
  },
  {
   "cell_type": "code",
   "execution_count": null,
   "metadata": {},
   "outputs": [],
   "source": [
    "# 0\n",
    "# Definition for a Node.\n",
    "class Node(object):\n",
    "    def __init__(self, val = 0, neighbors = None):\n",
    "        self.val = val\n",
    "        self.neighbors = neighbors if neighbors is not None else []\n",
    "\n",
    "class Solution(object):\n",
    "    def cloneGraph(self, node):\n",
    "        \"\"\"\n",
    "        :type node: Node\n",
    "        :rtype: Node\n",
    "        \"\"\"\n",
    "        connections = set()\n",
    "        nodes = {}\n",
    "        def createNode(node):\n",
    "            if not node:\n",
    "                return None\n",
    "            newNode = Node(node.val)\n",
    "            nodes[node.val] = newNode\n",
    "            for nb_node in node.neighbors:\n",
    "                combination = (node.val, nb_node.val)\n",
    "                if combination not in connections:\n",
    "                    connections.add(combination)\n",
    "                    if nb_node.val in nodes:\n",
    "                        newNode.neighbors.append(nodes[nb_node.val])\n",
    "                        # newNode.neighbors.append(nb_node.val)\n",
    "                    else:\n",
    "                        # newNode.neighbors.append(nb_node.val)\n",
    "                        neighbor_node = createNode(nb_node)\n",
    "                        newNode.neighbors.append(neighbor_node)\n",
    "            return newNode\n",
    "\n",
    "        root = createNode(node)\n",
    "        return root\n"
   ]
  },
  {
   "cell_type": "markdown",
   "metadata": {},
   "source": [
    "# 1: NeetCode blind copy\n",
    "- storage is better but speed is worse"
   ]
  },
  {
   "cell_type": "code",
   "execution_count": 15,
   "metadata": {},
   "outputs": [
    {
     "data": {
      "text/plain": [
       "False"
      ]
     },
     "execution_count": 15,
     "metadata": {},
     "output_type": "execute_result"
    }
   ],
   "source": [
    "# 1\n",
    "# Definition for a Node.\n",
    "class Node(object):\n",
    "    def __init__(self, val = 0, neighbors = None):\n",
    "        self.val = val\n",
    "        self.neighbors = neighbors if neighbors is not None else []\n",
    "\n",
    "class Solution(object):\n",
    "    def cloneGraph(self, node):\n",
    "        \"\"\"\n",
    "        :type node: Node\n",
    "        :rtype: Node\n",
    "        \"\"\"\n",
    "        oldToNew = {}\n",
    "        def dfs(node):\n",
    "            if node in oldToNew:\n",
    "                return oldToNew[node]\n",
    "            newNode = Node(node.val)\n",
    "            oldToNew[node] = newNode\n",
    "            for nb in node.neighbors:\n",
    "                newNode.neighbors.append(dfs(nb))\n",
    "            return newNode\n",
    "        \n",
    "        return dfs(node) if node else None\n",
    "\n"
   ]
  }
 ],
 "metadata": {
  "kernelspec": {
   "display_name": "Python 3.10.2 ('env')",
   "language": "python",
   "name": "python3"
  },
  "language_info": {
   "codemirror_mode": {
    "name": "ipython",
    "version": 3
   },
   "file_extension": ".py",
   "mimetype": "text/x-python",
   "name": "python",
   "nbconvert_exporter": "python",
   "pygments_lexer": "ipython3",
   "version": "3.10.2"
  },
  "orig_nbformat": 4,
  "vscode": {
   "interpreter": {
    "hash": "8ebb0fa82196ab5cd02a5b231fa8fb6d37dc58c342ef6ac8d3ed2447e0dae4a4"
   }
  }
 },
 "nbformat": 4,
 "nbformat_minor": 2
}
