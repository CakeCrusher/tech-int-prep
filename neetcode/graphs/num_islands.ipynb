{
 "cells": [
  {
   "cell_type": "markdown",
   "metadata": {},
   "source": [
    "# graphs\n",
    "could use a breadth first search"
   ]
  },
  {
   "cell_type": "code",
   "execution_count": 3,
   "metadata": {},
   "outputs": [
    {
     "data": {
      "text/plain": [
       "3"
      ]
     },
     "execution_count": 3,
     "metadata": {},
     "output_type": "execute_result"
    }
   ],
   "source": [
    "class Solution(object):\n",
    "    def numIslands(self, grid):\n",
    "        \"\"\"\n",
    "        :type grid: List[List[str]]\n",
    "        :rtype: int\n",
    "        \"\"\"\n",
    "        # find 1s in the row\n",
    "        island_count = 2\n",
    "        def find_neightbor(grid, x, y):\n",
    "            left_shift = x-1\n",
    "            right_shift = x+1\n",
    "            up_shift = y-1\n",
    "            down_shift = y+1\n",
    "            if left_shift >= 0 and grid[y][left_shift] == '1':\n",
    "                grid[y][left_shift] = island_count\n",
    "                find_neightbor(grid, left_shift, y)\n",
    "            if right_shift < len(grid[0]) and grid[y][right_shift] == '1':\n",
    "                grid[y][right_shift] = island_count\n",
    "                find_neightbor(grid, right_shift, y)\n",
    "            if up_shift >= 0 and grid[up_shift][x] == '1':\n",
    "                grid[up_shift][x] = island_count\n",
    "                find_neightbor(grid, x, up_shift)\n",
    "            if down_shift < len(grid) and grid[down_shift][x] == '1':\n",
    "                grid[down_shift][x] = island_count\n",
    "                find_neightbor(grid, x, down_shift)\n",
    "                \n",
    "        for y in range(len(grid)):\n",
    "            for x in range(len(grid[0])):\n",
    "                if grid[y][x] == '1':\n",
    "                    find_neightbor(grid, x, y)\n",
    "                    island_count += 1\n",
    "        return island_count - 2\n",
    "\n",
    "        # set island count to 2 and increment for each island\n",
    "        # when found, check surroundings, change island number, repeat\n",
    "\n",
    "\n",
    "grid = [\n",
    "  [\"1\",\"1\",\"0\",\"0\",\"0\"],\n",
    "  [\"1\",\"1\",\"0\",\"0\",\"0\"],\n",
    "  [\"0\",\"0\",\"1\",\"0\",\"0\"],\n",
    "  [\"0\",\"0\",\"0\",\"1\",\"1\"]\n",
    "]\n",
    "s = Solution()\n",
    "s.numIslands(grid)"
   ]
  },
  {
   "cell_type": "code",
   "execution_count": 6,
   "metadata": {},
   "outputs": [
    {
     "data": {
      "text/plain": [
       "3"
      ]
     },
     "execution_count": 6,
     "metadata": {},
     "output_type": "execute_result"
    }
   ],
   "source": [
    "from collections import deque\n",
    "class Solution(object):\n",
    "    def numIslands(self, grid):\n",
    "        \"\"\"\n",
    "        :type grid: List[List[str]]\n",
    "        :rtype: int\n",
    "        \"\"\"\n",
    "        rows, cols = len(grid), len(grid[0])\n",
    "        islands = 0\n",
    "        viewed = set()\n",
    "\n",
    "        def dfs(r, c):\n",
    "            q = deque()\n",
    "            q.append((r,c))\n",
    "            while q:\n",
    "                r, c = q.popleft()\n",
    "                moves = [[1,0], [-1,0], [0,1], [0,-1]]\n",
    "                for mr, mc in moves:\n",
    "                    moved_r = r + mr\n",
    "                    moved_c = c + mc  \n",
    "                    if (moved_r in range(rows) and\n",
    "                    moved_c in range(cols) and\n",
    "                    grid[moved_r][moved_c] == '1' and\n",
    "                    (moved_r, moved_c) not in viewed):\n",
    "                        q.append((moved_r, moved_c))\n",
    "                        viewed.add((moved_r, moved_c))\n",
    "\n",
    "\n",
    "        for r in range(rows):\n",
    "            for c in range(cols):\n",
    "                if grid[r][c] == '1' and (r,c) not in viewed:\n",
    "                    islands += 1\n",
    "                    dfs(r,c)\n",
    "        \n",
    "        return islands\n",
    "\n",
    "        \n",
    "\n",
    "\n",
    "grid = [\n",
    "  [\"1\",\"1\",\"0\",\"0\",\"0\"],\n",
    "  [\"1\",\"1\",\"0\",\"0\",\"0\"],\n",
    "  [\"0\",\"0\",\"1\",\"0\",\"0\"],\n",
    "  [\"0\",\"0\",\"0\",\"1\",\"1\"]\n",
    "]\n",
    "s = Solution()\n",
    "s.numIslands(grid)"
   ]
  },
  {
   "cell_type": "code",
   "execution_count": null,
   "metadata": {},
   "outputs": [],
   "source": []
  }
 ],
 "metadata": {
  "kernelspec": {
   "display_name": "Python 3.10.2 ('env')",
   "language": "python",
   "name": "python3"
  },
  "language_info": {
   "codemirror_mode": {
    "name": "ipython",
    "version": 3
   },
   "file_extension": ".py",
   "mimetype": "text/x-python",
   "name": "python",
   "nbconvert_exporter": "python",
   "pygments_lexer": "ipython3",
   "version": "3.10.2"
  },
  "orig_nbformat": 4,
  "vscode": {
   "interpreter": {
    "hash": "8ebb0fa82196ab5cd02a5b231fa8fb6d37dc58c342ef6ac8d3ed2447e0dae4a4"
   }
  }
 },
 "nbformat": 4,
 "nbformat_minor": 2
}
