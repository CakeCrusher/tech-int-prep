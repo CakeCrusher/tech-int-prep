{
 "cells": [
  {
   "cell_type": "code",
   "execution_count": 15,
   "metadata": {},
   "outputs": [
    {
     "name": "stdout",
     "output_type": "stream",
     "text": [
      "2\n",
      "1\n",
      "2\n",
      "2\n"
     ]
    }
   ],
   "source": [
    "class Solution(object):\n",
    "    def jump(self, nums):\n",
    "        \"\"\"\n",
    "        :type nums: List[int]\n",
    "        :rtype: int\n",
    "        \"\"\"\n",
    "        curr_idx = 0\n",
    "        jumps = 0\n",
    "        while curr_idx < len(nums) - 1:\n",
    "            jump_len = nums[curr_idx]\n",
    "            if curr_idx + jump_len >= len(nums) - 1:\n",
    "                jumps += 1\n",
    "                break\n",
    "            options = nums[curr_idx + 1: curr_idx + 1 + jump_len]\n",
    "            options = [i + idx for idx, i in enumerate(options)]\n",
    "            max_idx = options.index(max(options))\n",
    "            curr_idx = curr_idx + 1 + max_idx\n",
    "            jumps += 1\n",
    "        return jumps\n",
    "\n",
    "s = Solution()\n",
    "print(s.jump([1,2,3]))\n",
    "print(s.jump([2,3,1]))\n",
    "print(s.jump([2,3,1,1,4]))\n",
    "print(s.jump([2,3,0,1,4]))"
   ]
  },
  {
   "cell_type": "code",
   "execution_count": 23,
   "metadata": {},
   "outputs": [
    {
     "name": "stdout",
     "output_type": "stream",
     "text": [
      "2\n",
      "1\n",
      "2\n",
      "2\n"
     ]
    }
   ],
   "source": [
    "class Solution(object):\n",
    "    def jump(self, nums):\n",
    "        \"\"\"\n",
    "        :type nums: List[int]\n",
    "        :rtype: int\n",
    "        \"\"\"\n",
    "        jumps = 0\n",
    "        l = r = 0\n",
    "        while r < len(nums) - 1:\n",
    "            farthest = 0\n",
    "            for i in range(l,r+1):\n",
    "                farthest = max(farthest, i+nums[i])\n",
    "            l,r = r+1, farthest\n",
    "            jumps += 1\n",
    "        return jumps\n",
    "        \n",
    "\n",
    "s = Solution()\n",
    "print(s.jump([1,2,3]))\n",
    "print(s.jump([2,3,1]))\n",
    "print(s.jump([2,3,1,1,4]))\n",
    "print(s.jump([2,3,0,1,4]))"
   ]
  },
  {
   "cell_type": "code",
   "execution_count": 19,
   "metadata": {},
   "outputs": [
    {
     "name": "stdout",
     "output_type": "stream",
     "text": [
      "1\n",
      "2\n",
      "3\n",
      "4\n"
     ]
    }
   ],
   "source": [
    "for i in range(1,5):\n",
    "    print(i)"
   ]
  }
 ],
 "metadata": {
  "kernelspec": {
   "display_name": "Python 3.10.2 ('env')",
   "language": "python",
   "name": "python3"
  },
  "language_info": {
   "codemirror_mode": {
    "name": "ipython",
    "version": 3
   },
   "file_extension": ".py",
   "mimetype": "text/x-python",
   "name": "python",
   "nbconvert_exporter": "python",
   "pygments_lexer": "ipython3",
   "version": "3.10.2"
  },
  "orig_nbformat": 4,
  "vscode": {
   "interpreter": {
    "hash": "8ebb0fa82196ab5cd02a5b231fa8fb6d37dc58c342ef6ac8d3ed2447e0dae4a4"
   }
  }
 },
 "nbformat": 4,
 "nbformat_minor": 2
}
