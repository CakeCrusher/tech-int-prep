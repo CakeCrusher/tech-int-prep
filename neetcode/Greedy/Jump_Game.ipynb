{
 "cells": [
  {
   "cell_type": "code",
   "execution_count": 12,
   "metadata": {},
   "outputs": [
    {
     "name": "stdout",
     "output_type": "stream",
     "text": [
      "True\n"
     ]
    }
   ],
   "source": [
    "class Solution(object):\n",
    "    def canJump(self, nums):\n",
    "        \"\"\"\n",
    "        :type nums: List[int]\n",
    "        :rtype: bool\n",
    "        \"\"\"\n",
    "        curr_idx = 0\n",
    "        while curr_idx < len(nums) - 1:\n",
    "            try: \n",
    "                if nums[curr_idx] == 0:\n",
    "                    return False\n",
    "                curr_val = nums[curr_idx]\n",
    "                options = nums[curr_idx + 1 : curr_idx + curr_val + 1]\n",
    "                options = [i + idx for idx, i in enumerate(options)] \n",
    "                # get idx of max value\n",
    "                max_idx = options.index(max(options))\n",
    "                curr_idx = curr_idx + max_idx + 1\n",
    "            except IndexError:\n",
    "                return True\n",
    "        return True\n",
    "        \n",
    "s = Solution()\n",
    "print(s.canJump([3,2,1,0]))"
   ]
  },
  {
   "cell_type": "code",
   "execution_count": 23,
   "metadata": {},
   "outputs": [
    {
     "name": "stdout",
     "output_type": "stream",
     "text": [
      "False\n"
     ]
    }
   ],
   "source": [
    "class Solution(object):\n",
    "    def canJump(self, nums):\n",
    "        \"\"\"\n",
    "        :type nums: List[int]\n",
    "        :rtype: bool\n",
    "        \"\"\"\n",
    "        goal_idx = len(nums)-1\n",
    "        for idx in range(len(nums)-2, -1, -1):\n",
    "            if idx + nums[idx] >= goal_idx:\n",
    "                goal_idx = idx\n",
    "        \n",
    "        return True if goal_idx == 0 else False\n",
    "        \n",
    "s = Solution()\n",
    "print(s.canJump([3,2,1,0,4]))"
   ]
  },
  {
   "cell_type": "code",
   "execution_count": null,
   "metadata": {},
   "outputs": [],
   "source": []
  }
 ],
 "metadata": {
  "kernelspec": {
   "display_name": "Python 3.10.2 ('env')",
   "language": "python",
   "name": "python3"
  },
  "language_info": {
   "codemirror_mode": {
    "name": "ipython",
    "version": 3
   },
   "file_extension": ".py",
   "mimetype": "text/x-python",
   "name": "python",
   "nbconvert_exporter": "python",
   "pygments_lexer": "ipython3",
   "version": "3.10.2"
  },
  "orig_nbformat": 4,
  "vscode": {
   "interpreter": {
    "hash": "8ebb0fa82196ab5cd02a5b231fa8fb6d37dc58c342ef6ac8d3ed2447e0dae4a4"
   }
  }
 },
 "nbformat": 4,
 "nbformat_minor": 2
}
