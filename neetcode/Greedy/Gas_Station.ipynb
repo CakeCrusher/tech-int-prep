{
 "cells": [
  {
   "cell_type": "markdown",
   "metadata": {},
   "source": [
    "# Optimal solution - 2\n",
    "- the check at the beggining to see if there is a solution at all reduces the problem to one where there is a guarantee that there will be a solution."
   ]
  },
  {
   "cell_type": "code",
   "execution_count": 22,
   "metadata": {},
   "outputs": [
    {
     "name": "stdout",
     "output_type": "stream",
     "text": [
      "-1\n",
      "5\n",
      "3\n",
      "-1\n"
     ]
    }
   ],
   "source": [
    "# 0\n",
    "# this exceeds the time limit\n",
    "class Solution(object):\n",
    "    def canCompleteCircuit(self, gas, cost):\n",
    "        \"\"\"\n",
    "        :type gas: List[int]\n",
    "        :type cost: List[int]\n",
    "        :rtype: int\n",
    "        \"\"\"\n",
    "        sum_arr = [gas[i] - cost[i] for i in range(len(gas))]\n",
    "        # find start points\n",
    "        curr_sum = 0\n",
    "        breaks = 0\n",
    "        start_idx = 0\n",
    "        steps = 0\n",
    "        i = 0\n",
    "        # [1,2,3] -> [-1,-1,1]\n",
    "        while steps < len(sum_arr) and breaks < len(sum_arr):\n",
    "            curr_sum += sum_arr[i%len(sum_arr)]\n",
    "            if curr_sum < 0:\n",
    "                curr_sum = 0\n",
    "                steps = 0\n",
    "                start_idx = i+1\n",
    "                breaks += 1\n",
    "            else:\n",
    "                steps += 1\n",
    "            i += 1\n",
    "        if breaks >= len(sum_arr):\n",
    "            return -1\n",
    "        return start_idx\n",
    "\n",
    "s = Solution()\n",
    "print(s.canCompleteCircuit([3,3,4],[3,4,4]))\n",
    "print(s.canCompleteCircuit([41,6,82,14,38,96,78,100,61,87,21,90], [73,27,11,61,82,72,87,21,92,1,9,52,24]))\n",
    "print(s.canCompleteCircuit([1,2,3,4,5], [3,4,5,1,2]))\n",
    "print(s.canCompleteCircuit([2,3,4], [3,4,3]))\n",
    "            "
   ]
  },
  {
   "cell_type": "code",
   "execution_count": 23,
   "metadata": {},
   "outputs": [
    {
     "name": "stdout",
     "output_type": "stream",
     "text": [
      "-1\n",
      "5\n",
      "3\n",
      "-1\n"
     ]
    }
   ],
   "source": [
    "# 1\n",
    "# I realized it should fail depending on the start index, \n",
    "# not the count of fails\n",
    "class Solution(object):\n",
    "    def canCompleteCircuit(self, gas, cost):\n",
    "        \"\"\"\n",
    "        :type gas: List[int]\n",
    "        :type cost: List[int]\n",
    "        :rtype: int\n",
    "        \"\"\"\n",
    "        sum_arr = [gas[i] - cost[i] for i in range(len(gas))]\n",
    "        # find start points\n",
    "        curr_sum = 0\n",
    "        start_idx = 0\n",
    "        steps = 0\n",
    "        i = 0\n",
    "        # [1,2,3] -> [-1,-1,1]\n",
    "        while steps < len(sum_arr) and start_idx < len(sum_arr):\n",
    "            curr_sum += sum_arr[i%len(sum_arr)]\n",
    "            if curr_sum < 0:\n",
    "                curr_sum = 0\n",
    "                steps = 0\n",
    "                start_idx = i+1\n",
    "            else:\n",
    "                steps += 1\n",
    "            i += 1\n",
    "        if start_idx >= len(sum_arr):\n",
    "            return -1\n",
    "        return start_idx\n",
    "\n",
    "s = Solution()\n",
    "print(s.canCompleteCircuit([3,3,4],[3,4,4]))\n",
    "print(s.canCompleteCircuit([41,6,82,14,38,96,78,100,61,87,21,90], [73,27,11,61,82,72,87,21,92,1,9,52,24]))\n",
    "print(s.canCompleteCircuit([1,2,3,4,5], [3,4,5,1,2]))\n",
    "print(s.canCompleteCircuit([2,3,4], [3,4,3]))\n",
    "            "
   ]
  },
  {
   "cell_type": "code",
   "execution_count": 24,
   "metadata": {},
   "outputs": [
    {
     "name": "stdout",
     "output_type": "stream",
     "text": [
      "-1\n",
      "5\n",
      "3\n",
      "-1\n"
     ]
    }
   ],
   "source": [
    "# 2\n",
    "# NeetCode copy\n",
    "class Solution(object):\n",
    "    def canCompleteCircuit(self, gas, cost):\n",
    "        \"\"\"\n",
    "        :type gas: List[int]\n",
    "        :type cost: List[int]\n",
    "        :rtype: int\n",
    "        \"\"\"\n",
    "        if sum(gas) < sum(cost):\n",
    "            return -1\n",
    "        \n",
    "        total = 0\n",
    "        start = 0\n",
    "        for i in range(len(gas)):\n",
    "            total += gas[i] - cost[i]\n",
    "            if total < 0:\n",
    "                total = 0\n",
    "                start = i + 1\n",
    "        return start\n",
    "\n",
    "s = Solution()\n",
    "print(s.canCompleteCircuit([3,3,4],[3,4,4]))\n",
    "print(s.canCompleteCircuit([41,6,82,14,38,96,78,100,61,87,21,90], [73,27,11,61,82,72,87,21,92,1,9,52,24]))\n",
    "print(s.canCompleteCircuit([1,2,3,4,5], [3,4,5,1,2]))\n",
    "print(s.canCompleteCircuit([2,3,4], [3,4,3]))\n",
    "            "
   ]
  }
 ],
 "metadata": {
  "kernelspec": {
   "display_name": "Python 3.10.2 ('env')",
   "language": "python",
   "name": "python3"
  },
  "language_info": {
   "codemirror_mode": {
    "name": "ipython",
    "version": 3
   },
   "file_extension": ".py",
   "mimetype": "text/x-python",
   "name": "python",
   "nbconvert_exporter": "python",
   "pygments_lexer": "ipython3",
   "version": "3.10.2"
  },
  "orig_nbformat": 4,
  "vscode": {
   "interpreter": {
    "hash": "8ebb0fa82196ab5cd02a5b231fa8fb6d37dc58c342ef6ac8d3ed2447e0dae4a4"
   }
  }
 },
 "nbformat": 4,
 "nbformat_minor": 2
}
