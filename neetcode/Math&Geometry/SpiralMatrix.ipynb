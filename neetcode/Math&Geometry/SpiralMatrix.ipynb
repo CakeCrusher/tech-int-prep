{
 "cells": [
  {
   "cell_type": "markdown",
   "metadata": {},
   "source": [
    "# 0 performs best\n",
    "- it does not iterate through top row and it only reverses the bottom row"
   ]
  },
  {
   "cell_type": "code",
   "execution_count": 19,
   "metadata": {},
   "outputs": [
    {
     "name": "stdout",
     "output_type": "stream",
     "text": [
      "[1, 2, 3, 6, 9, 8, 7, 4, 5]\n",
      "[1, 2, 3, 4, 8, 12, 11, 10, 9, 5, 6, 7]\n"
     ]
    }
   ],
   "source": [
    "# 0\n",
    "# excellent performance\n",
    "class Solution(object):\n",
    "    def spiralOrder(self, matrix):\n",
    "        \"\"\"\n",
    "        :type matrix: List[List[int]]\n",
    "        :rtype: List[int]\n",
    "        \"\"\"\n",
    "        # all inclusive\n",
    "        l,r = 0, len(matrix[0])-1\n",
    "        t,b = 0, len(matrix)-1\n",
    "        output = []\n",
    "        while l<=r and t<=b:\n",
    "            # assuming both that clockwise pattern continues\n",
    "            # and that it starts from top left\n",
    "            if l==r:\n",
    "                output.extend(matrix[i][l] for i in range(t,b+1))\n",
    "                break\n",
    "            if t==b:\n",
    "                output.extend(matrix[t][l:r+1])\n",
    "                break\n",
    "\n",
    "            # top row\n",
    "            output.extend(matrix[t][l:r+1])\n",
    "            # right column\n",
    "            output.extend([matrix[i][r] for i in range(t+1, b)])\n",
    "            # bottom row\n",
    "            output.extend(matrix[b][l:r+1][::-1])\n",
    "            # left column\n",
    "            output.extend([matrix[i][l] for i in range(b-1, t, -1)])\n",
    "            l+=1\n",
    "            r-=1\n",
    "            t+=1\n",
    "            b-=1\n",
    "        return output\n",
    "        \n",
    "s = Solution()\n",
    "print(s.spiralOrder([[1,2,3],[4,5,6],[7,8,9]]))\n",
    "print(s.spiralOrder([[1,2,3,4],[5,6,7,8],[9,10,11,12]]))"
   ]
  },
  {
   "cell_type": "code",
   "execution_count": 20,
   "metadata": {},
   "outputs": [
    {
     "name": "stdout",
     "output_type": "stream",
     "text": [
      "[1, 2, 3, 6, 9, 8, 7, 4, 5]\n",
      "[1, 2, 3, 4, 8, 12, 11, 10, 9, 5, 6, 7]\n"
     ]
    }
   ],
   "source": [
    "# 1\n",
    "# NeetCode post solution blind copy\n",
    "class Solution(object):\n",
    "    def spiralOrder(self, matrix):\n",
    "        \"\"\"\n",
    "        :type matrix: List[List[int]]\n",
    "        :rtype: List[int]\n",
    "        \"\"\"\n",
    "        l,r = 0, len(matrix[0])\n",
    "        t,b = 0, len(matrix)\n",
    "\n",
    "        output = []\n",
    "        while l<r and t<b:\n",
    "            for i in range(l, r):\n",
    "                output.append(matrix[t][i])\n",
    "            t += 1\n",
    "            for i in range(t,b):\n",
    "                output.append(matrix[i][r-1])\n",
    "            r -= 1\n",
    "            if not (l<r and t<b):\n",
    "                break\n",
    "            for i in range(r-1, l-1, -1):\n",
    "                output.append(matrix[b-1][i])\n",
    "            b -= 1\n",
    "            for i in range(b-1, t-1, -1):\n",
    "                output.append(matrix[i][l])\n",
    "            l += 1\n",
    "        return output\n",
    "        \n",
    "        \n",
    "s = Solution()\n",
    "print(s.spiralOrder([[1,2,3],[4,5,6],[7,8,9]]))\n",
    "print(s.spiralOrder([[1,2,3,4],[5,6,7,8],[9,10,11,12]]))"
   ]
  }
 ],
 "metadata": {
  "kernelspec": {
   "display_name": "Python 3.10.2 ('env')",
   "language": "python",
   "name": "python3"
  },
  "language_info": {
   "codemirror_mode": {
    "name": "ipython",
    "version": 3
   },
   "file_extension": ".py",
   "mimetype": "text/x-python",
   "name": "python",
   "nbconvert_exporter": "python",
   "pygments_lexer": "ipython3",
   "version": "3.10.2"
  },
  "orig_nbformat": 4,
  "vscode": {
   "interpreter": {
    "hash": "8ebb0fa82196ab5cd02a5b231fa8fb6d37dc58c342ef6ac8d3ed2447e0dae4a4"
   }
  }
 },
 "nbformat": 4,
 "nbformat_minor": 2
}
