{
 "cells": [
  {
   "cell_type": "code",
   "execution_count": 9,
   "metadata": {},
   "outputs": [
    {
     "name": "stdout",
     "output_type": "stream",
     "text": [
      "[[0, 0, 0, 0], [0, 4, 5, 0], [0, 3, 1, 0]]\n"
     ]
    }
   ],
   "source": [
    "# not ideal solution, but it works\n",
    "from typing import List\n",
    "# must be in-place\n",
    "  # the input is overwritten by the output as the algorithm executes\n",
    "class Solution:\n",
    "    def setZeroes(self, matrix: List[List[int]]) -> None:\n",
    "        \"\"\"\n",
    "        Do not return anything, modify matrix in-place instead.\n",
    "        \"\"\"\n",
    "        ROWS = len(matrix)\n",
    "        COLS = len(matrix[0])\n",
    "        # manages the rows and columns that have been overwritten\n",
    "        colsZeroed = set()\n",
    "        rowsZeroed = set()\n",
    "        def setZero(x, y):\n",
    "            if x not in rowsZeroed:\n",
    "                # print(\"zeroing row\", x, y)\n",
    "                setRowZero(x)\n",
    "            if y not in colsZeroed:\n",
    "                # print(\"zeroing col\", x, y)\n",
    "                setColZero(y)\n",
    "        def setRowZero(row):\n",
    "            rowsZeroed.add(row)\n",
    "            for i in range(COLS):\n",
    "                if matrix[row][i] == 0:\n",
    "                    # recursively set zeroes if its zero\n",
    "                    setZero(row, i)\n",
    "                else:\n",
    "                    matrix[row][i] = 0\n",
    "        def setColZero(col):\n",
    "            colsZeroed.add(col)\n",
    "            for i in range(ROWS):\n",
    "                if matrix[i][col] == 0:\n",
    "                    # recursively set zeroes if its zero\n",
    "                    setZero(i, col)\n",
    "                else:\n",
    "                    matrix[i][col] = 0\n",
    "        for i in range(ROWS):\n",
    "            for j in range(COLS):\n",
    "                # if its zero but has not had both row and col zeroed\n",
    "                if matrix[i][j] == 0 and i not in rowsZeroed and j not in colsZeroed:\n",
    "                    setZero(i, j)\n",
    "        return matrix\n",
    "s = Solution()\n",
    "\n",
    "# print(s.setZeroes([[1,1,1],[1,0,1],[1,1,1]]))\n",
    "print(s.setZeroes([[0,1,2,0],[3,4,5,2],[1,3,1,5]]))\n",
    "\n"
   ]
  },
  {
   "cell_type": "code",
   "execution_count": 10,
   "metadata": {},
   "outputs": [
    {
     "name": "stdout",
     "output_type": "stream",
     "text": [
      "[[0, 0, 0, 0], [0, 4, 5, 0], [0, 3, 1, 0]]\n"
     ]
    }
   ],
   "source": [
    "# neetcode solution\n",
    "from typing import List\n",
    "# must be in-place\n",
    "  # the input is overwritten by the output as the algorithm executes\n",
    "class Solution:\n",
    "    def setZeroes(self, matrix: List[List[int]]) -> None:\n",
    "        \"\"\"\n",
    "        Do not return anything, modify matrix in-place instead.\n",
    "        \"\"\"\n",
    "        ROWS, COLS = len(matrix), len(matrix[0])\n",
    "        rowZero = False\n",
    "\n",
    "        for r in range(ROWS):\n",
    "            for c in range(COLS):\n",
    "                if matrix[r][c] == 0:\n",
    "                    matrix[0][c] = 0\n",
    "                    if r == 0:\n",
    "                        rowZero = True\n",
    "                    else:\n",
    "                        matrix[r][0] = 0\n",
    "\n",
    "        for r in range(1, ROWS):\n",
    "            for c in range(1, COLS):\n",
    "                if matrix[r][0] == 0 or matrix[0][c] == 0:\n",
    "                    matrix[r][c] = 0\n",
    "        if matrix[0][0] == 0:\n",
    "            for r in range(ROWS):\n",
    "                matrix[r][0] = 0\n",
    "        if rowZero:\n",
    "            for c in range(COLS):\n",
    "                matrix[0][c] = 0\n",
    "        return matrix\n",
    "s = Solution()\n",
    "\n",
    "# print(s.setZeroes([[1,1,1],[1,0,1],[1,1,1]]))\n",
    "print(s.setZeroes([[0,1,2,0],[3,4,5,2],[1,3,1,5]]))\n",
    "\n"
   ]
  }
 ],
 "metadata": {
  "kernelspec": {
   "display_name": "Python 3.10.2 ('env')",
   "language": "python",
   "name": "python3"
  },
  "language_info": {
   "codemirror_mode": {
    "name": "ipython",
    "version": 3
   },
   "file_extension": ".py",
   "mimetype": "text/x-python",
   "name": "python",
   "nbconvert_exporter": "python",
   "pygments_lexer": "ipython3",
   "version": "3.10.2"
  },
  "orig_nbformat": 4,
  "vscode": {
   "interpreter": {
    "hash": "8ebb0fa82196ab5cd02a5b231fa8fb6d37dc58c342ef6ac8d3ed2447e0dae4a4"
   }
  }
 },
 "nbformat": 4,
 "nbformat_minor": 2
}
