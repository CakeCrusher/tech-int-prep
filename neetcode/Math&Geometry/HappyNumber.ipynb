{
 "cells": [
  {
   "cell_type": "code",
   "execution_count": 15,
   "metadata": {},
   "outputs": [
    {
     "name": "stdout",
     "output_type": "stream",
     "text": [
      "True\n",
      "False\n"
     ]
    }
   ],
   "source": [
    "# 0\n",
    "class Solution(object):\n",
    "    def isHappy(self, n):\n",
    "        \"\"\"\n",
    "        :type n: int\n",
    "        :rtype: bool\n",
    "        \"\"\"\n",
    "        def compute_digits(n):\n",
    "            return sum([int(i)**2 for i in str(n)])\n",
    "        cache = set()\n",
    "        curr_sum = n\n",
    "        while curr_sum != 1:\n",
    "            curr_sum = compute_digits(curr_sum)\n",
    "            if curr_sum in cache:\n",
    "                return False\n",
    "            cache.add(curr_sum)\n",
    "        return True\n",
    "        \n",
    "s = Solution()\n",
    "print(s.isHappy(19))\n",
    "print(s.isHappy(2))"
   ]
  },
  {
   "cell_type": "code",
   "execution_count": 16,
   "metadata": {},
   "outputs": [
    {
     "name": "stdout",
     "output_type": "stream",
     "text": [
      "True\n",
      "False\n"
     ]
    }
   ],
   "source": [
    "# 1\n",
    "class Solution(object):\n",
    "    def isHappy(self, n):\n",
    "        \"\"\"\n",
    "        :type n: int\n",
    "        :rtype: bool\n",
    "        \"\"\"\n",
    "        visit = set()\n",
    "        while n not in visit:\n",
    "            visit.add(n)\n",
    "            n = self.computeDigits(n)\n",
    "            if n == 1:\n",
    "                return True\n",
    "        return False\n",
    "    def computeDigits(self, n):\n",
    "        agg = 0\n",
    "        # this while loop is less performant\n",
    "        while n > 0:\n",
    "            agg += (n % 10) ** 2\n",
    "            n = n//10\n",
    "        return agg\n",
    "\n",
    "s = Solution()\n",
    "print(s.isHappy(19))\n",
    "print(s.isHappy(2))"
   ]
  }
 ],
 "metadata": {
  "kernelspec": {
   "display_name": "Python 3.10.2 ('env')",
   "language": "python",
   "name": "python3"
  },
  "language_info": {
   "codemirror_mode": {
    "name": "ipython",
    "version": 3
   },
   "file_extension": ".py",
   "mimetype": "text/x-python",
   "name": "python",
   "nbconvert_exporter": "python",
   "pygments_lexer": "ipython3",
   "version": "3.10.2"
  },
  "orig_nbformat": 4,
  "vscode": {
   "interpreter": {
    "hash": "8ebb0fa82196ab5cd02a5b231fa8fb6d37dc58c342ef6ac8d3ed2447e0dae4a4"
   }
  }
 },
 "nbformat": 4,
 "nbformat_minor": 2
}
