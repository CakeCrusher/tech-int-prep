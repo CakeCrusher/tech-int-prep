{
 "cells": [
  {
   "cell_type": "code",
   "execution_count": 35,
   "metadata": {},
   "outputs": [
    {
     "name": "stdout",
     "output_type": "stream",
     "text": [
      "0 0 3 [1, 2, 3, 4]\n",
      "0 1 3 [1, 2, 3, 4]\n",
      "0 2 3 [1, 2, 3, 4]\n",
      "0 3 3 [1, 2, 3, 4]\n",
      "1 1 2 [6, 7]\n"
     ]
    },
    {
     "ename": "IndexError",
     "evalue": "list assignment index out of range",
     "output_type": "error",
     "traceback": [
      "\u001b[1;31m---------------------------------------------------------------------------\u001b[0m",
      "\u001b[1;31mIndexError\u001b[0m                                Traceback (most recent call last)",
      "\u001b[1;32mc:\\jobsearch\\tech-int-prep\\Math&Geometry\\RotateImage.ipynb Cell 1\u001b[0m in \u001b[0;36m<cell line: 34>\u001b[1;34m()\u001b[0m\n\u001b[0;32m     <a href='vscode-notebook-cell:/c%3A/jobsearch/tech-int-prep/Math%26Geometry/RotateImage.ipynb#W0sZmlsZQ%3D%3D?line=31'>32</a>\u001b[0m s \u001b[39m=\u001b[39m Solution()\n\u001b[0;32m     <a href='vscode-notebook-cell:/c%3A/jobsearch/tech-int-prep/Math%26Geometry/RotateImage.ipynb#W0sZmlsZQ%3D%3D?line=32'>33</a>\u001b[0m \u001b[39m# print(s.rotate([[1,2,3],[4,5,6],[7,8,9]]))\u001b[39;00m\n\u001b[1;32m---> <a href='vscode-notebook-cell:/c%3A/jobsearch/tech-int-prep/Math%26Geometry/RotateImage.ipynb#W0sZmlsZQ%3D%3D?line=33'>34</a>\u001b[0m \u001b[39mprint\u001b[39m(s\u001b[39m.\u001b[39;49mrotate([[\u001b[39m1\u001b[39;49m,\u001b[39m2\u001b[39;49m,\u001b[39m3\u001b[39;49m,\u001b[39m4\u001b[39;49m],[\u001b[39m5\u001b[39;49m,\u001b[39m6\u001b[39;49m,\u001b[39m7\u001b[39;49m,\u001b[39m8\u001b[39;49m],[\u001b[39m9\u001b[39;49m,\u001b[39m10\u001b[39;49m,\u001b[39m11\u001b[39;49m,\u001b[39m12\u001b[39;49m],[\u001b[39m13\u001b[39;49m,\u001b[39m14\u001b[39;49m,\u001b[39m15\u001b[39;49m,\u001b[39m16\u001b[39;49m]]))\n",
      "\u001b[1;32mc:\\jobsearch\\tech-int-prep\\Math&Geometry\\RotateImage.ipynb Cell 1\u001b[0m in \u001b[0;36mSolution.rotate\u001b[1;34m(self, matrix)\u001b[0m\n\u001b[0;32m     <a href='vscode-notebook-cell:/c%3A/jobsearch/tech-int-prep/Math%26Geometry/RotateImage.ipynb#W0sZmlsZQ%3D%3D?line=21'>22</a>\u001b[0m     matrix[j][i] \u001b[39m=\u001b[39m left_side[j]\n\u001b[0;32m     <a href='vscode-notebook-cell:/c%3A/jobsearch/tech-int-prep/Math%26Geometry/RotateImage.ipynb#W0sZmlsZQ%3D%3D?line=22'>23</a>\u001b[0m     \u001b[39mprint\u001b[39m(i, j, \u001b[39mlen\u001b[39m(matrix)\u001b[39m-\u001b[39m\u001b[39m1\u001b[39m\u001b[39m-\u001b[39mi, right_side)\n\u001b[1;32m---> <a href='vscode-notebook-cell:/c%3A/jobsearch/tech-int-prep/Math%26Geometry/RotateImage.ipynb#W0sZmlsZQ%3D%3D?line=23'>24</a>\u001b[0m     matrix[j][\u001b[39mlen\u001b[39m(matrix)\u001b[39m-\u001b[39m\u001b[39m1\u001b[39m\u001b[39m-\u001b[39mi] \u001b[39m=\u001b[39m right_side[j]\n\u001b[0;32m     <a href='vscode-notebook-cell:/c%3A/jobsearch/tech-int-prep/Math%26Geometry/RotateImage.ipynb#W0sZmlsZQ%3D%3D?line=24'>25</a>\u001b[0m matrix[\u001b[39mlen\u001b[39m(matrix)\u001b[39m-\u001b[39m\u001b[39m1\u001b[39m\u001b[39m-\u001b[39mi] \u001b[39m=\u001b[39m second_arr[::\u001b[39m-\u001b[39m\u001b[39m1\u001b[39m] \u001b[39m+\u001b[39m [first_arr[\u001b[39m-\u001b[39m\u001b[39m1\u001b[39m]]\n\u001b[0;32m     <a href='vscode-notebook-cell:/c%3A/jobsearch/tech-int-prep/Math%26Geometry/RotateImage.ipynb#W0sZmlsZQ%3D%3D?line=27'>28</a>\u001b[0m \u001b[39m# print(first_arr, second_arr, third_arr, fourth_arr)\u001b[39;00m\n\u001b[0;32m     <a href='vscode-notebook-cell:/c%3A/jobsearch/tech-int-prep/Math%26Geometry/RotateImage.ipynb#W0sZmlsZQ%3D%3D?line=28'>29</a>\u001b[0m \u001b[39m# print(matrix[i], left_side, right_side,  matrix[len(matrix)-1-i])\u001b[39;00m\n\u001b[0;32m     <a href='vscode-notebook-cell:/c%3A/jobsearch/tech-int-prep/Math%26Geometry/RotateImage.ipynb#W0sZmlsZQ%3D%3D?line=29'>30</a>\u001b[0m \u001b[39m# break\u001b[39;00m\n",
      "\u001b[1;31mIndexError\u001b[0m: list assignment index out of range"
     ]
    }
   ],
   "source": [
    "# 0\n",
    "# did not work\n",
    "class Solution(object):\n",
    "    def rotate(self, matrix):\n",
    "        \"\"\"\n",
    "        :type matrix: List[List[int]]\n",
    "        :rtype: None Do not return anything, modify matrix in-place instead.\n",
    "        \"\"\"\n",
    "        is_even = len(matrix) % 2 == 0\n",
    "        for i in range(len(matrix)//2):\n",
    "            first_arr = matrix[i][i:len(matrix)-i]\n",
    "            second_arr = [matrix[j][len(matrix)-1-i] for j in range(i+1, len(matrix)-i)]\n",
    "            third_arr = matrix[len(matrix)-1-i][i:len(matrix)-1-i]\n",
    "            fourth_arr = [matrix[j][i] for j in range(i+1, len(matrix)-1-i)]\n",
    "\n",
    "            # new top\n",
    "            matrix[i] = [third_arr[0]] + fourth_arr + [first_arr[0]]\n",
    "            # new sides\n",
    "            left_side = third_arr + [second_arr[-1]]\n",
    "            right_side = first_arr\n",
    "            for j in range(i, len(matrix)-i):\n",
    "                matrix[j][i] = left_side[j]\n",
    "                print(i, j, len(matrix)-1-i, right_side)\n",
    "                matrix[j][len(matrix)-1-i] = right_side[j]\n",
    "            matrix[len(matrix)-1-i] = second_arr[::-1] + [first_arr[-1]]\n",
    "\n",
    "\n",
    "            # print(first_arr, second_arr, third_arr, fourth_arr)\n",
    "            # print(matrix[i], left_side, right_side,  matrix[len(matrix)-1-i])\n",
    "            # break\n",
    "        return matrix\n",
    "s = Solution()\n",
    "# print(s.rotate([[1,2,3],[4,5,6],[7,8,9]]))\n",
    "print(s.rotate([[1,2,3,4],[5,6,7,8],[9,10,11,12],[13,14,15,16]]))"
   ]
  },
  {
   "cell_type": "code",
   "execution_count": 59,
   "metadata": {},
   "outputs": [
    {
     "name": "stdout",
     "output_type": "stream",
     "text": [
      "[[15, 13, 2, 5], [14, 3, 4, 1], [12, 8, 6, 9], [16, 7, 10, 11]]\n"
     ]
    }
   ],
   "source": [
    "# 1\n",
    "# post NeetCode explanation but pre code solution\n",
    "# also failed\n",
    "class Solution(object):\n",
    "    def rotate(self, matrix):\n",
    "        \"\"\"\n",
    "        :type matrix: List[List[int]]\n",
    "        :rtype: None Do not return anything, modify matrix in-place instead.\n",
    "        \"\"\"\n",
    "        cols = len(matrix)\n",
    "        for i in range(cols//2):\n",
    "            # left and right inclusive\n",
    "            l, r = i, cols-i-1\n",
    "            for j in range(l, r):\n",
    "                # top_loc = [l,j]\n",
    "                # right_loc = [j,r]\n",
    "                # bottom_loc = [r,r-j]\n",
    "                # left_loc = [r-j,l]\n",
    "                \n",
    "                tmp_start = matrix[l][j]\n",
    "                matrix[l][j] = matrix[r-j][l]\n",
    "                matrix[r-j][l] = matrix[r][r-j]\n",
    "                matrix[r][r-j] = matrix[j][r]\n",
    "                matrix[j][r] = tmp_start\n",
    "        return matrix\n",
    "\n",
    "\n",
    "\n",
    "s = Solution()\n",
    "# print(s.rotate([[1,2,3],[4,5,6],[7,8,9]]))\n",
    "print(s.rotate([[5,1,9,11],[2,4,8,10],[13,3,6,7],[15,14,12,16]]))"
   ]
  },
  {
   "cell_type": "code",
   "execution_count": 60,
   "metadata": {},
   "outputs": [
    {
     "name": "stdout",
     "output_type": "stream",
     "text": [
      "[[15, 13, 2, 5], [14, 3, 4, 1], [12, 6, 8, 9], [16, 7, 10, 11]]\n"
     ]
    }
   ],
   "source": [
    "# 2\n",
    "# post NeetCode code solution\n",
    "class Solution(object):\n",
    "    def rotate(self, matrix):\n",
    "        \"\"\"\n",
    "        :type matrix: List[List[int]]\n",
    "        :rtype: None Do not return anything, modify matrix in-place instead.\n",
    "        \"\"\"\n",
    "        l, r = 0, len(matrix)-1\n",
    "        while l < r:\n",
    "            for i in range(r-l):\n",
    "                top, bottom = l, r\n",
    "                topLeft = matrix[top][l+i]\n",
    "                matrix[top][l+i] = matrix[bottom-i][l]\n",
    "                matrix[bottom-i][l] = matrix[bottom][r-i]\n",
    "                matrix[bottom][r-i] = matrix[top+i][r]\n",
    "                matrix[top+i][r] = topLeft\n",
    "            l += 1\n",
    "            r -= 1\n",
    "        return matrix\n",
    "\n",
    "\n",
    "\n",
    "\n",
    "s = Solution()\n",
    "# print(s.rotate([[1,2,3],[4,5,6],[7,8,9]]))\n",
    "print(s.rotate([[5,1,9,11],[2,4,8,10],[13,3,6,7],[15,14,12,16]]))"
   ]
  },
  {
   "cell_type": "code",
   "execution_count": 41,
   "metadata": {},
   "outputs": [
    {
     "name": "stdout",
     "output_type": "stream",
     "text": [
      "10\n"
     ]
    }
   ],
   "source": [
    "a = [1,[2,10],3,4,5]\n",
    "print(a[1][1])\n"
   ]
  }
 ],
 "metadata": {
  "kernelspec": {
   "display_name": "Python 3.10.2 ('env')",
   "language": "python",
   "name": "python3"
  },
  "language_info": {
   "codemirror_mode": {
    "name": "ipython",
    "version": 3
   },
   "file_extension": ".py",
   "mimetype": "text/x-python",
   "name": "python",
   "nbconvert_exporter": "python",
   "pygments_lexer": "ipython3",
   "version": "3.10.2"
  },
  "orig_nbformat": 4,
  "vscode": {
   "interpreter": {
    "hash": "8ebb0fa82196ab5cd02a5b231fa8fb6d37dc58c342ef6ac8d3ed2447e0dae4a4"
   }
  }
 },
 "nbformat": 4,
 "nbformat_minor": 2
}
