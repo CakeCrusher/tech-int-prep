{
 "cells": [
  {
   "cell_type": "code",
   "execution_count": 7,
   "metadata": {},
   "outputs": [
    {
     "name": "stdout",
     "output_type": "stream",
     "text": [
      "0\n"
     ]
    }
   ],
   "source": [
    "prices = [7,6,4,3,1]\n",
    "def test():\n",
    "    s,e = 0,1\n",
    "    res = 0\n",
    "    while e < len(prices):\n",
    "        res = max(res, prices[e] - prices[s])\n",
    "        if prices[s] > prices[e]:\n",
    "            s = e\n",
    "        e += 1\n",
    "    return res\n",
    "\n",
    "\n",
    "print(test())"
   ]
  },
  {
   "cell_type": "code",
   "execution_count": null,
   "metadata": {},
   "outputs": [],
   "source": []
  }
 ],
 "metadata": {
  "kernelspec": {
   "display_name": "Python 3.8.8 ('ai')",
   "language": "python",
   "name": "python3"
  },
  "language_info": {
   "codemirror_mode": {
    "name": "ipython",
    "version": 3
   },
   "file_extension": ".py",
   "mimetype": "text/x-python",
   "name": "python",
   "nbconvert_exporter": "python",
   "pygments_lexer": "ipython3",
   "version": "3.8.8"
  },
  "orig_nbformat": 4,
  "vscode": {
   "interpreter": {
    "hash": "3589496a1d7869e9b6ec6501882ac71de083d81c3d95f817a096c95ce40eb3d6"
   }
  }
 },
 "nbformat": 4,
 "nbformat_minor": 2
}
