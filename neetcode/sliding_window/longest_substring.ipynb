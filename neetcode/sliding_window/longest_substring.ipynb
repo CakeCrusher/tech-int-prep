{
 "cells": [
  {
   "cell_type": "code",
   "execution_count": null,
   "metadata": {},
   "outputs": [],
   "source": [
    "# defaultdict = a dict that sets the default value to whatever arg you set it to"
   ]
  },
  {
   "cell_type": "code",
   "execution_count": 7,
   "metadata": {},
   "outputs": [
    {
     "name": "stdout",
     "output_type": "stream",
     "text": [
      "0\n"
     ]
    }
   ],
   "source": [
    "from collections import defaultdict\n",
    "\n",
    "s = \"\"\n",
    "def test():\n",
    "    if not s:\n",
    "        return 0\n",
    "    letter_appearance = defaultdict(list)\n",
    "    l,r = 0,1\n",
    "    letter_appearance[s[l]].append(l)\n",
    "    res = 1\n",
    "    while r < len(s):\n",
    "        letter_appearance[s[r]].append(r)\n",
    "        if len(letter_appearance[s[r]]) > 1:\n",
    "            first_index_of_repeated = letter_appearance[s[r]][0]\n",
    "            # removes the previous counts before the repeated letter\n",
    "            for i in range(first_index_of_repeated - l):\n",
    "                letter_appearance[s[l + i]].pop(0)\n",
    "            l = first_index_of_repeated + 1\n",
    "            letter_appearance[s[r]].pop(0)\n",
    "        else:\n",
    "            res = max(res, r - l + 1)\n",
    "        r += 1\n",
    "    return res\n",
    "        \n",
    "\n",
    "print(test())"
   ]
  },
  {
   "cell_type": "code",
   "execution_count": null,
   "metadata": {},
   "outputs": [],
   "source": [
    "from collections import defaultdict\n",
    "\n",
    "s = \"\"\n",
    "def test():\n",
    "    if not s:\n",
    "        return 0\n",
    "    letter_appearance = defaultdict(list)\n",
    "    l,r = 0,1\n",
    "    letter_appearance[s[l]].append(l)\n",
    "    res = 1\n",
    "    while r < len(s):\n",
    "        letter_appearance[s[r]].append(r)\n",
    "        if len(letter_appearance[s[r]]) > 1:\n",
    "            first_index_of_repeated = letter_appearance[s[r]][0]\n",
    "            # removes the previous counts before the repeated letter\n",
    "            for i in range(first_index_of_repeated - l):\n",
    "                letter_appearance[s[l + i]].pop(0)\n",
    "            l = first_index_of_repeated + 1\n",
    "            letter_appearance[s[r]].pop(0)\n",
    "        else:\n",
    "            res = max(res, r - l + 1)\n",
    "        r += 1\n",
    "    return res\n",
    "        \n",
    "\n",
    "print(test())"
   ]
  },
  {
   "cell_type": "code",
   "execution_count": 10,
   "metadata": {},
   "outputs": [
    {
     "name": "stdout",
     "output_type": "stream",
     "text": [
      "3\n"
     ]
    }
   ],
   "source": [
    "from collections import defaultdict\n",
    "\n",
    "s = \"abcabcbb\"\n",
    "def test():\n",
    "    curr = set()\n",
    "    l = 0\n",
    "    res = 0\n",
    "    for r in range(len(s)):\n",
    "        while s[r] in curr:\n",
    "            curr.remove(s[l])\n",
    "            l += 1\n",
    "        curr.add(s[r])\n",
    "        res = max(res, r - l + 1)\n",
    "    return res\n",
    "\n",
    "        \n",
    "\n",
    "print(test())"
   ]
  },
  {
   "cell_type": "code",
   "execution_count": null,
   "metadata": {},
   "outputs": [],
   "source": [
    "# iterate through string untill two of the same appear\n",
    "# in which case we set that as the base and start at the first iteration of that rep\n"
   ]
  }
 ],
 "metadata": {
  "kernelspec": {
   "display_name": "Python 3.8.8 ('ai')",
   "language": "python",
   "name": "python3"
  },
  "language_info": {
   "codemirror_mode": {
    "name": "ipython",
    "version": 3
   },
   "file_extension": ".py",
   "mimetype": "text/x-python",
   "name": "python",
   "nbconvert_exporter": "python",
   "pygments_lexer": "ipython3",
   "version": "3.8.8"
  },
  "orig_nbformat": 4,
  "vscode": {
   "interpreter": {
    "hash": "3589496a1d7869e9b6ec6501882ac71de083d81c3d95f817a096c95ce40eb3d6"
   }
  }
 },
 "nbformat": 4,
 "nbformat_minor": 2
}
