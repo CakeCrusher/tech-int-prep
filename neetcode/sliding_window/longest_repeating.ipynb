{
 "cells": [
  {
   "cell_type": "code",
   "execution_count": null,
   "metadata": {},
   "outputs": [],
   "source": [
    "# checking every mermutation results in O(n^2)"
   ]
  },
  {
   "cell_type": "code",
   "execution_count": 33,
   "metadata": {},
   "outputs": [
    {
     "name": "stdout",
     "output_type": "stream",
     "text": [
      "0\n",
      "1\n",
      "2\n",
      "3\n",
      "4\n"
     ]
    }
   ],
   "source": [
    "from collections import defaultdict\n",
    "\n",
    "\n",
    "s = \"ABBB\"\n",
    "k = 2\n",
    "# s = \"ABAB\"\n",
    "# k = 2\n",
    "def test():\n",
    "    res = 0\n",
    "    l,r = 0,0\n",
    "    while r < len(s):\n",
    "        for focus_char in set(s):\n",
    "            k_store = 0\n",
    "            l = r\n",
    "            cou = 0\n",
    "            while not l < 0:\n",
    "                if s[l] == focus_char:\n",
    "                    pass\n",
    "                else:\n",
    "                    if k_store < k:\n",
    "                        k_store += 1\n",
    "                    else:\n",
    "                        break\n",
    "                l -= 1\n",
    "                cou += 1\n",
    "            res = max(res,cou)\n",
    "            print([s[r],cou])\n",
    "        r += 1\n",
    "    return res\n",
    "        \n",
    "\n",
    "print(test())"
   ]
  },
  {
   "cell_type": "code",
   "execution_count": 44,
   "metadata": {},
   "outputs": [
    {
     "name": "stdout",
     "output_type": "stream",
     "text": [
      "A 1 1\n",
      "AB 2 1\n",
      "ABA 3 2\n",
      "ABAB 4 2\n",
      "4\n"
     ]
    }
   ],
   "source": [
    "from collections import defaultdict\n",
    "\n",
    "# s = \"AABABBA\"\n",
    "# k = 1\n",
    "# s = \"ABBB\"\n",
    "# k = 2\n",
    "s = \"ABAB\"\n",
    "k = 2\n",
    "def test():\n",
    "    char_count = defaultdict(int)\n",
    "    res = 0\n",
    "    l = 0\n",
    "    max_freq = 0\n",
    "    res = 0\n",
    "    for r in range(len(s)):\n",
    "        char_count[s[r]] += 1\n",
    "        if char_count[s[r]] > max_freq:\n",
    "            max_freq = char_count[s[r]]\n",
    "        diff = r - l + 1\n",
    "        # print(s[l:r+1],diff, max_freq)\n",
    "        if diff - max_freq <= k:\n",
    "            res = max(res, diff)\n",
    "        else:\n",
    "            while diff - max_freq > k:\n",
    "                char_count[s[l]] -= 1\n",
    "                l += 1\n",
    "                diff = r - l + 1\n",
    "    return res\n",
    "\n",
    "print(test())"
   ]
  },
  {
   "cell_type": "code",
   "execution_count": 47,
   "metadata": {},
   "outputs": [
    {
     "name": "stdout",
     "output_type": "stream",
     "text": [
      "4\n"
     ]
    }
   ],
   "source": [
    "from collections import defaultdict\n",
    "\n",
    "s = \"AABABBA\"\n",
    "k = 1\n",
    "# s = \"ABBB\"\n",
    "# k = 2\n",
    "# s = \"ABAB\"\n",
    "# k = 2\n",
    "def test():\n",
    "    char_count = defaultdict(int)\n",
    "    res = 0\n",
    "    l = 0\n",
    "    max_freq = 0\n",
    "    res = 0\n",
    "    for r in range(len(s)):\n",
    "        char_count[s[r]] += 1\n",
    "        max_freq = max(max_freq, char_count[s[r]])\n",
    "        # print(s[l:r+1],diff, max_freq)\n",
    "        while r - l + 1 - max_freq > k:\n",
    "            char_count[s[l]] -= 1\n",
    "            l += 1\n",
    "        res = max(res, r - l + 1)\n",
    "    return res\n",
    "\n",
    "print(test())"
   ]
  }
 ],
 "metadata": {
  "kernelspec": {
   "display_name": "Python 3.8.8 ('ai')",
   "language": "python",
   "name": "python3"
  },
  "language_info": {
   "codemirror_mode": {
    "name": "ipython",
    "version": 3
   },
   "file_extension": ".py",
   "mimetype": "text/x-python",
   "name": "python",
   "nbconvert_exporter": "python",
   "pygments_lexer": "ipython3",
   "version": "3.8.8"
  },
  "orig_nbformat": 4,
  "vscode": {
   "interpreter": {
    "hash": "3589496a1d7869e9b6ec6501882ac71de083d81c3d95f817a096c95ce40eb3d6"
   }
  }
 },
 "nbformat": 4,
 "nbformat_minor": 2
}
