{
 "cells": [
  {
   "cell_type": "markdown",
   "metadata": {},
   "source": [
    "# Trie (prefix tree)\n",
    "- used to store strings\n",
    "  - based on prefix\n",
    "- use case is because of starts with\n"
   ]
  },
  {
   "cell_type": "code",
   "execution_count": 3,
   "metadata": {},
   "outputs": [
    {
     "name": "stdout",
     "output_type": "stream",
     "text": [
      "True\n",
      "False\n",
      "True\n",
      "True\n"
     ]
    }
   ],
   "source": [
    "class Trie(object):\n",
    "\n",
    "    def __init__(self):\n",
    "        self.arr = []\n",
    "        \n",
    "\n",
    "    def insert(self, word):\n",
    "        \"\"\"\n",
    "        :type word: str\n",
    "        :rtype: None\n",
    "        \"\"\"\n",
    "        self.arr.append(word)\n",
    "        \n",
    "\n",
    "    def search(self, word):\n",
    "        \"\"\"\n",
    "        :type word: str\n",
    "        :rtype: bool\n",
    "        \"\"\"\n",
    "        if word in self.arr:\n",
    "            return True\n",
    "        return False\n",
    "\n",
    "    def startsWith(self, prefix):\n",
    "        \"\"\"\n",
    "        :type prefix: str\n",
    "        :rtype: bool\n",
    "        \"\"\"\n",
    "        for word in self.arr:\n",
    "            if word.startswith(prefix):\n",
    "                return True\n",
    "        return False\n",
    "        \n",
    "trie = Trie()\n",
    "trie.insert(\"apple\")\n",
    "print(trie.search(\"apple\"))\n",
    "print(trie.search(\"app\"))\n",
    "print(trie.startsWith(\"app\"))\n",
    "trie.insert(\"app\")\n",
    "print(trie.search(\"app\"))"
   ]
  },
  {
   "cell_type": "code",
   "execution_count": 16,
   "metadata": {},
   "outputs": [
    {
     "name": "stdout",
     "output_type": "stream",
     "text": [
      "True\n",
      "false end\n",
      "False\n",
      "True\n",
      "True\n"
     ]
    }
   ],
   "source": [
    "class Node():\n",
    "    def __init__(self, val = None, is_final = False):\n",
    "        self.val = val\n",
    "        self.children = {}\n",
    "        self.is_final = is_final\n",
    "    def insert(self, node):\n",
    "        if node.val not in self.children:\n",
    "            self.children[node.val] = node\n",
    "        elif node.is_final:\n",
    "            self.children[node.val].is_final = True\n",
    "    \n",
    "class Trie(object):\n",
    "\n",
    "    def __init__(self):\n",
    "        self.dummy = Node()\n",
    "        \n",
    "\n",
    "    def insert(self, word):\n",
    "        \"\"\"\n",
    "        :type word: str\n",
    "        :rtype: None\n",
    "        \"\"\"\n",
    "        curr = self.dummy\n",
    "        for i in range(len(word)):\n",
    "            if i == len(word) - 1:\n",
    "                curr.insert(Node(word[i], True))\n",
    "            else:\n",
    "                curr.insert(Node(word[i]))\n",
    "                curr = curr.children[word[i]]            \n",
    "        \n",
    "\n",
    "    def search(self, word):\n",
    "        \"\"\"\n",
    "        :type word: str\n",
    "        :rtype: bool\n",
    "        \"\"\"\n",
    "        curr = self.dummy\n",
    "        for i in range(len(word)):\n",
    "            if word[i] in curr.children:\n",
    "                if i == len(word) - 1:\n",
    "                    if curr.children[word[i]] and curr.children[word[i]].is_final:\n",
    "                        return True\n",
    "                    else:\n",
    "                        return False\n",
    "                else:\n",
    "                    if curr.children[word[i]]:\n",
    "                        curr = curr.children[word[i]]\n",
    "                    else:\n",
    "                        return False\n",
    "            else:\n",
    "                return False\n",
    "\n",
    "    def startsWith(self, prefix):\n",
    "        \"\"\"\n",
    "        :type prefix: str\n",
    "        :rtype: bool\n",
    "        \"\"\"\n",
    "        curr = self.dummy\n",
    "        for i in range(len(prefix)):\n",
    "            if prefix[i] in curr.children:\n",
    "                if curr.children[prefix[i]]:\n",
    "                    curr = curr.children[prefix[i]]\n",
    "                else:\n",
    "                    return False\n",
    "            else:\n",
    "                return False\n",
    "        return True\n",
    "\n",
    "trie = Trie()\n",
    "trie.insert(\"apple\")\n",
    "print(trie.search(\"apple\"))\n",
    "print(trie.search(\"app\"))\n",
    "print(trie.startsWith(\"app\"))\n",
    "trie.insert(\"app\")\n",
    "print(trie.search(\"app\"))"
   ]
  },
  {
   "cell_type": "code",
   "execution_count": null,
   "metadata": {},
   "outputs": [],
   "source": []
  }
 ],
 "metadata": {
  "kernelspec": {
   "display_name": "Python 3.10.2 ('env')",
   "language": "python",
   "name": "python3"
  },
  "language_info": {
   "codemirror_mode": {
    "name": "ipython",
    "version": 3
   },
   "file_extension": ".py",
   "mimetype": "text/x-python",
   "name": "python",
   "nbconvert_exporter": "python",
   "pygments_lexer": "ipython3",
   "version": "3.10.2"
  },
  "orig_nbformat": 4,
  "vscode": {
   "interpreter": {
    "hash": "8ebb0fa82196ab5cd02a5b231fa8fb6d37dc58c342ef6ac8d3ed2447e0dae4a4"
   }
  }
 },
 "nbformat": 4,
 "nbformat_minor": 2
}
