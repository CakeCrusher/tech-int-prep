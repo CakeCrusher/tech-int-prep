{
 "cells": [
  {
   "cell_type": "code",
   "execution_count": 3,
   "metadata": {},
   "outputs": [],
   "source": [
    "class Node(object):\n",
    "    def __init__(self, pair):\n",
    "        self.children = set()\n",
    "        self.pair = pair\n",
    "\n",
    "class Solution(object):\n",
    "    def cost(self, a, b):\n",
    "        return abs(a[0] - b[0]) + abs(a[1] - b[1])\n",
    "    def minCostConnectPoints(self, points):\n",
    "        \"\"\"\n",
    "        :type points: List[List[int]]\n",
    "        :rtype: int\n",
    "        \"\"\"\n",
    "        root = Node(points[0])\n",
    "        parent = root\n",
    "        def dfs(parent, node):\n",
    "            par_cost = self.cost(parent.pair, node.pair)\n",
    "            best_child = (None, float('inf'))\n",
    "            for child in parent.children:\n",
    "                child_cost = self.cost(child.pair, node.pair)\n",
    "                if child_cost < best_child[1]:\n",
    "                    best_child = (child, child_cost)\n",
    "            if best_child[1] < par_cost:\n",
    "                dfs(best_child[0], node)\n",
    "            else: pass\n",
    "\n",
    "\n",
    "\n",
    "        for point in points[1:]:\n",
    "            node = Node(point)\n",
    "            par_cost = self.cost(parent.pair, node.pair)\n",
    "            best_child = (None, float('inf'))\n",
    "            for child in parent.children:\n",
    "                child_cost = self.cost(child.pair, node.pair)\n",
    "                if child_cost < best_child[1]:\n",
    "                    best_child = (child, child_cost)\n",
    "            if best_child[1] < par_cost:\n",
    "                best_child[0].children.add(node)\n",
    "                    \n",
    "\n",
    "                \n",
    "\n",
    "\n",
    "        "
   ]
  },
  {
   "cell_type": "markdown",
   "metadata": {},
   "source": [
    "# brute force\n",
    "- does not create a fully connected graph"
   ]
  },
  {
   "cell_type": "code",
   "execution_count": 29,
   "metadata": {},
   "outputs": [
    {
     "name": "stdout",
     "output_type": "stream",
     "text": [
      "(2, -3) (13, 8) 22\n",
      "(-17, -8) (-17, -15) 7\n",
      "29\n"
     ]
    }
   ],
   "source": [
    "class Solution(object):\n",
    "    def minCostConnectPoints(self, points):\n",
    "        \"\"\"\n",
    "        :type points: List[List[int]]\n",
    "        :rtype: int\n",
    "        \"\"\"\n",
    "        if len(points) == 1:\n",
    "            return 0\n",
    "        points_tuple = [tuple(point) for point in points]\n",
    "        def calc_cost(a, b):\n",
    "            return abs(a[0] - b[0]) + abs(a[1] - b[1])\n",
    "        cost = 0\n",
    "        temp_points = points_tuple[:]\n",
    "        while len(temp_points) > 0:\n",
    "            curr_point = temp_points.pop(0)\n",
    "            nearest_point = sorted(points_tuple, key = lambda x: calc_cost(x, curr_point))[1]\n",
    "            if nearest_point in temp_points:\n",
    "                temp_points.remove(nearest_point)\n",
    "            print(curr_point, nearest_point, calc_cost(curr_point, nearest_point))\n",
    "            cost += calc_cost(curr_point, nearest_point)\n",
    "        return cost\n",
    "\n",
    "\n",
    "\n",
    "\n",
    "s = Solution()\n",
    "# print(s.minCostConnectPoints([[0,0],[2,2],[3,10],[5,2],[7,0]]))\n",
    "print(s.minCostConnectPoints([[2,-3],[-17,-8],[13,8],[-17,-15]]))\n"
   ]
  },
  {
   "cell_type": "markdown",
   "metadata": {},
   "source": [
    "# neetcode solution\n",
    "- prims algorith\n",
    "  - takes n-1 edges to prevent a cycle\n",
    "  - each node must be connected\n",
    "  "
   ]
  },
  {
   "cell_type": "code",
   "execution_count": 35,
   "metadata": {},
   "outputs": [
    {
     "name": "stdout",
     "output_type": "stream",
     "text": [
      "{0: [[4, 1], [13, 2], [7, 3], [7, 4]], 1: [[4, 0], [9, 2], [3, 3], [7, 4]], 2: [[13, 0], [9, 1], [10, 3], [14, 4]], 3: [[7, 0], [3, 1], [10, 2], [4, 4]], 4: [[7, 0], [7, 1], [14, 2], [4, 3]]}\n",
      "20\n",
      "{0: [[24, 1], [22, 2], [31, 3]], 1: [[24, 0], [46, 2], [7, 3]], 2: [[22, 0], [46, 1], [53, 3]], 3: [[31, 0], [7, 1], [53, 2]]}\n",
      "53\n"
     ]
    }
   ],
   "source": [
    "import heapq\n",
    "class Solution(object):\n",
    "    def minCostConnectPoints(self, points):\n",
    "        \"\"\"\n",
    "        :type points: List[List[int]]\n",
    "        :rtype: int\n",
    "        \"\"\"\n",
    "        N = len(points)\n",
    "        adj = {i: [] for i in range(N)}\n",
    "        for i in range(N):\n",
    "            x1, y1 = points[i]\n",
    "            for j in range(i+1, N):\n",
    "                x2, y2 = points[j]\n",
    "                dist = abs(x1-x2) + abs(y1-y2)\n",
    "                adj[i].append([dist, j])\n",
    "                adj[j].append([dist, i])\n",
    "\n",
    "        # prims\n",
    "        res = 0\n",
    "        visited = set()\n",
    "        min_heap = [[0,0]]\n",
    "        while len(visited) < N:\n",
    "            dist, i = heapq.heappop(min_heap) \n",
    "            if i in visited:\n",
    "                continue\n",
    "            visited.add(i)\n",
    "            res += dist\n",
    "            for nei_dist, nei in adj[i]:\n",
    "                if nei not in visited:\n",
    "                   heapq.heappush(min_heap, [nei_dist, nei])\n",
    "        return res\n",
    "\n",
    "            \n",
    "         \n",
    "        \n",
    "s = Solution()\n",
    "print(s.minCostConnectPoints([[0,0],[2,2],[3,10],[5,2],[7,0]]))\n",
    "print(s.minCostConnectPoints([[2,-3],[-17,-8],[13,8],[-17,-15]]))"
   ]
  },
  {
   "cell_type": "code",
   "execution_count": null,
   "metadata": {},
   "outputs": [],
   "source": []
  }
 ],
 "metadata": {
  "kernelspec": {
   "display_name": "Python 3.10.2 ('env')",
   "language": "python",
   "name": "python3"
  },
  "language_info": {
   "codemirror_mode": {
    "name": "ipython",
    "version": 3
   },
   "file_extension": ".py",
   "mimetype": "text/x-python",
   "name": "python",
   "nbconvert_exporter": "python",
   "pygments_lexer": "ipython3",
   "version": "3.10.2"
  },
  "orig_nbformat": 4,
  "vscode": {
   "interpreter": {
    "hash": "8ebb0fa82196ab5cd02a5b231fa8fb6d37dc58c342ef6ac8d3ed2447e0dae4a4"
   }
  }
 },
 "nbformat": 4,
 "nbformat_minor": 2
}
