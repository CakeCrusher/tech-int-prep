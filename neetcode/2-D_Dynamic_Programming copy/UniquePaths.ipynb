{
 "cells": [
  {
   "cell_type": "markdown",
   "metadata": {},
   "source": [
    "# custom solution\n",
    "- not fast enough\n",
    "-pointless to cache in reverse as everything is cached at down and right"
   ]
  },
  {
   "cell_type": "code",
   "execution_count": 18,
   "metadata": {},
   "outputs": [
    {
     "name": "stdout",
     "output_type": "stream",
     "text": [
      "3124550\n"
     ]
    }
   ],
   "source": [
    "class Solution(object):\n",
    "    def uniquePaths(self, m, n):\n",
    "        \"\"\"\n",
    "        :type m: int\n",
    "        :type n: int\n",
    "        :rtype: int\n",
    "        \"\"\"\n",
    "        m = m-1\n",
    "        n = n-1\n",
    "        global t\n",
    "        t = 0\n",
    "        global cache\n",
    "        cache = set()\n",
    "        def dfs(x,y):\n",
    "            global t\n",
    "            global cache\n",
    "            if (x,y) in cache:\n",
    "                t += 1\n",
    "                return\n",
    "            if x == m and y == n:\n",
    "                t += 1\n",
    "                cache.add((x,y))\n",
    "                return\n",
    "            else:\n",
    "                if x < m:\n",
    "                    dfs(x+1,y)\n",
    "                if y < n:\n",
    "                    dfs(x,y+1)\n",
    "            return\n",
    "        dfs(0,0)\n",
    "        return t\n",
    "s = Solution()\n",
    "print(s.uniquePaths(17, 10))\n",
    "# print(s.uniquePaths(12,23))\n",
    "# 12 23 = 193536720\n",
    "        "
   ]
  },
  {
   "cell_type": "markdown",
   "metadata": {},
   "source": [
    "# neetcode inspired solution"
   ]
  },
  {
   "cell_type": "code",
   "execution_count": 10,
   "metadata": {},
   "outputs": [
    {
     "name": "stdout",
     "output_type": "stream",
     "text": [
      "193536720\n"
     ]
    }
   ],
   "source": [
    "class Solution(object):\n",
    "    def uniquePaths(self, m, n):\n",
    "        \"\"\"\n",
    "        :type m: int\n",
    "        :type n: int\n",
    "        :rtype: int\n",
    "        \"\"\"\n",
    "        grid = [[0 for i in range(n)] for j in range(m)]\n",
    "        for j in range (m-1, -1, -1):\n",
    "            for i in range(n-1, -1, -1):\n",
    "                if i == n-1 and j == m-1:\n",
    "                    grid[j][i] = 1\n",
    "                else:\n",
    "                    total = 0\n",
    "                    try:\n",
    "                        total += grid[j+1][i]\n",
    "                    except: pass\n",
    "                    try:\n",
    "                        total += grid[j][i+1]\n",
    "                    except: pass\n",
    "                    grid[j][i] = total\n",
    "        return grid[0][0]\n",
    "\n",
    "\n",
    "\n",
    "s = Solution()\n",
    "# print(s.uniquePaths(2, 3))\n",
    "print(s.uniquePaths(12,23))\n",
    "# 12 23 = 193536720\n",
    "        "
   ]
  },
  {
   "cell_type": "code",
   "execution_count": 2,
   "metadata": {},
   "outputs": [
    {
     "name": "stdout",
     "output_type": "stream",
     "text": [
      "[10, 2]\n"
     ]
    }
   ],
   "source": [
    "def change(a):\n",
    "    a[0] = 10\n",
    "b = [1,2]\n",
    "change(b)\n",
    "print(b)"
   ]
  },
  {
   "cell_type": "code",
   "execution_count": null,
   "metadata": {},
   "outputs": [],
   "source": []
  }
 ],
 "metadata": {
  "kernelspec": {
   "display_name": "Python 3.10.2 ('env')",
   "language": "python",
   "name": "python3"
  },
  "language_info": {
   "codemirror_mode": {
    "name": "ipython",
    "version": 3
   },
   "file_extension": ".py",
   "mimetype": "text/x-python",
   "name": "python",
   "nbconvert_exporter": "python",
   "pygments_lexer": "ipython3",
   "version": "3.10.2"
  },
  "orig_nbformat": 4,
  "vscode": {
   "interpreter": {
    "hash": "8ebb0fa82196ab5cd02a5b231fa8fb6d37dc58c342ef6ac8d3ed2447e0dae4a4"
   }
  }
 },
 "nbformat": 4,
 "nbformat_minor": 2
}
