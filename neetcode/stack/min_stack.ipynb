{
 "cells": [
  {
   "cell_type": "code",
   "execution_count": null,
   "metadata": {},
   "outputs": [],
   "source": [
    "# node = a data structure that stores that stores a value of any type that contains a pointer that points to another node"
   ]
  },
  {
   "cell_type": "code",
   "execution_count": 11,
   "metadata": {},
   "outputs": [
    {
     "name": "stdout",
     "output_type": "stream",
     "text": [
      "set new min:  -2\n",
      "set new min:  -3\n",
      "-3\n",
      "0\n",
      "-2\n"
     ]
    }
   ],
   "source": [
    "class MinStack(object):\n",
    "\n",
    "    def __init__(self):\n",
    "        self.arr = []\n",
    "        self.min = []\n",
    "\n",
    "        \n",
    "\n",
    "    def push(self, val):\n",
    "        \"\"\"\n",
    "        :type val: int\n",
    "        :rtype: None\n",
    "        \"\"\"\n",
    "        self.arr.append(val)\n",
    "        if not self.min or self.min[1] > val:\n",
    "            print(\"set new min: \", val)\n",
    "            self.min = (len(self.arr) - 1, val)\n",
    "\n",
    "    def pop(self):\n",
    "        \"\"\"\n",
    "        :rtype: None\n",
    "        \"\"\"\n",
    "        self.arr.pop()\n",
    "        if self.min[0] == len(self.arr):\n",
    "            # get index of a number\n",
    "            if self.arr:\n",
    "                new_min = min(self.arr)\n",
    "                self.min = (self.arr.index(new_min),new_min)\n",
    "            else:\n",
    "                self.min = None\n",
    "        \n",
    "\n",
    "    def top(self):\n",
    "        \"\"\"\n",
    "        :rtype: int\n",
    "        \"\"\"\n",
    "        return self.arr[-1]\n",
    "        \n",
    "\n",
    "    def getMin(self):\n",
    "        \"\"\"\n",
    "        :rtype: int\n",
    "        \"\"\"\n",
    "        return self.min[1]\n",
    "\n",
    "\n",
    "minStack = MinStack()\n",
    "minStack.push(-2)\n",
    "minStack.push(0)\n",
    "minStack.push(-3)\n",
    "print(minStack.getMin())\n",
    "minStack.pop()\n",
    "print(minStack.top())\n",
    "print(minStack.getMin())"
   ]
  },
  {
   "cell_type": "code",
   "execution_count": 12,
   "metadata": {},
   "outputs": [
    {
     "name": "stdout",
     "output_type": "stream",
     "text": [
      "-3\n",
      "0\n",
      "-2\n"
     ]
    }
   ],
   "source": [
    "class MinStack(object):\n",
    "\n",
    "    def __init__(self):\n",
    "        self.arr = []\n",
    "        self.min = []\n",
    "\n",
    "        \n",
    "\n",
    "    def push(self, val):\n",
    "        \"\"\"\n",
    "        :type val: int\n",
    "        :rtype: None\n",
    "        \"\"\"\n",
    "        self.arr.append(val)\n",
    "        if not self.min or self.min[-1] > val:\n",
    "            self.min.append(val)\n",
    "        else:\n",
    "            self.min.append(self.min[-1])\n",
    "\n",
    "\n",
    "    def pop(self):\n",
    "        \"\"\"\n",
    "        :rtype: None\n",
    "        \"\"\"\n",
    "        self.arr.pop()\n",
    "        self.min.pop()\n",
    "        \n",
    "\n",
    "    def top(self):\n",
    "        \"\"\"\n",
    "        :rtype: int\n",
    "        \"\"\"\n",
    "        return self.arr[-1]\n",
    "        \n",
    "\n",
    "    def getMin(self):\n",
    "        \"\"\"\n",
    "        :rtype: int\n",
    "        \"\"\"\n",
    "        return self.min[-1]\n",
    "\n",
    "\n",
    "minStack = MinStack()\n",
    "minStack.push(-2)\n",
    "minStack.push(0)\n",
    "minStack.push(-3)\n",
    "print(minStack.getMin())\n",
    "minStack.pop()\n",
    "print(minStack.top())\n",
    "print(minStack.getMin())"
   ]
  }
 ],
 "metadata": {
  "kernelspec": {
   "display_name": "Python 3.10.2 64-bit",
   "language": "python",
   "name": "python3"
  },
  "language_info": {
   "codemirror_mode": {
    "name": "ipython",
    "version": 3
   },
   "file_extension": ".py",
   "mimetype": "text/x-python",
   "name": "python",
   "nbconvert_exporter": "python",
   "pygments_lexer": "ipython3",
   "version": "3.10.2"
  },
  "orig_nbformat": 4,
  "vscode": {
   "interpreter": {
    "hash": "369f2c481f4da34e4445cda3fffd2e751bd1c4d706f27375911949ba6bb62e1c"
   }
  }
 },
 "nbformat": 4,
 "nbformat_minor": 2
}
