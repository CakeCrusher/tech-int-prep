{
 "cells": [
  {
   "cell_type": "code",
   "execution_count": null,
   "metadata": {},
   "outputs": [],
   "source": [
    "# stack = when an array is constantly being added to and removed from\n",
    "# dictionary keys give more info than values"
   ]
  },
  {
   "cell_type": "code",
   "execution_count": 10,
   "metadata": {},
   "outputs": [
    {
     "name": "stdout",
     "output_type": "stream",
     "text": [
      "False\n"
     ]
    }
   ],
   "source": [
    "from collections import defaultdict\n",
    "\n",
    "s = \")()[]{}\"\n",
    "def test():\n",
    "    d = defaultdict(int)\n",
    "    def get_counterpart(char):\n",
    "        if char == \")\":\n",
    "            return \"(\"\n",
    "        elif char == \"]\":\n",
    "            return \"[\"\n",
    "        elif char == \"}\":\n",
    "            return \"{\"\n",
    "        elif char == \"(\":\n",
    "            return \")\"\n",
    "        elif char == \"[\":\n",
    "            return \"]\"\n",
    "        elif char == \"{\":\n",
    "            return \"}\"\n",
    "        else:\n",
    "            raise ValueError(\"Invalid input\")\n",
    "    def is_open(char):\n",
    "        return char in [\"(\", \"[\", \"{\"]\n",
    "    for i in s:\n",
    "        d[i] += 1\n",
    "        if not is_open(i):\n",
    "            d[get_counterpart(i)] -= 1\n",
    "            if d[get_counterpart(i)] < 0:\n",
    "                return False\n",
    "    return True\n",
    "\n",
    "\n",
    "        \n",
    "\n",
    "print(test())"
   ]
  },
  {
   "cell_type": "code",
   "execution_count": 27,
   "metadata": {},
   "outputs": [
    {
     "name": "stdout",
     "output_type": "stream",
     "text": [
      "False\n"
     ]
    }
   ],
   "source": [
    "s = \"[\"\n",
    "def test():\n",
    "    opens = []\n",
    "    def get_counterpart(char):\n",
    "        if char == \")\":\n",
    "            return \"(\"\n",
    "        elif char == \"]\":\n",
    "            return \"[\"\n",
    "        elif char == \"}\":\n",
    "            return \"{\"\n",
    "        elif char == \"(\":\n",
    "            return \")\"\n",
    "        elif char == \"[\":\n",
    "            return \"]\"\n",
    "        elif char == \"{\":\n",
    "            return \"}\"\n",
    "        else:\n",
    "            raise ValueError(\"Invalid input\")\n",
    "    def is_open(char):\n",
    "        return char in [\"(\", \"[\", \"{\"]\n",
    "    for i in s:\n",
    "        if is_open(i):\n",
    "            opens.append(i)\n",
    "        else:\n",
    "            if not opens or get_counterpart(i) != opens[-1]:\n",
    "                return False\n",
    "            else:\n",
    "                opens.pop()\n",
    "    return True if not opens else False\n",
    "\n",
    "print(test())"
   ]
  },
  {
   "cell_type": "code",
   "execution_count": 34,
   "metadata": {},
   "outputs": [
    {
     "name": "stdout",
     "output_type": "stream",
     "text": [
      "False\n"
     ]
    }
   ],
   "source": [
    "s = \"[[(])]\"\n",
    "def test():\n",
    "    opens = []\n",
    "    close_hash = {\")\": \"(\", \"]\": \"[\", \"}\": \"{\"}\n",
    "    for i in s:\n",
    "        if i in close_hash:\n",
    "            if not opens or close_hash[i] != opens[-1]:\n",
    "                return False\n",
    "            else:\n",
    "                opens.pop()\n",
    "        else:\n",
    "            opens.append(i)\n",
    "    return True if not opens else False\n",
    "\n",
    "print(test())"
   ]
  }
 ],
 "metadata": {
  "kernelspec": {
   "display_name": "Python 3.8.8 ('ai')",
   "language": "python",
   "name": "python3"
  },
  "language_info": {
   "codemirror_mode": {
    "name": "ipython",
    "version": 3
   },
   "file_extension": ".py",
   "mimetype": "text/x-python",
   "name": "python",
   "nbconvert_exporter": "python",
   "pygments_lexer": "ipython3",
   "version": "3.8.8"
  },
  "orig_nbformat": 4,
  "vscode": {
   "interpreter": {
    "hash": "3589496a1d7869e9b6ec6501882ac71de083d81c3d95f817a096c95ce40eb3d6"
   }
  }
 },
 "nbformat": 4,
 "nbformat_minor": 2
}
