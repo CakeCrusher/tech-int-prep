{
 "cells": [
  {
   "cell_type": "code",
   "execution_count": 22,
   "metadata": {},
   "outputs": [
    {
     "name": "stdout",
     "output_type": "stream",
     "text": [
      "[]\n",
      "['10']\n",
      "['10', '6']\n",
      "['10', '6', '9']\n",
      "['10', '6', '9', '3']\n",
      "+\n",
      "['10', '6', 12]\n",
      "['10', '6', 12, '-11']\n",
      "*\n",
      "['10', '6', -132]\n",
      "/\n",
      "['10', 0]\n",
      "*\n",
      "[0]\n",
      "[0, '17']\n",
      "+\n",
      "[17]\n",
      "[17, '5']\n",
      "+\n",
      "22\n"
     ]
    }
   ],
   "source": [
    "# 0\n",
    "class Solution(object):\n",
    "    def evalRPN(self, tokens):\n",
    "        \"\"\"\n",
    "        :type tokens: List[str]\n",
    "        :rtype: int\n",
    "        \"\"\"\n",
    "        stack = []\n",
    "        for i in tokens:\n",
    "            print(stack)\n",
    "            if i in [\"+\", \"-\", \"*\", \"/\"] and len(stack) >= 2:\n",
    "                print(i)\n",
    "                b = int(stack.pop())\n",
    "                a = int(stack.pop())\n",
    "                if i == \"+\":\n",
    "                    stack.append(a + b)\n",
    "                elif i == \"-\":\n",
    "                    stack.append(a - b)\n",
    "                elif i == \"*\":\n",
    "                    stack.append(a * b)\n",
    "                elif i == \"/\":\n",
    "                    div = a / b\n",
    "                    # int does not work the same on leetcode compiler\n",
    "                    # # version custom\n",
    "                    # if div < 0:\n",
    "                    #     div = int(abs(div))\n",
    "                    #     div = -div\n",
    "                    # version copilot\n",
    "                    if div < 0 and a % b != 0:\n",
    "                        div += 1\n",
    "                    stack.append(int(div))\n",
    "            else:\n",
    "                stack.append(i)\n",
    "        return stack[0]\n",
    "\n",
    "s = Solution()\n",
    "# print(s.evalRPN([\"2\",\"1\",\"+\",\"3\",\"*\"]))\n",
    "# print(s.evalRPN([\"4\",\"13\",\"5\",\"/\",\"+\"]))\n",
    "# print(s.evalRPN([\"10\",\"6\",\"9\",\"3\",\"+\",\"-11\",\"*\",\"/\",\"*\",\"17\",\"+\",\"5\",\"+\"]))\n",
    "print(s.evalRPN([\"10\",\"6\",\"9\",\"3\",\"+\",\"-11\",\"*\",\"/\",\"*\",\"17\",\"+\",\"5\",\"+\"]))\n",
    "                "
   ]
  },
  {
   "cell_type": "code",
   "execution_count": 24,
   "metadata": {},
   "outputs": [
    {
     "data": {
      "text/plain": [
       "10.9"
      ]
     },
     "execution_count": 24,
     "metadata": {},
     "output_type": "execute_result"
    }
   ],
   "source": [
    "abs(-10.9)"
   ]
  },
  {
   "cell_type": "code",
   "execution_count": 20,
   "metadata": {},
   "outputs": [
    {
     "data": {
      "text/plain": [
       "4"
      ]
     },
     "execution_count": 20,
     "metadata": {},
     "output_type": "execute_result"
    }
   ],
   "source": [
    "12//3"
   ]
  },
  {
   "cell_type": "code",
   "execution_count": null,
   "metadata": {},
   "outputs": [],
   "source": []
  }
 ],
 "metadata": {
  "kernelspec": {
   "display_name": "Python 3.10.2 ('env')",
   "language": "python",
   "name": "python3"
  },
  "language_info": {
   "codemirror_mode": {
    "name": "ipython",
    "version": 3
   },
   "file_extension": ".py",
   "mimetype": "text/x-python",
   "name": "python",
   "nbconvert_exporter": "python",
   "pygments_lexer": "ipython3",
   "version": "3.10.2"
  },
  "orig_nbformat": 4,
  "vscode": {
   "interpreter": {
    "hash": "8ebb0fa82196ab5cd02a5b231fa8fb6d37dc58c342ef6ac8d3ed2447e0dae4a4"
   }
  }
 },
 "nbformat": 4,
 "nbformat_minor": 2
}
