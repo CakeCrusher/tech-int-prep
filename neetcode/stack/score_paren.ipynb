{
 "cells": [
  {
   "cell_type": "code",
   "execution_count": 17,
   "metadata": {},
   "outputs": [
    {
     "name": "stdout",
     "output_type": "stream",
     "text": [
      "[]\n",
      "['(']\n"
     ]
    },
    {
     "data": {
      "text/plain": [
       "1"
      ]
     },
     "execution_count": 17,
     "metadata": {},
     "output_type": "execute_result"
    }
   ],
   "source": [
    "class Solution(object):\n",
    "    def scoreOfParentheses(self, s):\n",
    "        \"\"\"\n",
    "        :type s: str\n",
    "        :rtype: int\n",
    "        \"\"\"\n",
    "        tot = 0\n",
    "        stack = [] # \"(\", \"(\", 1, 1, \"(\", 1\n",
    "        for c in s:\n",
    "            print(stack)\n",
    "            if c == \")\":\n",
    "                if type(stack[-1]) == int:\n",
    "                    # remove the last 2 elements with slice\n",
    "                    temp = 0\n",
    "                    slice = stack[-2:]\n",
    "                    stack = stack[:-2]\n",
    "                    stack.append(slice[1]*2)\n",
    "                    while stack and type(stack[-1]) == int:\n",
    "                        temp += stack.pop()\n",
    "                    stack.append(temp)\n",
    "                else:\n",
    "                    stack.pop()\n",
    "                    if stack and type(stack[-1]) == int:\n",
    "                        stack[-1] += 1\n",
    "                    else:\n",
    "                        stack.append(1)\n",
    "            else:\n",
    "                stack.append(c)\n",
    "        return stack[0]\n",
    "\n",
    "\n",
    "    \n",
    "inp = \"()\" # 6\n",
    "sol = Solution()\n",
    "sol.scoreOfParentheses(inp)"
   ]
  }
 ],
 "metadata": {
  "kernelspec": {
   "display_name": "Python 3.10.2 ('env')",
   "language": "python",
   "name": "python3"
  },
  "language_info": {
   "codemirror_mode": {
    "name": "ipython",
    "version": 3
   },
   "file_extension": ".py",
   "mimetype": "text/x-python",
   "name": "python",
   "nbconvert_exporter": "python",
   "pygments_lexer": "ipython3",
   "version": "3.10.2"
  },
  "orig_nbformat": 4,
  "vscode": {
   "interpreter": {
    "hash": "8ebb0fa82196ab5cd02a5b231fa8fb6d37dc58c342ef6ac8d3ed2447e0dae4a4"
   }
  }
 },
 "nbformat": 4,
 "nbformat_minor": 2
}
