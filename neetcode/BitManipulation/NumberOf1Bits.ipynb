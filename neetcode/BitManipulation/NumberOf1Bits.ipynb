{
 "cells": [
  {
   "cell_type": "code",
   "execution_count": 38,
   "metadata": {},
   "outputs": [
    {
     "data": {
      "text/plain": [
       "3"
      ]
     },
     "execution_count": 38,
     "metadata": {},
     "output_type": "execute_result"
    }
   ],
   "source": [
    "# stringifying\n",
    "class Solution:\n",
    "    def hammingWeight(self, n: int) -> int:\n",
    "        # transform int to binary\n",
    "        cou = 0\n",
    "        a = bin(n)\n",
    "        for i in a:\n",
    "            if i == '1':\n",
    "                cou += 1\n",
    "        return cou\n",
    "\n",
    "# shifting\n",
    "class Solution:\n",
    "    def hammingWeight(self, n: int) -> int:\n",
    "        # transform int to binary\n",
    "        cou = 0\n",
    "        a = n\n",
    "        while a:\n",
    "            cou += a%2\n",
    "            a = a>>1\n",
    "        return cou\n",
    "\n",
    "# bitwise and\n",
    "class Solution:\n",
    "    def hammingWeight(self, n: int) -> int:\n",
    "        # transform int to binary\n",
    "        cou = 0\n",
    "        while n:\n",
    "            n &= n-1\n",
    "            cou += 1\n",
    "        return cou\n",
    "\n",
    "s = Solution()\n",
    "s.hammingWeight(11)"
   ]
  },
  {
   "cell_type": "code",
   "execution_count": 37,
   "metadata": {},
   "outputs": [
    {
     "name": "stdout",
     "output_type": "stream",
     "text": [
      "0b1000\n",
      "0b111\n",
      "0\n",
      "0b0\n"
     ]
    }
   ],
   "source": [
    "a = 8\n",
    "print(bin(a))\n",
    "print(bin(a-1))\n",
    "print(a&(a-1))\n",
    "print(bin(a&(a-1)))\n"
   ]
  }
 ],
 "metadata": {
  "kernelspec": {
   "display_name": "Python 3.10.2 ('env')",
   "language": "python",
   "name": "python3"
  },
  "language_info": {
   "codemirror_mode": {
    "name": "ipython",
    "version": 3
   },
   "file_extension": ".py",
   "mimetype": "text/x-python",
   "name": "python",
   "nbconvert_exporter": "python",
   "pygments_lexer": "ipython3",
   "version": "3.10.2"
  },
  "orig_nbformat": 4,
  "vscode": {
   "interpreter": {
    "hash": "8ebb0fa82196ab5cd02a5b231fa8fb6d37dc58c342ef6ac8d3ed2447e0dae4a4"
   }
  }
 },
 "nbformat": 4,
 "nbformat_minor": 2
}
