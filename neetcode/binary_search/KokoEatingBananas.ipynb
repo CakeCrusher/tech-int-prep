{
 "cells": [
  {
   "cell_type": "code",
   "execution_count": null,
   "metadata": {},
   "outputs": [],
   "source": []
  },
  {
   "cell_type": "markdown",
   "metadata": {},
   "source": [
    "# my initial attempt\n",
    "- this version is superior when spare hours is low but max bananas is high\n",
    "  - will outperform neetcode's under that circumstance \n",
    "- create a system for for dispensing the spare hours to the piles\n",
    "- get the max from the zipped multiplication + 1\n",
    "- add a spare hour to it untill it is no longer the max\n",
    "  - RETRACT: need to sart at max and work down\n",
    "    - add all the hours to the max\n",
    "    - distrubute the hours from there\n",
    "    - it will still be linear time (i.e. too slow)\n",
    "- return the max"
   ]
  },
  {
   "cell_type": "code",
   "execution_count": null,
   "metadata": {},
   "outputs": [],
   "source": [
    "import math\n",
    "class Solution(object):\n",
    "    def minEatingSpeed(self, piles, h):\n",
    "        \"\"\"\n",
    "        :type piles: List[int]\n",
    "        :type h: int\n",
    "        :rtype: int\n",
    "        \"\"\"\n",
    "        spare = h - len(piles)\n",
    "        # reverse the sorted piles\n",
    "        piles.sort(reverse=True)\n",
    "\n",
    "        multipliers = [1, 1]\n",
    "        while spare > 0:\n",
    "            zipped = zip(piles[0:len(multipliers)], multipliers)\n",
    "            zipped_prods = [math.ceil(x/y) for x,y in zipped]\n",
    "            max_idx = zipped_prods.index(max(zipped_prods))\n",
    "            multipliers[max_idx] += 1\n",
    "            spare -= 1\n",
    "            if multipliers[-1] > 1:\n",
    "                multipliers.append(1)\n",
    "            # print(\"multipliers: \", multipliers)\n",
    "            # print(\"spare: \", spare)\n",
    "        zipped = zip(piles[0:len(multipliers)], multipliers)\n",
    "        zipped_prods = [math.ceil(x/y) for x,y in zipped]\n",
    "        # print(\"final piles: \", piles[0:len(multipliers)])\n",
    "        # print(\"final multipliers: \", multipliers)\n",
    "        # print(\"zipped_prods: \", zipped_prods)\n",
    "        return max(zipped_prods)\n",
    "\n",
    "\n",
    "# [1,2,3,34,100]   \n",
    "s = Solution()\n",
    "# demonstration of outperforming neetcode\n",
    "print(s.minEatingSpeed([1E+17], 8))\n"
   ]
  },
  {
   "cell_type": "markdown",
   "metadata": {},
   "source": [
    "# neetcode solution"
   ]
  },
  {
   "cell_type": "code",
   "execution_count": null,
   "metadata": {},
   "outputs": [],
   "source": [
    "import math\n",
    "class Solution(object):\n",
    "    def minEatingSpeed(self, piles, h):\n",
    "        \"\"\"\n",
    "        :type piles: List[int]\n",
    "        :type h: int\n",
    "        :rtype: int\n",
    "        \"\"\"\n",
    "        piles.sort(reverse=True)\n",
    "        l, r = 1, piles[0]\n",
    "        res = r\n",
    "        while l <= r:\n",
    "            k = (r+l)//2\n",
    "            total_hrs = 0\n",
    "            for pile in piles:\n",
    "                total_hrs += math.ceil(pile/k)\n",
    "            if total_hrs <= h:\n",
    "                res = min(res, k)\n",
    "                r = k - 1\n",
    "            else:\n",
    "                l = k + 1\n",
    "        return res\n",
    "\n",
    "\n",
    "# [1,2,3,34,100]   \n",
    "s = Solution()\n",
    "# print(s.minEatingSpeed([30,11,23,4,20], 5))\n",
    "# demonstration of underperforming\n",
    "print(s.minEatingSpeed([1E+17], 8))\n"
   ]
  }
 ],
 "metadata": {
  "kernelspec": {
   "display_name": "Python 3.10.2 ('env')",
   "language": "python",
   "name": "python3"
  },
  "language_info": {
   "codemirror_mode": {
    "name": "ipython",
    "version": 3
   },
   "file_extension": ".py",
   "mimetype": "text/x-python",
   "name": "python",
   "nbconvert_exporter": "python",
   "pygments_lexer": "ipython3",
   "version": "3.10.2"
  },
  "orig_nbformat": 4,
  "vscode": {
   "interpreter": {
    "hash": "8ebb0fa82196ab5cd02a5b231fa8fb6d37dc58c342ef6ac8d3ed2447e0dae4a4"
   }
  }
 },
 "nbformat": 4,
 "nbformat_minor": 2
}
