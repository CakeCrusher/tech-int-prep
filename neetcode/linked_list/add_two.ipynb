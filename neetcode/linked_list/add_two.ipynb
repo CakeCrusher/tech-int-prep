{
 "cells": [
  {
   "cell_type": "code",
   "execution_count": 17,
   "metadata": {},
   "outputs": [
    {
     "name": "stdout",
     "output_type": "stream",
     "text": [
      "0\n"
     ]
    }
   ],
   "source": [
    "# Definition for singly-linked list.\n",
    "class ListNode(object):\n",
    "    def __init__(self, val=0, next=None):\n",
    "        self.val = val\n",
    "        self.next = next\n",
    "class Solution(object):\n",
    "    def addTwoNumbers(self, l1, l2):\n",
    "        \"\"\"\n",
    "        :type l1: ListNode\n",
    "        :type l2: ListNode\n",
    "        :rtype: ListNode\n",
    "        \"\"\"\n",
    "        currL = l1\n",
    "        strL = \"\"\n",
    "        currR = l2\n",
    "        strR = \"\"\n",
    "        while currL or currR:\n",
    "            if currL:\n",
    "                strL += str(currL.val)\n",
    "                currL = currL.next\n",
    "            if currR:\n",
    "                strR += str(currR.val)\n",
    "                currR = currR.next\n",
    "        tSumStr = str(int(strL[::-1]) + int(strR[::-1]))\n",
    "        def merge(strSum, prevNode = None):\n",
    "            if strSum:\n",
    "                if not prevNode:\n",
    "                    prevNode = ListNode(int(strSum[0]))\n",
    "                else:\n",
    "                    prevNode = ListNode(int(strSum[0]), prevNode)\n",
    "                return merge(strSum[1:], prevNode)\n",
    "            else:\n",
    "                return prevNode\n",
    "        return merge(tSumStr)\n",
    "\n",
    "\n",
    "l1 = ListNode(3)\n",
    "l2 = ListNode(4, l1)\n",
    "l3 = ListNode(2, l2)\n",
    "r1 = ListNode(4)\n",
    "r2 = ListNode(6, r1)\n",
    "r3 = ListNode(5, r2)\n",
    "l3 = ListNode(0)\n",
    "r3 = ListNode(0)\n",
    "\n",
    "\n",
    "s = Solution()\n",
    "ll = s.addTwoNumbers(l3, r3)\n",
    "currLL: ListNode = ll\n",
    "\n",
    "while currLL and type(currLL.val) == int:\n",
    "    print(currLL.val)\n",
    "    currLL = currLL.next\n",
    "\n"
   ]
  },
  {
   "cell_type": "code",
   "execution_count": 22,
   "metadata": {},
   "outputs": [
    {
     "name": "stdout",
     "output_type": "stream",
     "text": [
      "7\n",
      "0\n",
      "8\n"
     ]
    }
   ],
   "source": [
    "# Definition for singly-linked list.\n",
    "class ListNode(object):\n",
    "    def __init__(self, val=0, next=None):\n",
    "        self.val = val\n",
    "        self.next = next\n",
    "class Solution(object):\n",
    "    def addTwoNumbers(self, l1, l2):\n",
    "        \"\"\"\n",
    "        :type l1: ListNode\n",
    "        :type l2: ListNode\n",
    "        :rtype: ListNode\n",
    "        \"\"\"\n",
    "        sumStr = \"\"\n",
    "        carry = 0\n",
    "        currL = l1\n",
    "        currR = l2\n",
    "        while currL or currR or carry:\n",
    "            currSum = 0\n",
    "            if currL:\n",
    "                currSum += currL.val\n",
    "                currL = currL.next\n",
    "            if currR:\n",
    "                currSum += currR.val\n",
    "                currR = currR.next\n",
    "            currSum += carry\n",
    "            carry = 0\n",
    "            carry = currSum // 10\n",
    "            rem = currSum % 10\n",
    "            # push to the beggining of the string\n",
    "            sumStr = str(rem) + sumStr\n",
    "\n",
    "\n",
    "        \n",
    "        def merge(strSum, prevNode = None):\n",
    "            if strSum:\n",
    "                if not prevNode:\n",
    "                    prevNode = ListNode(int(strSum[0]))\n",
    "                else:\n",
    "                    prevNode = ListNode(int(strSum[0]), prevNode)\n",
    "                return merge(strSum[1:], prevNode)\n",
    "            else:\n",
    "                return prevNode\n",
    "        return merge(sumStr)\n",
    "\n",
    "\n",
    "l1 = ListNode(3)\n",
    "l2 = ListNode(4, l1)\n",
    "l3 = ListNode(2, l2)\n",
    "r1 = ListNode(4)\n",
    "r2 = ListNode(6, r1)\n",
    "r3 = ListNode(5, r2)\n",
    "# l3 = ListNode(0)\n",
    "# r3 = ListNode(0)\n",
    "\n",
    "\n",
    "s = Solution()\n",
    "ll = s.addTwoNumbers(l3, r3)\n",
    "currLL: ListNode = ll\n",
    "\n",
    "while currLL and type(currLL.val) == int:\n",
    "    print(currLL.val)\n",
    "    currLL = currLL.next\n",
    "\n"
   ]
  },
  {
   "cell_type": "code",
   "execution_count": 23,
   "metadata": {},
   "outputs": [
    {
     "name": "stdout",
     "output_type": "stream",
     "text": [
      "7\n",
      "0\n",
      "8\n"
     ]
    }
   ],
   "source": [
    "# Definition for singly-linked list.\n",
    "class ListNode(object):\n",
    "    def __init__(self, val=0, next=None):\n",
    "        self.val = val\n",
    "        self.next = next\n",
    "class Solution(object):\n",
    "    def addTwoNumbers(self, l1, l2):\n",
    "        \"\"\"\n",
    "        :type l1: ListNode\n",
    "        :type l2: ListNode\n",
    "        :rtype: ListNode\n",
    "        \"\"\"\n",
    "        dummy = ListNode()\n",
    "        curr = dummy\n",
    "        carry = 0\n",
    "        currL = l1\n",
    "        currR = l2\n",
    "        while currL or currR or carry:\n",
    "            valL = currL.val if currL else 0\n",
    "            valR = currR.val if currR else 0\n",
    "            currSum = valL + valR + carry\n",
    "            carry = currSum // 10\n",
    "            rem = currSum % 10\n",
    "            curr.next = ListNode(rem)\n",
    "\n",
    "            curr = curr.next\n",
    "            currL = currL.next if currL else None\n",
    "            currR = currR.next if currR else None\n",
    "            \n",
    "        return dummy.next\n",
    "\n",
    "\n",
    "l1 = ListNode(3)\n",
    "l2 = ListNode(4, l1)\n",
    "l3 = ListNode(2, l2)\n",
    "r1 = ListNode(4)\n",
    "r2 = ListNode(6, r1)\n",
    "r3 = ListNode(5, r2)\n",
    "# l3 = ListNode(0)\n",
    "# r3 = ListNode(0)\n",
    "\n",
    "\n",
    "s = Solution()\n",
    "ll = s.addTwoNumbers(l3, r3)\n",
    "currLL: ListNode = ll\n",
    "\n",
    "while currLL and type(currLL.val) == int:\n",
    "    print(currLL.val)\n",
    "    currLL = currLL.next\n",
    "\n"
   ]
  },
  {
   "cell_type": "code",
   "execution_count": 6,
   "metadata": {},
   "outputs": [
    {
     "data": {
      "text/plain": [
       "34"
      ]
     },
     "execution_count": 6,
     "metadata": {},
     "output_type": "execute_result"
    }
   ],
   "source": [
    "21+13"
   ]
  }
 ],
 "metadata": {
  "kernelspec": {
   "display_name": "Python 3.10.2 ('env')",
   "language": "python",
   "name": "python3"
  },
  "language_info": {
   "codemirror_mode": {
    "name": "ipython",
    "version": 3
   },
   "file_extension": ".py",
   "mimetype": "text/x-python",
   "name": "python",
   "nbconvert_exporter": "python",
   "pygments_lexer": "ipython3",
   "version": "3.10.2"
  },
  "orig_nbformat": 4,
  "vscode": {
   "interpreter": {
    "hash": "8ebb0fa82196ab5cd02a5b231fa8fb6d37dc58c342ef6ac8d3ed2447e0dae4a4"
   }
  }
 },
 "nbformat": 4,
 "nbformat_minor": 2
}
