{
 "cells": [
  {
   "cell_type": "code",
   "execution_count": 26,
   "metadata": {},
   "outputs": [
    {
     "name": "stdout",
     "output_type": "stream",
     "text": [
      "[[1, 6], [8, 10], [15, 18]]\n",
      "[[1, 5]]\n",
      "[[0, 0], [1, 4]]\n",
      "[[0, 4]]\n",
      "[[1, 4]]\n",
      "[[1, 10]]\n",
      "[[2, 4], [5, 5]]\n"
     ]
    }
   ],
   "source": [
    "# 0\n",
    "class Solution(object):\n",
    "    def merge(self, intervals):\n",
    "        \"\"\"\n",
    "        :type intervals: List[List[int]]\n",
    "        :rtype: List[List[int]]\n",
    "        \"\"\"\n",
    "        # sorting makes this problem a lot simpler\n",
    "        sorted_intervals = sorted(intervals, key=lambda x: x[0])\n",
    "        i = 0\n",
    "        while i < len(sorted_intervals) - 1:\n",
    "            next_range = range(sorted_intervals[i+1][0], sorted_intervals[i+1][1] + 1)\n",
    "            this_range = range(sorted_intervals[i][0], sorted_intervals[i][1] + 1)\n",
    "            if sorted_intervals[i][0] in next_range or sorted_intervals[i][1] in next_range or sorted_intervals[i+1][0] in this_range or sorted_intervals[i+1][1] in this_range:\n",
    "                sorted_intervals[i : i+2] = [[\n",
    "                    min(sorted_intervals[i][0], sorted_intervals[i+1][0]),\n",
    "                    max(sorted_intervals[i][1], sorted_intervals[i+1][1])\n",
    "                ]]\n",
    "            else:\n",
    "                i += 1\n",
    "        return sorted_intervals\n",
    "\n",
    "s = Solution()\n",
    "print(s.merge([[1,3],[2,6],[8,10],[15,18]]))\n",
    "print(s.merge([[1,4],[4,5]]))\n",
    "print(s.merge([[1,4],[0,0]]))\n",
    "print(s.merge([[1,4],[0,1]]))\n",
    "print(s.merge([[1,4],[2,3]]))\n",
    "print(s.merge([[2,3],[4,5],[6,7],[8,9],[1,10]]))\n",
    "print(s.merge([[2,3],[5,5],[2,2],[3,4],[3,4]]))"
   ]
  },
  {
   "cell_type": "code",
   "execution_count": 1,
   "metadata": {},
   "outputs": [
    {
     "name": "stdout",
     "output_type": "stream",
     "text": [
      "[[1, 6], [8, 10], [15, 18]]\n",
      "[[1, 5]]\n",
      "[[0, 0], [1, 4]]\n",
      "[[0, 4]]\n",
      "[[1, 4]]\n",
      "[[1, 10]]\n",
      "[[2, 4], [5, 5]]\n"
     ]
    }
   ],
   "source": [
    "# 1\n",
    "# NeetCode blind copy\n",
    "class Solution(object):\n",
    "    def merge(self, intervals):\n",
    "        \"\"\"\n",
    "        :type intervals: List[List[int]]\n",
    "        :rtype: List[List[int]]\n",
    "        \"\"\"\n",
    "        # sorting makes this problem a lot simpler\n",
    "        intervals.sort(key=lambda x: x[0])\n",
    "        output = [intervals[0]]\n",
    "        for start, end in intervals[1:]:\n",
    "            last_end = output[-1][1]\n",
    "            if start <= last_end:\n",
    "                output[-1][1] = max(last_end, end)\n",
    "            else:\n",
    "                output.append([start, end])\n",
    "        return output\n",
    "\n",
    "s = Solution()\n",
    "print(s.merge([[1,3],[2,6],[8,10],[15,18]]))\n",
    "print(s.merge([[1,4],[4,5]]))\n",
    "print(s.merge([[1,4],[0,0]]))\n",
    "print(s.merge([[1,4],[0,1]]))\n",
    "print(s.merge([[1,4],[2,3]]))\n",
    "print(s.merge([[2,3],[4,5],[6,7],[8,9],[1,10]]))\n",
    "print(s.merge([[2,3],[5,5],[2,2],[3,4],[3,4]]))\n"
   ]
  },
  {
   "cell_type": "code",
   "execution_count": null,
   "metadata": {},
   "outputs": [],
   "source": []
  }
 ],
 "metadata": {
  "kernelspec": {
   "display_name": "Python 3.10.2 ('env')",
   "language": "python",
   "name": "python3"
  },
  "language_info": {
   "codemirror_mode": {
    "name": "ipython",
    "version": 3
   },
   "file_extension": ".py",
   "mimetype": "text/x-python",
   "name": "python",
   "nbconvert_exporter": "python",
   "pygments_lexer": "ipython3",
   "version": "3.10.2"
  },
  "orig_nbformat": 4,
  "vscode": {
   "interpreter": {
    "hash": "8ebb0fa82196ab5cd02a5b231fa8fb6d37dc58c342ef6ac8d3ed2447e0dae4a4"
   }
  }
 },
 "nbformat": 4,
 "nbformat_minor": 2
}
