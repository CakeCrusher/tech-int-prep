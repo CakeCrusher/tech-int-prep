{
 "cells": [
  {
   "cell_type": "code",
   "execution_count": 9,
   "metadata": {},
   "outputs": [
    {
     "name": "stdout",
     "output_type": "stream",
     "text": [
      "1\n",
      "2\n",
      "2\n"
     ]
    }
   ],
   "source": [
    "# 0\n",
    "class Solution(object):\n",
    "    def eraseOverlapIntervals(self, intervals):\n",
    "        \"\"\"\n",
    "        :type intervals: List[List[int]]\n",
    "        :rtype: int\n",
    "        \"\"\"\n",
    "        intervals.sort(key=lambda x: x[0])\n",
    "        output = [intervals[0]]\n",
    "        for start,end in intervals[1:]:\n",
    "            last = output[-1]\n",
    "            if start < last[1]:\n",
    "                output[-1] = min([last, [start, end]], key=lambda x: x[1])\n",
    "                continue\n",
    "            else:\n",
    "                output.append([start,end])\n",
    "        return len(intervals) - len(output)\n",
    "                \n",
    "        \n",
    "s = Solution()\n",
    "print(s.eraseOverlapIntervals([[1,2],[2,3],[3,4],[1,3]]))\n",
    "print(s.eraseOverlapIntervals([[1,2],[1,2],[1,2]]))\n",
    "print(s.eraseOverlapIntervals([[1,100],[11,22],[1,11],[2,12]]))"
   ]
  },
  {
   "cell_type": "code",
   "execution_count": 11,
   "metadata": {},
   "outputs": [
    {
     "name": "stdout",
     "output_type": "stream",
     "text": [
      "1\n",
      "2\n",
      "2\n"
     ]
    }
   ],
   "source": [
    "# 1\n",
    "# NeetCode blind copy\n",
    "class Solution(object):\n",
    "    def eraseOverlapIntervals(self, intervals):\n",
    "        \"\"\"\n",
    "        :type intervals: List[List[int]]\n",
    "        :rtype: int\n",
    "        \"\"\"\n",
    "        intervals.sort(key=lambda x: x[0])\n",
    "        last_end = intervals[0][1]\n",
    "        res = 0\n",
    "        for start, end in intervals[1:]:\n",
    "            if start < last_end:\n",
    "                res += 1\n",
    "                last_end = min(last_end, end)\n",
    "            else:\n",
    "                last_end = end\n",
    "        return res\n",
    "\n",
    "                \n",
    "        \n",
    "s = Solution()\n",
    "print(s.eraseOverlapIntervals([[1,2],[2,3],[3,4],[1,3]]))\n",
    "print(s.eraseOverlapIntervals([[1,2],[1,2],[1,2]]))\n",
    "print(s.eraseOverlapIntervals([[1,100],[11,22],[1,11],[2,12]]))"
   ]
  }
 ],
 "metadata": {
  "kernelspec": {
   "display_name": "Python 3.10.2 ('env')",
   "language": "python",
   "name": "python3"
  },
  "language_info": {
   "codemirror_mode": {
    "name": "ipython",
    "version": 3
   },
   "file_extension": ".py",
   "mimetype": "text/x-python",
   "name": "python",
   "nbconvert_exporter": "python",
   "pygments_lexer": "ipython3",
   "version": "3.10.2"
  },
  "orig_nbformat": 4,
  "vscode": {
   "interpreter": {
    "hash": "8ebb0fa82196ab5cd02a5b231fa8fb6d37dc58c342ef6ac8d3ed2447e0dae4a4"
   }
  }
 },
 "nbformat": 4,
 "nbformat_minor": 2
}
