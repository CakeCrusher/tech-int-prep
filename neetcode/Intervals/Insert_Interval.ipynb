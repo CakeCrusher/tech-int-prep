{
 "cells": [
  {
   "cell_type": "code",
   "execution_count": 39,
   "metadata": {},
   "outputs": [
    {
     "name": "stdout",
     "output_type": "stream",
     "text": [
      "[[3, 5]]\n",
      "0 0\n",
      "[[1, 5], [8, 9]]\n",
      "0 0\n",
      "[[1, 5], [6, 9]]\n",
      "1 3\n",
      "[[1, 2], [3, 10], [12, 16]]\n"
     ]
    }
   ],
   "source": [
    "# 0\n",
    "# failed to figure this out in reasonable time and was too hard to debug\n",
    "class Solution(object):\n",
    "    def insert(self, intervals, newInterval):\n",
    "        \"\"\"\n",
    "        :type intervals: List[List[int]]\n",
    "        :type newInterval: List[int]\n",
    "        :rtype: List[List[int]]\n",
    "        \"\"\"\n",
    "        if not intervals:\n",
    "            return [newInterval]\n",
    "        start_inject = None\n",
    "        end_inject = None\n",
    "        for idx, (start, end) in enumerate(intervals):\n",
    "            # if the start and end lies inside the current interval\n",
    "            if start > newInterval[0] and start_inject == None:\n",
    "                start_inject = idx - 1\n",
    "            if start > newInterval[1]:\n",
    "                end_inject = idx - 1\n",
    "            if start > newInterval[1]:\n",
    "                # idx will be the final index where the newInterval will be inserted\n",
    "                break\n",
    "\n",
    "        int_min = newInterval[0]\n",
    "        if start_inject != None:\n",
    "            int_min = intervals[start_inject][0]\n",
    "        int_max = newInterval[1]\n",
    "        if end_inject != None:\n",
    "            int_max = intervals[end_inject][1]\n",
    "        intervals[start_inject:end_inject+1] = [\n",
    "            [\n",
    "                min(int_min, newInterval[0]),\n",
    "                max(int_max, newInterval[1])\n",
    "            ]\n",
    "        ]\n",
    "                \n",
    "        print(start_inject, end_inject)\n",
    "        return intervals\n",
    "\n",
    "\n",
    "        \n",
    "\n",
    "s = Solution()\n",
    "print(s.insert([], [3,5]))\n",
    "print(s.insert([[1,2],[8,9]], [3,5]))\n",
    "print(s.insert([[1,3],[6,9]], [2,5]))\n",
    "print(s.insert([[1,2],[3,5],[6,7],[8,10],[12,16]], [4,8]))"
   ]
  },
  {
   "cell_type": "code",
   "execution_count": 45,
   "metadata": {},
   "outputs": [
    {
     "name": "stdout",
     "output_type": "stream",
     "text": [
      "[[3, 5]]\n",
      "[[1, 7]]\n",
      "[[1, 2], [3, 5], [8, 9]]\n",
      "[[1, 5], [6, 9]]\n",
      "[[1, 2], [3, 10], [12, 16]]\n"
     ]
    }
   ],
   "source": [
    "# 1\n",
    "# interpretation from NeetCode explanation\n",
    "class Solution(object):\n",
    "    def insert(self, intervals, newInterval):\n",
    "        \"\"\"\n",
    "        :type intervals: List[List[int]]\n",
    "        :type newInterval: List[int]\n",
    "        :rtype: List[List[int]]\n",
    "        \"\"\"\n",
    "        new_arr = []\n",
    "        modified_interval = newInterval\n",
    "        for idx, curr_interval in enumerate(intervals):\n",
    "            if modified_interval[0] > curr_interval[1]:\n",
    "                new_arr.append(curr_interval)\n",
    "                continue\n",
    "            curr_range = range(curr_interval[0], curr_interval[1] + 1)\n",
    "            if modified_interval[0] in curr_range or modified_interval[1] in curr_range:\n",
    "                modified_interval = [min(modified_interval[0], curr_interval[0]), max(modified_interval[1], curr_interval[1])]\n",
    "                continue\n",
    "            if modified_interval[1] < curr_interval[0]:\n",
    "                new_arr.append(modified_interval)\n",
    "                modified_interval = None\n",
    "                break\n",
    "        if (modified_interval):\n",
    "            new_arr.append(modified_interval)\n",
    "        else:\n",
    "            new_arr.extend(intervals[idx:])\n",
    "        return new_arr\n",
    "\n",
    "s = Solution()\n",
    "print(s.insert([], [3,5]))\n",
    "print(s.insert([[1,5]], [5,7]))\n",
    "print(s.insert([[1,2],[8,9]], [3,5]))\n",
    "print(s.insert([[1,3],[6,9]], [2,5]))\n",
    "print(s.insert([[1,2],[3,5],[6,7],[8,10],[12,16]], [4,8]))"
   ]
  },
  {
   "cell_type": "code",
   "execution_count": 48,
   "metadata": {},
   "outputs": [
    {
     "name": "stdout",
     "output_type": "stream",
     "text": [
      "[[3, 5]]\n",
      "[[1, 7]]\n",
      "[[1, 2], [3, 5], [8, 9]]\n",
      "[[1, 5], [6, 9]]\n",
      "[[1, 2], [3, 10], [12, 16]]\n"
     ]
    }
   ],
   "source": [
    "# 2\n",
    "# NeetCode blind copy\n",
    "class Solution(object):\n",
    "    def insert(self, intervals, newInterval):\n",
    "        \"\"\"\n",
    "        :type intervals: List[List[int]]\n",
    "        :type newInterval: List[int]\n",
    "        :rtype: List[List[int]]\n",
    "        \"\"\"\n",
    "        result = []\n",
    "        for i in range(len(intervals)):\n",
    "            if newInterval[1] < intervals[i][0]:\n",
    "                return result + [newInterval] + intervals[i:]\n",
    "            if newInterval[0] > intervals[i][1]:\n",
    "                result.append(intervals[i])\n",
    "            else:\n",
    "                newInterval = [\n",
    "                    min(newInterval[0], intervals[i][0]),\n",
    "                    max(newInterval[1], intervals[i][1])\n",
    "                ]\n",
    "        return result + [newInterval]\n",
    "        \n",
    "\n",
    "s = Solution()\n",
    "print(s.insert([], [3,5]))\n",
    "print(s.insert([[1,5]], [5,7]))\n",
    "print(s.insert([[1,2],[8,9]], [3,5]))\n",
    "print(s.insert([[1,3],[6,9]], [2,5]))\n",
    "print(s.insert([[1,2],[3,5],[6,7],[8,10],[12,16]], [4,8]))"
   ]
  }
 ],
 "metadata": {
  "kernelspec": {
   "display_name": "Python 3.10.2 ('env')",
   "language": "python",
   "name": "python3"
  },
  "language_info": {
   "codemirror_mode": {
    "name": "ipython",
    "version": 3
   },
   "file_extension": ".py",
   "mimetype": "text/x-python",
   "name": "python",
   "nbconvert_exporter": "python",
   "pygments_lexer": "ipython3",
   "version": "3.10.2"
  },
  "orig_nbformat": 4,
  "vscode": {
   "interpreter": {
    "hash": "8ebb0fa82196ab5cd02a5b231fa8fb6d37dc58c342ef6ac8d3ed2447e0dae4a4"
   }
  }
 },
 "nbformat": 4,
 "nbformat_minor": 2
}
