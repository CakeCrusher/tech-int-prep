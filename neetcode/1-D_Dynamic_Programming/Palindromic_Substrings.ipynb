{
 "cells": [
  {
   "cell_type": "code",
   "execution_count": 16,
   "metadata": {},
   "outputs": [
    {
     "data": {
      "text/plain": [
       "6"
      ]
     },
     "execution_count": 16,
     "metadata": {},
     "output_type": "execute_result"
    }
   ],
   "source": [
    "class Solution(object):\n",
    "    def countSubstrings(self, s):\n",
    "        \"\"\"\n",
    "        :type s: str\n",
    "        :rtype: int\n",
    "        \"\"\"\n",
    "        # cache = set()\n",
    "        def dfs(i, context_str):\n",
    "            res = []\n",
    "            if i == len(s):\n",
    "                return res\n",
    "            agg = context_str + s[i]\n",
    "            if agg == agg[::-1]:\n",
    "                # cache.add(agg)\n",
    "                res.append(agg)\n",
    "            res.extend(dfs(i+1, agg))\n",
    "            return res\n",
    "        final = []\n",
    "        for i in range(len(s)):\n",
    "            final.extend(dfs(i, \"\"))\n",
    "        return len(final)\n",
    "\n",
    "s = Solution()\n",
    "s.countSubstrings(\"aaa\")"
   ]
  },
  {
   "cell_type": "code",
   "execution_count": 30,
   "metadata": {},
   "outputs": [
    {
     "name": "stdout",
     "output_type": "stream",
     "text": [
      "a\n",
      "a 0 1\n",
      "aa\n",
      "aa 0 2\n",
      "a\n",
      "a 1 2\n",
      "aaa\n",
      "aaa 0 3\n",
      "aa\n",
      "aa 1 3\n",
      "a\n",
      "a 2 3\n",
      "['a', 'aa', 'a', 'aaa', 'aa', 'a']\n"
     ]
    },
    {
     "data": {
      "text/plain": [
       "6"
      ]
     },
     "execution_count": 30,
     "metadata": {},
     "output_type": "execute_result"
    }
   ],
   "source": [
    "class Solution(object):\n",
    "    def countSubstrings(self, s):\n",
    "        \"\"\"\n",
    "        :type s: str\n",
    "        :rtype: int\n",
    "        \"\"\"\n",
    "        def dfs(mid_start, mid_end):\n",
    "            res = []\n",
    "            if mid_start == -1 or mid_end == len(s)+1:\n",
    "                return res\n",
    "            agg = s[mid_start:mid_end]\n",
    "            if agg == agg[::-1]:\n",
    "                res.append(agg)\n",
    "                res.extend(dfs(mid_start-1, mid_end+1))\n",
    "            return res\n",
    "\n",
    "        final = []\n",
    "        for i in range(len(s)):\n",
    "            final.extend(dfs(i, i+1))\n",
    "            final.extend(dfs(i, i+2))\n",
    "        \n",
    "\n",
    "        return len(final)\n",
    "\n",
    "\n",
    "s = Solution()\n",
    "s.countSubstrings(\"aaa\")"
   ]
  },
  {
   "cell_type": "code",
   "execution_count": 34,
   "metadata": {},
   "outputs": [
    {
     "data": {
      "text/plain": [
       "6"
      ]
     },
     "execution_count": 34,
     "metadata": {},
     "output_type": "execute_result"
    }
   ],
   "source": [
    "class Solution(object):\n",
    "    def countSubstrings(self, s):\n",
    "        \"\"\"\n",
    "        :type s: str\n",
    "        :rtype: int\n",
    "        \"\"\"\n",
    "        res = 0\n",
    "        for i in range(len(s)):\n",
    "            l = r = i\n",
    "            while l > -1 and r < len(s) and s[l] == s[r]:\n",
    "                res += 1\n",
    "                l -= 1\n",
    "                r += 1\n",
    "            l = i\n",
    "            r = i + 1\n",
    "            while l > -1 and r < len(s) and s[l] == s[r]:\n",
    "                res += 1\n",
    "                l -= 1\n",
    "                r += 1\n",
    "        return res\n",
    "            \n",
    "\n",
    "\n",
    "s = Solution()\n",
    "s.countSubstrings(\"aaa\")"
   ]
  },
  {
   "cell_type": "code",
   "execution_count": 32,
   "metadata": {},
   "outputs": [
    {
     "ename": "IndexError",
     "evalue": "string index out of range",
     "output_type": "error",
     "traceback": [
      "\u001b[1;31m---------------------------------------------------------------------------\u001b[0m",
      "\u001b[1;31mIndexError\u001b[0m                                Traceback (most recent call last)",
      "\u001b[1;32mc:\\jobsearch\\tech-int-prep\\neetcode\\1-D_Dynamic_Programming\\Palindromic_Substrings.ipynb Cell 4\u001b[0m in \u001b[0;36m<cell line: 3>\u001b[1;34m()\u001b[0m\n\u001b[0;32m      <a href='vscode-notebook-cell:/c%3A/jobsearch/tech-int-prep/neetcode/1-D_Dynamic_Programming/Palindromic_Substrings.ipynb#W3sZmlsZQ%3D%3D?line=0'>1</a>\u001b[0m a \u001b[39m=\u001b[39m \u001b[39m\"\u001b[39m\u001b[39masd\u001b[39m\u001b[39m\"\u001b[39m\n\u001b[0;32m      <a href='vscode-notebook-cell:/c%3A/jobsearch/tech-int-prep/neetcode/1-D_Dynamic_Programming/Palindromic_Substrings.ipynb#W3sZmlsZQ%3D%3D?line=1'>2</a>\u001b[0m i \u001b[39m=\u001b[39m \u001b[39m0\u001b[39m\n\u001b[1;32m----> <a href='vscode-notebook-cell:/c%3A/jobsearch/tech-int-prep/neetcode/1-D_Dynamic_Programming/Palindromic_Substrings.ipynb#W3sZmlsZQ%3D%3D?line=2'>3</a>\u001b[0m \u001b[39mwhile\u001b[39;00m a[i]:\n\u001b[0;32m      <a href='vscode-notebook-cell:/c%3A/jobsearch/tech-int-prep/neetcode/1-D_Dynamic_Programming/Palindromic_Substrings.ipynb#W3sZmlsZQ%3D%3D?line=3'>4</a>\u001b[0m     i \u001b[39m+\u001b[39m\u001b[39m=\u001b[39m \u001b[39m1\u001b[39m\n",
      "\u001b[1;31mIndexError\u001b[0m: string index out of range"
     ]
    }
   ],
   "source": []
  }
 ],
 "metadata": {
  "kernelspec": {
   "display_name": "Python 3.10.2 ('env')",
   "language": "python",
   "name": "python3"
  },
  "language_info": {
   "codemirror_mode": {
    "name": "ipython",
    "version": 3
   },
   "file_extension": ".py",
   "mimetype": "text/x-python",
   "name": "python",
   "nbconvert_exporter": "python",
   "pygments_lexer": "ipython3",
   "version": "3.10.2"
  },
  "orig_nbformat": 4,
  "vscode": {
   "interpreter": {
    "hash": "8ebb0fa82196ab5cd02a5b231fa8fb6d37dc58c342ef6ac8d3ed2447e0dae4a4"
   }
  }
 },
 "nbformat": 4,
 "nbformat_minor": 2
}
