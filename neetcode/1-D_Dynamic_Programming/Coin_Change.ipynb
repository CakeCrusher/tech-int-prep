{
 "cells": [
  {
   "cell_type": "code",
   "execution_count": 24,
   "metadata": {},
   "outputs": [
    {
     "name": "stdout",
     "output_type": "stream",
     "text": [
      "defaultdict(<function Solution.coinChange.<locals>.<lambda> at 0x0000022EC74EEF80>, {1: 1})\n",
      "1\n"
     ]
    }
   ],
   "source": [
    "from collections import defaultdict\n",
    "class Solution:\n",
    "    def coinChange(self, coins, amount):\n",
    "        if amount == 0:\n",
    "            return 0\n",
    "        # create a dictuinory where all empty values are 1\n",
    "        c = defaultdict(lambda: 1)\n",
    "        for coin in coins:\n",
    "            c[coin] = 1\n",
    "\n",
    "        print(c)\n",
    "                    \n",
    "        def rec(cache):\n",
    "            new_cache = {**cache}\n",
    "            reverse_sorted_keys = sorted(cache.keys(), reverse=True)\n",
    "            for k in reverse_sorted_keys:\n",
    "                for k2 in reverse_sorted_keys:\n",
    "                    if amount in new_cache:\n",
    "                        return new_cache[amount]\n",
    "                    if k+k2 > amount:\n",
    "                        continue\n",
    "                    new_cache[k+k2] = cache[k]+cache[k2]\n",
    "                    if amount in new_cache:\n",
    "                        return new_cache[amount]\n",
    "                    res = rec(new_cache)\n",
    "                    if res != -1:\n",
    "                        return res\n",
    "            return -1\n",
    "                    \n",
    "        return rec(c)\n",
    "                    \n",
    "\n",
    "\n",
    "sol = Solution()\n",
    "print(sol.coinChange([1], 1))\n"
   ]
  },
  {
   "cell_type": "code",
   "execution_count": 4,
   "metadata": {},
   "outputs": [
    {
     "name": "stdout",
     "output_type": "stream",
     "text": [
      "{5: 1, 3: 2}\n"
     ]
    }
   ],
   "source": [
    "a = {5:1}\n",
    "a[3] = 2\n",
    "print(a)"
   ]
  }
 ],
 "metadata": {
  "kernelspec": {
   "display_name": "Python 3",
   "language": "python",
   "name": "python3"
  },
  "language_info": {
   "codemirror_mode": {
    "name": "ipython",
    "version": 3
   },
   "file_extension": ".py",
   "mimetype": "text/x-python",
   "name": "python",
   "nbconvert_exporter": "python",
   "pygments_lexer": "ipython3",
   "version": "3.10.2"
  }
 },
 "nbformat": 4,
 "nbformat_minor": 2
}
