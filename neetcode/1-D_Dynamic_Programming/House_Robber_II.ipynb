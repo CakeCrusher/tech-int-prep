{
 "cells": [
  {
   "cell_type": "code",
   "execution_count": 47,
   "metadata": {},
   "outputs": [
    {
     "ename": "NameError",
     "evalue": "name 'idx_blacklist' is not defined",
     "output_type": "error",
     "traceback": [
      "\u001b[1;31m---------------------------------------------------------------------------\u001b[0m",
      "\u001b[1;31mNameError\u001b[0m                                 Traceback (most recent call last)",
      "\u001b[1;32mc:\\jobsearch\\tech-int-prep\\neetcode\\1-D_Dynamic_Programming\\House_Robber_II.ipynb Cell 1\u001b[0m in \u001b[0;36m<cell line: 28>\u001b[1;34m()\u001b[0m\n\u001b[0;32m     <a href='vscode-notebook-cell:/c%3A/jobsearch/tech-int-prep/neetcode/1-D_Dynamic_Programming/House_Robber_II.ipynb#W0sZmlsZQ%3D%3D?line=23'>24</a>\u001b[0m         \u001b[39mreturn\u001b[39;00m \u001b[39mmax\u001b[39m(dp[\u001b[39m0\u001b[39m], dp[\u001b[39m1\u001b[39m])\n\u001b[0;32m     <a href='vscode-notebook-cell:/c%3A/jobsearch/tech-int-prep/neetcode/1-D_Dynamic_Programming/House_Robber_II.ipynb#W0sZmlsZQ%3D%3D?line=26'>27</a>\u001b[0m s \u001b[39m=\u001b[39m Solution()\n\u001b[1;32m---> <a href='vscode-notebook-cell:/c%3A/jobsearch/tech-int-prep/neetcode/1-D_Dynamic_Programming/House_Robber_II.ipynb#W0sZmlsZQ%3D%3D?line=27'>28</a>\u001b[0m \u001b[39mprint\u001b[39m(s\u001b[39m.\u001b[39;49mrob([\u001b[39m1\u001b[39;49m,\u001b[39m2\u001b[39;49m,\u001b[39m3\u001b[39;49m,\u001b[39m1\u001b[39;49m]))\n",
      "\u001b[1;32mc:\\jobsearch\\tech-int-prep\\neetcode\\1-D_Dynamic_Programming\\House_Robber_II.ipynb Cell 1\u001b[0m in \u001b[0;36mSolution.rob\u001b[1;34m(self, nums)\u001b[0m\n\u001b[0;32m     <a href='vscode-notebook-cell:/c%3A/jobsearch/tech-int-prep/neetcode/1-D_Dynamic_Programming/House_Robber_II.ipynb#W0sZmlsZQ%3D%3D?line=14'>15</a>\u001b[0m dp \u001b[39m=\u001b[39m [\u001b[39m0\u001b[39m] \u001b[39m*\u001b[39m \u001b[39mlen\u001b[39m(ext_nums)\n\u001b[0;32m     <a href='vscode-notebook-cell:/c%3A/jobsearch/tech-int-prep/neetcode/1-D_Dynamic_Programming/House_Robber_II.ipynb#W0sZmlsZQ%3D%3D?line=15'>16</a>\u001b[0m \u001b[39mfor\u001b[39;00m i \u001b[39min\u001b[39;00m \u001b[39mrange\u001b[39m(\u001b[39mlen\u001b[39m(ext_nums) \u001b[39m-\u001b[39m \u001b[39m4\u001b[39m, \u001b[39m-\u001b[39m\u001b[39m1\u001b[39m, \u001b[39m-\u001b[39m\u001b[39m1\u001b[39m):\n\u001b[1;32m---> <a href='vscode-notebook-cell:/c%3A/jobsearch/tech-int-prep/neetcode/1-D_Dynamic_Programming/House_Robber_II.ipynb#W0sZmlsZQ%3D%3D?line=16'>17</a>\u001b[0m     \u001b[39mif\u001b[39;00m i \u001b[39min\u001b[39;00m idx_blacklist:\n\u001b[0;32m     <a href='vscode-notebook-cell:/c%3A/jobsearch/tech-int-prep/neetcode/1-D_Dynamic_Programming/House_Robber_II.ipynb#W0sZmlsZQ%3D%3D?line=17'>18</a>\u001b[0m         \u001b[39mcontinue\u001b[39;00m\n\u001b[0;32m     <a href='vscode-notebook-cell:/c%3A/jobsearch/tech-int-prep/neetcode/1-D_Dynamic_Programming/House_Robber_II.ipynb#W0sZmlsZQ%3D%3D?line=18'>19</a>\u001b[0m     \u001b[39mprint\u001b[39m(ext_nums[i])\n",
      "\u001b[1;31mNameError\u001b[0m: name 'idx_blacklist' is not defined"
     ]
    }
   ],
   "source": [
    "class Solution(object):\n",
    "    def rob(self, nums):\n",
    "        \"\"\"\n",
    "        :type nums: List[int]\n",
    "        :rtype: int\n",
    "        \"\"\"\n",
    "        enum_nums = list(enumerate(nums))\n",
    "        ext_nums = enum_nums[:]\n",
    "        i = 0\n",
    "        while len(ext_nums) < len(nums) + 3:\n",
    "            at_i = enum_nums[i % len(nums)]\n",
    "            ext_nums.append((at_i[0], 0))\n",
    "            i += 1\n",
    "        \n",
    "        dp = [0] * len(ext_nums)\n",
    "        for i in range(len(ext_nums) - 4, -1, -1):\n",
    "            best_option = max(ext_nums[i + 2][1], ext_nums[i + 3][1])\n",
    "            print(ext_nums[i])\n",
    "            \n",
    "                \n",
    "        print(ext_nums)\n",
    "        print(dp)\n",
    "        return max(dp[0], dp[1])\n",
    "\n",
    "\n",
    "s = Solution()\n",
    "print(s.rob([1,2,3,1]))\n",
    "        "
   ]
  },
  {
   "cell_type": "code",
   "execution_count": 69,
   "metadata": {},
   "outputs": [
    {
     "name": "stdout",
     "output_type": "stream",
     "text": [
      "3\n"
     ]
    }
   ],
   "source": [
    "class Solution(object):\n",
    "    def rob(self, nums):\n",
    "        \"\"\"\n",
    "        :type nums: List[int]\n",
    "        :rtype: int\n",
    "        \"\"\"\n",
    "        \n",
    "        def helper(nums):\n",
    "            rob1, rob2 = 0, 0\n",
    "\n",
    "            robbed_first = True\n",
    "            for i in range(len(nums)):\n",
    "                temp = rob2\n",
    "                rob2 = max(rob1 + nums[i], rob2)\n",
    "                rob1 = temp\n",
    "            return rob2\n",
    "        \n",
    "        norm = nums[0]\n",
    "        validator1 = helper(nums[1:])\n",
    "        validator2 = helper(nums[:-1])\n",
    "        return max(norm, validator1, validator2)\n",
    "\n",
    "\n",
    "s = Solution()\n",
    "print(s.rob([2,3,2]))\n",
    "        "
   ]
  }
 ],
 "metadata": {
  "kernelspec": {
   "display_name": "Python 3.10.2 ('env')",
   "language": "python",
   "name": "python3"
  },
  "language_info": {
   "codemirror_mode": {
    "name": "ipython",
    "version": 3
   },
   "file_extension": ".py",
   "mimetype": "text/x-python",
   "name": "python",
   "nbconvert_exporter": "python",
   "pygments_lexer": "ipython3",
   "version": "3.10.2"
  },
  "orig_nbformat": 4,
  "vscode": {
   "interpreter": {
    "hash": "8ebb0fa82196ab5cd02a5b231fa8fb6d37dc58c342ef6ac8d3ed2447e0dae4a4"
   }
  }
 },
 "nbformat": 4,
 "nbformat_minor": 2
}
