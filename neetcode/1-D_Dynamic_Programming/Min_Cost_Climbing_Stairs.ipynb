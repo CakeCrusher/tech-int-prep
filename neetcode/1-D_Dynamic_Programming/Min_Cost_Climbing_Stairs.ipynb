{
 "cells": [
  {
   "cell_type": "code",
   "execution_count": 19,
   "metadata": {},
   "outputs": [
    {
     "data": {
      "text/plain": [
       "[3]"
      ]
     },
     "execution_count": 19,
     "metadata": {},
     "output_type": "execute_result"
    }
   ],
   "source": [
    "a = [1,2,3]\n",
    "a[2:]"
   ]
  },
  {
   "cell_type": "code",
   "execution_count": 26,
   "metadata": {},
   "outputs": [
    {
     "name": "stdout",
     "output_type": "stream",
     "text": [
      "6\n",
      "2\n"
     ]
    }
   ],
   "source": [
    "import math\n",
    "class Solution:\n",
    "    def minCostClimbingStairs(self, cost) -> int:\n",
    "        cost = [0] + cost\n",
    "        if (len(cost) >= 2 and cost[0] >= cost[1]):\n",
    "            cost = cost[2:]\n",
    "        costAt = [math.inf] * len(cost)\n",
    "        costsFinal = [math.inf] * len(cost)\n",
    "        def minCost(preCost, i):\n",
    "            # base case\n",
    "            if i >= len(cost):\n",
    "                # print(f\"OVERFLOW i = {i}, preCost = {preCost}, costAt = {costAt}, costsFinal = {costsFinal}\")\n",
    "                return preCost\n",
    "\n",
    "            # if there is cheaper way to get to i, then we don't need to go to i\n",
    "            if costAt[i] < preCost:\n",
    "                # print(f\"INFINITY i = {i}, costAt[i] = {costAt[i]}, preCost = {preCost}\")\n",
    "                return math.inf\n",
    "            else:\n",
    "                costAt[i] = preCost\n",
    "\n",
    "\n",
    "            currCost = preCost + cost[i]\n",
    "            # print(f\"i = {i}, preCost = {preCost}, currCost = {currCost}\")\n",
    "            # print(f\"costsFinal = {costsFinal}, costAt = {costAt}\")\n",
    "\n",
    "            min1 = minCost(currCost, i + 1)\n",
    "            if min1 < costsFinal[i]:\n",
    "                costsFinal[i] = min1\n",
    "            min2 = minCost(currCost, i + 2)\n",
    "            if min2 < costsFinal[i]:\n",
    "                costsFinal[i] = min2\n",
    "            \n",
    "            return costsFinal[i]\n",
    "        \n",
    "        minCost(cost[0], 0)\n",
    "        # print(f\"TOP_COST costsFinal = {costsFinal}\")\n",
    "\n",
    "        return min(costsFinal)\n",
    "sol = Solution()\n",
    "print(sol.minCostClimbingStairs([1,100,1,1,1,100,1,1,100,1]))\n",
    "print(sol.minCostClimbingStairs([0,1,0,0]))"
   ]
  },
  {
   "cell_type": "code",
   "execution_count": 35,
   "metadata": {},
   "outputs": [
    {
     "name": "stdout",
     "output_type": "stream",
     "text": [
      "6\n",
      "0\n"
     ]
    }
   ],
   "source": [
    "import math\n",
    "\n",
    "class Solution:\n",
    "    def minCostClimbingStairs(self, cost) -> int:\n",
    "        costs = [math.inf] * len(cost)\n",
    "        for i in range(len(cost) - 1, -1, -1):\n",
    "            if i + 1 >= len(cost):\n",
    "                costs[i] = cost[i]\n",
    "                continue\n",
    "            else:\n",
    "                costs[i] = costs[i + 1] + cost[i]\n",
    "            if i + 2 >= len(cost):\n",
    "                costs[i] = cost[i]\n",
    "                continue\n",
    "            else:\n",
    "                costs[i] = min(costs[i], costs[i + 2] + cost[i])\n",
    "        return min(costs[0], costs[1])\n",
    "\n",
    "sol = Solution()\n",
    "print(sol.minCostClimbingStairs([1,100,1,1,1,100,1,1,100,1]))\n",
    "print(sol.minCostClimbingStairs([0,1,0,0]))\n"
   ]
  },
  {
   "cell_type": "code",
   "execution_count": 8,
   "metadata": {},
   "outputs": [
    {
     "name": "stdout",
     "output_type": "stream",
     "text": [
      "> \u001b[1;32mc:\\users\\1seba\\appdata\\local\\temp\\ipykernel_9564\\2737801457.py\u001b[0m(24)\u001b[0;36mminCost\u001b[1;34m()\u001b[0m\n",
      "\n",
      "preCost = 10\n",
      "i = 2\n",
      "*** SyntaxError: invalid syntax\n"
     ]
    }
   ],
   "source": [
    "%debug"
   ]
  }
 ],
 "metadata": {
  "kernelspec": {
   "display_name": "Python 3",
   "language": "python",
   "name": "python3"
  },
  "language_info": {
   "codemirror_mode": {
    "name": "ipython",
    "version": 3
   },
   "file_extension": ".py",
   "mimetype": "text/x-python",
   "name": "python",
   "nbconvert_exporter": "python",
   "pygments_lexer": "ipython3",
   "version": "3.10.2"
  }
 },
 "nbformat": 4,
 "nbformat_minor": 2
}
