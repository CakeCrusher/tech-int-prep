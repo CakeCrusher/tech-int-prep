{
 "cells": [
  {
   "cell_type": "code",
   "execution_count": 37,
   "metadata": {},
   "outputs": [
    {
     "name": "stdout",
     "output_type": "stream",
     "text": [
      "[12, 10, 10, 3, 1, 0, 0, 0]\n",
      "12\n"
     ]
    }
   ],
   "source": [
    "class Solution(object):\n",
    "    def rob(self, nums):\n",
    "        \"\"\"\n",
    "        :type nums: List[int]\n",
    "        :rtype: int\n",
    "        \"\"\"\n",
    "        padded_nums = nums + [0]*3\n",
    "        dp = [0]*(len(nums) + 3)\n",
    "        # iterate through padded_nums in reverse order\n",
    "        for i in range(len(padded_nums) - 4, -1, -1):\n",
    "            dp[i] = max(padded_nums[i] + dp[i+2], padded_nums[i] + dp[i+3])\n",
    "        \n",
    "        if len(dp) == 0:\n",
    "            return 0\n",
    "        if len(dp) == 1:\n",
    "            return dp[0]\n",
    "        \n",
    "        print(dp)\n",
    "        return max(dp[0], dp[1])\n",
    "\n",
    "s = Solution()\n",
    "print(s.rob([2,7,9,3,1]))\n"
   ]
  },
  {
   "cell_type": "code",
   "execution_count": 39,
   "metadata": {},
   "outputs": [
    {
     "name": "stdout",
     "output_type": "stream",
     "text": [
      "0 0\n",
      "0 2\n",
      "2 7\n",
      "7 11\n",
      "11 11\n",
      "12\n"
     ]
    }
   ],
   "source": [
    "class Solution(object):\n",
    "    def rob(self, nums):\n",
    "        \"\"\"\n",
    "        :type nums: List[int]\n",
    "        :rtype: int\n",
    "        \"\"\"\n",
    "        rob1, rob2 = 0, 0\n",
    "\n",
    "        for num in nums:\n",
    "            temp = rob2\n",
    "            rob2 = max(rob1 + num, rob2)\n",
    "            rob1 = temp\n",
    "        \n",
    "        return rob2\n",
    "\n",
    "s = Solution()\n",
    "print(s.rob([2,7,9,3,1]))\n"
   ]
  }
 ],
 "metadata": {
  "kernelspec": {
   "display_name": "Python 3.10.2 ('env')",
   "language": "python",
   "name": "python3"
  },
  "language_info": {
   "codemirror_mode": {
    "name": "ipython",
    "version": 3
   },
   "file_extension": ".py",
   "mimetype": "text/x-python",
   "name": "python",
   "nbconvert_exporter": "python",
   "pygments_lexer": "ipython3",
   "version": "3.10.2"
  },
  "orig_nbformat": 4,
  "vscode": {
   "interpreter": {
    "hash": "8ebb0fa82196ab5cd02a5b231fa8fb6d37dc58c342ef6ac8d3ed2447e0dae4a4"
   }
  }
 },
 "nbformat": 4,
 "nbformat_minor": 2
}
