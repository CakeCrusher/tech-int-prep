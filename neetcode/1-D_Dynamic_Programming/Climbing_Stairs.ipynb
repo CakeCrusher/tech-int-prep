{
 "cells": [
  {
   "cell_type": "markdown",
   "metadata": {},
   "source": [
    "# memoization\n",
    "- cache the result so that it does not need to be computed again"
   ]
  },
  {
   "cell_type": "code",
   "execution_count": 25,
   "metadata": {},
   "outputs": [
    {
     "name": "stdout",
     "output_type": "stream",
     "text": [
      "3524578\n"
     ]
    }
   ],
   "source": [
    "class Solution(object):\n",
    "    def climbStairs(self, n):\n",
    "        \"\"\"\n",
    "        :type n: int\n",
    "        :rtype: int\n",
    "        \"\"\"\n",
    "        cache = {}\n",
    "        def dfs(size, memo):\n",
    "            curr_total = size + sum(memo)\n",
    "            possible_ways = 0\n",
    "            if curr_total in cache:\n",
    "                return cache[curr_total]\n",
    "            elif curr_total == n:\n",
    "                return possible_ways + 1\n",
    "            elif curr_total > n:\n",
    "                return possible_ways + 0\n",
    "\n",
    "            else:\n",
    "                for i in range(1,3):\n",
    "                    possible_ways += dfs(i, memo + [size])\n",
    "                cache[curr_total] = possible_ways\n",
    "                return possible_ways\n",
    "        \n",
    "        return dfs(0, [])\n",
    "        \n",
    "\n",
    "s = Solution()\n",
    "print(s.climbStairs(32))"
   ]
  },
  {
   "cell_type": "code",
   "execution_count": 27,
   "metadata": {},
   "outputs": [
    {
     "name": "stdout",
     "output_type": "stream",
     "text": [
      "3524578\n"
     ]
    }
   ],
   "source": [
    "class Solution(object):\n",
    "    def climbStairs(self, n):\n",
    "        \"\"\"\n",
    "        :type n: int\n",
    "        :rtype: int\n",
    "        \"\"\"\n",
    "        one, two = 1,1\n",
    "        for i in range(n - 1):\n",
    "            temp = one\n",
    "            one = one + two\n",
    "            two = temp\n",
    "        return one\n",
    "\n",
    "s = Solution()\n",
    "print(s.climbStairs(32))"
   ]
  }
 ],
 "metadata": {
  "kernelspec": {
   "display_name": "Python 3.10.2 ('env')",
   "language": "python",
   "name": "python3"
  },
  "language_info": {
   "codemirror_mode": {
    "name": "ipython",
    "version": 3
   },
   "file_extension": ".py",
   "mimetype": "text/x-python",
   "name": "python",
   "nbconvert_exporter": "python",
   "pygments_lexer": "ipython3",
   "version": "3.10.2"
  },
  "orig_nbformat": 4,
  "vscode": {
   "interpreter": {
    "hash": "8ebb0fa82196ab5cd02a5b231fa8fb6d37dc58c342ef6ac8d3ed2447e0dae4a4"
   }
  }
 },
 "nbformat": 4,
 "nbformat_minor": 2
}
