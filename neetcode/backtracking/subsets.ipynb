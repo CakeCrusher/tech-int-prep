{
 "cells": [
  {
   "cell_type": "markdown",
   "metadata": {},
   "source": [
    "- answered like a science by testing first and coding second\n",
    "- O(2**n) time complexity\n",
    "- visualize like a tree multiplying by 2 at each instance\n",
    "  - first option is the history alone\n",
    "  - second option is the history plus the current element\n",
    "- # backtracking is a way to explore all possible solutions\n"
   ]
  },
  {
   "cell_type": "code",
   "execution_count": 45,
   "metadata": {},
   "outputs": [
    {
     "data": {
      "text/plain": [
       "[[1], [1, 2], [1, 2, 3], [1, 3], [2], [2, 3], [3], []]"
      ]
     },
     "execution_count": 45,
     "metadata": {},
     "output_type": "execute_result"
    }
   ],
   "source": [
    "class Solution(object):\n",
    "    def iterator(self, composite, nums):\n",
    "        combos = []\n",
    "        for i in range(len(nums)):\n",
    "            curr_composite = composite + [nums[i]]\n",
    "            combos.append(curr_composite)\n",
    "            new_combos = self.iterator(curr_composite, nums[i+1:])\n",
    "            combos = combos + new_combos\n",
    "        return combos\n",
    "            \n",
    "\n",
    "    def subsets(self, nums):\n",
    "        \"\"\"\n",
    "        :type nums: List[int]\n",
    "        :rtype: List[List[int]]\n",
    "        \"\"\"\n",
    "        return self.iterator([], nums) + [[]]\n",
    "\n",
    "        \n",
    "inp = [1,2,3]\n",
    "sol = Solution()\n",
    "sol.subsets(inp)"
   ]
  },
  {
   "cell_type": "code",
   "execution_count": 48,
   "metadata": {},
   "outputs": [
    {
     "data": {
      "text/plain": [
       "[[1, 2, 3], [1, 2], [1, 3], [1], [2, 3], [2], [3], []]"
      ]
     },
     "execution_count": 48,
     "metadata": {},
     "output_type": "execute_result"
    }
   ],
   "source": [
    "class Solution(object):\n",
    "\n",
    "    def subsets(self, nums):\n",
    "        \"\"\"\n",
    "        :type nums: List[int]\n",
    "        :rtype: List[List[int]]\n",
    "        \"\"\"\n",
    "        res = []\n",
    "\n",
    "        curr = []\n",
    "        def dfs(i):\n",
    "            if i >= len(nums):\n",
    "                res.append(curr[:])\n",
    "                return\n",
    "            curr.append(nums[i])\n",
    "            dfs(i+1)\n",
    "            curr.pop()\n",
    "            dfs(i+1)\n",
    "        dfs(0)\n",
    "        return res\n",
    "\n",
    "        \n",
    "inp = [1,2,3]\n",
    "sol = Solution()\n",
    "sol.subsets(inp)"
   ]
  },
  {
   "cell_type": "code",
   "execution_count": null,
   "metadata": {},
   "outputs": [],
   "source": []
  }
 ],
 "metadata": {
  "kernelspec": {
   "display_name": "Python 3.10.2 ('env')",
   "language": "python",
   "name": "python3"
  },
  "language_info": {
   "codemirror_mode": {
    "name": "ipython",
    "version": 3
   },
   "file_extension": ".py",
   "mimetype": "text/x-python",
   "name": "python",
   "nbconvert_exporter": "python",
   "pygments_lexer": "ipython3",
   "version": "3.10.2"
  },
  "orig_nbformat": 4,
  "vscode": {
   "interpreter": {
    "hash": "8ebb0fa82196ab5cd02a5b231fa8fb6d37dc58c342ef6ac8d3ed2447e0dae4a4"
   }
  }
 },
 "nbformat": 4,
 "nbformat_minor": 2
}
