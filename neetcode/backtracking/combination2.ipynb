{
 "cells": [
  {
   "cell_type": "code",
   "execution_count": 17,
   "metadata": {},
   "outputs": [
    {
     "data": {
      "text/plain": [
       "[[1, 2], [3]]"
      ]
     },
     "execution_count": 17,
     "metadata": {},
     "output_type": "execute_result"
    }
   ],
   "source": [
    "class Solution(object):\n",
    "    def combinationSum2(self, candidates, target):\n",
    "        \"\"\"\n",
    "        :type candidates: List[int]\n",
    "        :type target: int\n",
    "        :rtype: List[List[int]]\n",
    "        \"\"\"\n",
    "        res = []\n",
    "        def dfs(seq, curr_candidates):\n",
    "            for i in range(len(curr_candidates)):\n",
    "                new_seq = seq + [curr_candidates[i]]\n",
    "                new_seq.sort()\n",
    "                if sum(new_seq) == target:\n",
    "                    if new_seq not in res:\n",
    "                        res.append(new_seq)\n",
    "                elif sum(new_seq) > target:\n",
    "                    pass\n",
    "                else:\n",
    "                    dfs(new_seq, curr_candidates[i+1:])\n",
    "        dfs([], candidates)\n",
    "        return res\n",
    "\n",
    "\n",
    "\n",
    "\n",
    "can = [1,2,3,1]\n",
    "target = 3\n",
    "sol = Solution()\n",
    "sol.combinationSum2(can, target)\n"
   ]
  },
  {
   "cell_type": "code",
   "execution_count": 6,
   "metadata": {},
   "outputs": [
    {
     "data": {
      "text/plain": [
       "[[2, 3], [1, 1, 3]]"
      ]
     },
     "execution_count": 6,
     "metadata": {},
     "output_type": "execute_result"
    }
   ],
   "source": [
    "class Solution(object):\n",
    "    def combinationSum2(self, candidates, target):\n",
    "        \"\"\"\n",
    "        :type candidates: List[int]\n",
    "        :type target: int\n",
    "        :rtype: List[List[int]]\n",
    "        \"\"\"\n",
    "        candidates.sort()\n",
    "        def dfs(seq, i):\n",
    "            res = []\n",
    "            if sum(seq) == target:\n",
    "                res.append(seq)\n",
    "                return res\n",
    "            elif sum(seq) > target:\n",
    "                return []\n",
    "\n",
    "            if i >= len(candidates):\n",
    "                return []\n",
    "\n",
    "            final_occurrence_index = i\n",
    "            while final_occurrence_index < len(candidates) and candidates[i] == candidates[final_occurrence_index]:\n",
    "                final_occurrence_index += 1\n",
    "            final_occurrence_index -= 1\n",
    "\n",
    "            res.extend(dfs(seq, final_occurrence_index + 1))\n",
    "            res.extend(dfs(seq + [candidates[i]], i+1))\n",
    "            return res\n",
    "        \n",
    "        return dfs([], 0)\n",
    "\n",
    "can = [1,2,3,1]\n",
    "target = 5\n",
    "sol = Solution()\n",
    "sol.combinationSum2(can, target)\n"
   ]
  },
  {
   "cell_type": "code",
   "execution_count": 12,
   "metadata": {},
   "outputs": [
    {
     "data": {
      "text/plain": [
       "[[1, 1, 3], [2, 3]]"
      ]
     },
     "execution_count": 12,
     "metadata": {},
     "output_type": "execute_result"
    }
   ],
   "source": [
    "class Solution(object):\n",
    "    def combinationSum2(self, candidates, target):\n",
    "        \"\"\"\n",
    "        :type candidates: List[int]\n",
    "        :type target: int\n",
    "        :rtype: List[List[int]]\n",
    "        \"\"\"\n",
    "        candidates.sort()\n",
    "        res = []\n",
    "        def backtrack(curr, i, target):\n",
    "            if target == 0:\n",
    "                res.append(curr[:])\n",
    "                return\n",
    "            if target < 0:\n",
    "                return\n",
    "            \n",
    "            prev = None\n",
    "            for j in range(i, len(candidates)):\n",
    "                if prev == candidates[j]:\n",
    "                    continue\n",
    "\n",
    "                curr.append(candidates[j])\n",
    "                backtrack(curr, j+1, target - candidates[j])\n",
    "                curr.pop()\n",
    "                \n",
    "                prev = candidates[j]\n",
    "            return\n",
    "        backtrack([],0,target)\n",
    "        return res\n",
    "\n",
    "         \n",
    "\n",
    "can = [1,2,3,1]\n",
    "target = 5\n",
    "sol = Solution()\n",
    "sol.combinationSum2(can, target)\n"
   ]
  },
  {
   "cell_type": "code",
   "execution_count": null,
   "metadata": {},
   "outputs": [],
   "source": []
  }
 ],
 "metadata": {
  "kernelspec": {
   "display_name": "Python 3.10.2 ('env')",
   "language": "python",
   "name": "python3"
  },
  "language_info": {
   "codemirror_mode": {
    "name": "ipython",
    "version": 3
   },
   "file_extension": ".py",
   "mimetype": "text/x-python",
   "name": "python",
   "nbconvert_exporter": "python",
   "pygments_lexer": "ipython3",
   "version": "3.10.2"
  },
  "orig_nbformat": 4,
  "vscode": {
   "interpreter": {
    "hash": "8ebb0fa82196ab5cd02a5b231fa8fb6d37dc58c342ef6ac8d3ed2447e0dae4a4"
   }
  }
 },
 "nbformat": 4,
 "nbformat_minor": 2
}
