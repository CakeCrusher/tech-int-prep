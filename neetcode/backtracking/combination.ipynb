{
 "cells": [
  {
   "cell_type": "markdown",
   "metadata": {},
   "source": [
    "- drawing a tree is key"
   ]
  },
  {
   "cell_type": "code",
   "execution_count": 15,
   "metadata": {},
   "outputs": [
    {
     "data": {
      "text/plain": [
       "[[1, 1, 1, 1, 1], [1, 1, 1, 2], [1, 1, 3], [1, 2, 2], [2, 3]]"
      ]
     },
     "execution_count": 15,
     "metadata": {},
     "output_type": "execute_result"
    }
   ],
   "source": [
    "class Solution(object):\n",
    "    def combinationSum(self, candidates, target):\n",
    "        \"\"\"\n",
    "        :type candidates: List[int]\n",
    "        :type target: int\n",
    "        :rtype: List[List[int]]\n",
    "        \"\"\"\n",
    "        def searcher(candidates, current):\n",
    "            inner_results = []\n",
    "            for num in candidates:\n",
    "                new_seq = current + [num]\n",
    "                new_seq.sort()\n",
    "                if sum(new_seq) == target:\n",
    "                    if new_seq not in inner_results:\n",
    "                        inner_results.append(new_seq)\n",
    "                elif sum(new_seq) < target:\n",
    "                    for seq in searcher(candidates, new_seq):\n",
    "                        if seq not in inner_results:\n",
    "                            inner_results.append(seq)\n",
    "                else:\n",
    "                    pass\n",
    "            return inner_results\n",
    "        return searcher(candidates, [])\n",
    "                \n",
    "\n",
    "        \n",
    "can = [1,2,3]\n",
    "target = 5\n",
    "sol = Solution()\n",
    "sol.combinationSum(can, target)"
   ]
  },
  {
   "cell_type": "code",
   "execution_count": 21,
   "metadata": {},
   "outputs": [
    {
     "data": {
      "text/plain": [
       "[[1, 1, 1, 1, 1], [1, 1, 1, 2], [1, 2, 2]]"
      ]
     },
     "execution_count": 21,
     "metadata": {},
     "output_type": "execute_result"
    }
   ],
   "source": [
    "class Solution(object):\n",
    "    def combinationSum(self, candidates, target):\n",
    "        \"\"\"\n",
    "        :type candidates: List[int]\n",
    "        :type target: int\n",
    "        :rtype: List[List[int]]\n",
    "        \"\"\"\n",
    "        def searcher(candidates, current):\n",
    "            inner_results = []\n",
    "            for i in range(len(candidates)):\n",
    "                new_seq = current + [candidates[i]]\n",
    "                if sum(new_seq) == target:\n",
    "                    inner_results.append(new_seq)\n",
    "                elif sum(new_seq) < target:\n",
    "                    inner_results.extend(searcher(candidates[i:], new_seq))\n",
    "                else:\n",
    "                    pass\n",
    "            return inner_results\n",
    "        return searcher(candidates, [])\n",
    "                \n",
    "\n",
    "        \n",
    "can = [1,2]\n",
    "target = 5\n",
    "sol = Solution()\n",
    "sol.combinationSum(can, target)"
   ]
  },
  {
   "cell_type": "code",
   "execution_count": 23,
   "metadata": {},
   "outputs": [
    {
     "data": {
      "text/plain": [
       "[[1, 1, 1, 1, 1], [1, 1, 1, 2], [1, 2, 2]]"
      ]
     },
     "execution_count": 23,
     "metadata": {},
     "output_type": "execute_result"
    }
   ],
   "source": [
    "class Solution(object):\n",
    "    def combinationSum(self, candidates, target):\n",
    "        \"\"\"\n",
    "        :type candidates: List[int]\n",
    "        :type target: int\n",
    "        :rtype: List[List[int]]\n",
    "        \"\"\"\n",
    "        res = []\n",
    "        def dfs(i, curr, total):\n",
    "            if total == target:\n",
    "                res.append(curr[:])\n",
    "                return\n",
    "            elif total > target or i >= len(candidates):\n",
    "                return\n",
    "            \n",
    "            curr.append(candidates[i])\n",
    "            dfs(i, curr, total + candidates[i])\n",
    "            curr.pop()\n",
    "            dfs(i+1, curr, total)\n",
    "        dfs(0, [], 0)\n",
    "        return res\n",
    "                \n",
    "\n",
    "        \n",
    "can = [1,2]\n",
    "target = 5\n",
    "sol = Solution()\n",
    "sol.combinationSum(can, target)"
   ]
  },
  {
   "cell_type": "code",
   "execution_count": null,
   "metadata": {},
   "outputs": [],
   "source": []
  }
 ],
 "metadata": {
  "kernelspec": {
   "display_name": "Python 3.10.2 ('env')",
   "language": "python",
   "name": "python3"
  },
  "language_info": {
   "codemirror_mode": {
    "name": "ipython",
    "version": 3
   },
   "file_extension": ".py",
   "mimetype": "text/x-python",
   "name": "python",
   "nbconvert_exporter": "python",
   "pygments_lexer": "ipython3",
   "version": "3.10.2"
  },
  "orig_nbformat": 4,
  "vscode": {
   "interpreter": {
    "hash": "8ebb0fa82196ab5cd02a5b231fa8fb6d37dc58c342ef6ac8d3ed2447e0dae4a4"
   }
  }
 },
 "nbformat": 4,
 "nbformat_minor": 2
}
