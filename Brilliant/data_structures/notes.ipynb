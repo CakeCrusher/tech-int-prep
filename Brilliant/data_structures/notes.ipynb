{
 "cells": [
  {
   "cell_type": "code",
   "execution_count": null,
   "metadata": {},
   "outputs": [],
   "source": []
  },
  {
   "cell_type": "markdown",
   "metadata": {},
   "source": [
    "# Big O"
   ]
  },
  {
   "cell_type": "code",
   "execution_count": 6,
   "metadata": {},
   "outputs": [],
   "source": [
    "# interquartile range = the center half of the array\n",
    "# linear search = if each item in the array needs to be iterated\n",
    "# avrage is (best case + worst case) / 2\n",
    "# binary search = divides the array in half untill the item is found. if the array is sorted, the item can be found in O(log_2 n) time\n",
    "# insertion sort = iterating from left to right with the left being sortef O((n-1) added factorial)\n",
    "# Big O = the amount of time it will take an algorith as it gets bigger\n",
    "    # informal conversational = amount if time it takes to run as the inputs grow\n",
    "    # formal mathematical =\n",
    "        # the upper limit  for how fast a function can grow \n",
    "        # given that O(g(n)) includes f(n)\n",
    "        # C is calculated by f(n)/g(n) = C\n",
    "        # the number will be at or below C\n",
    "        # C is the upper bound\n",
    "    # when divide g(n) by f(n) then the number will be at or below C"
   ]
  },
  {
   "cell_type": "code",
   "execution_count": 5,
   "metadata": {},
   "outputs": [
    {
     "data": {
      "text/plain": [
       "[<matplotlib.lines.Line2D at 0x17bebc45eb0>]"
      ]
     },
     "execution_count": 5,
     "metadata": {},
     "output_type": "execute_result"
    },
    {
     "data": {
      "image/png": "[encoded data removed]",
      "text/plain": [
       "<Figure size 432x288 with 1 Axes>"
      ]
     },
     "metadata": {
      "needs_background": "light"
     },
     "output_type": "display_data"
    }
   ],
   "source": [
    "# create a line graph with matplotlib\n",
    "import matplotlib.pyplot as plt\n",
    "import numpy as np\n",
    "\n",
    "%matplotlib inline\n",
    "\n",
    "# create a line graph\n",
    "x = np.array([2,4,8,16])\n",
    "y = np.array([2,8,32,128])\n",
    "plt.plot(x,y)\n"
   ]
  },
  {
   "cell_type": "code",
   "execution_count": 12,
   "metadata": {},
   "outputs": [
    {
     "data": {
      "text/plain": [
       "3.0"
      ]
     },
     "execution_count": 12,
     "metadata": {},
     "output_type": "execute_result"
    }
   ],
   "source": [
    "import math\n",
    "math.log2(8)"
   ]
  },
  {
   "cell_type": "code",
   "execution_count": 2,
   "metadata": {},
   "outputs": [
    {
     "name": "stdout",
     "output_type": "stream",
     "text": [
      "[[1, 2, 3, 4, 5, 6, 7, 8, 9, 10], 54]\n"
     ]
    },
    {
     "data": {
      "text/plain": [
       "55"
      ]
     },
     "execution_count": 2,
     "metadata": {},
     "output_type": "execute_result"
    }
   ],
   "source": [
    "# arr = [1,2,3,4,5,6,7,8,9,10]\n",
    "arr = [10,9,8,7,6,5,4,3,2,1]\n",
    "def insertion_sort(_arr: list):\n",
    "    i = 0\n",
    "    curr_idx = 1\n",
    "    for i_in_arr in range(1, len(_arr)):\n",
    "        i += 1\n",
    "        navigating_idx = i_in_arr\n",
    "        while  _arr[navigating_idx - 1] > _arr[i_in_arr]:\n",
    "            i += 1\n",
    "            navigating_idx -= 1\n",
    "            if navigating_idx == 0:\n",
    "                break\n",
    "        removed = _arr.pop(i_in_arr)\n",
    "        _arr.insert(navigating_idx, removed)\n",
    "    return [_arr, i]\n",
    "print(insertion_sort(arr))\n",
    "\n",
    "\n",
    "def factorial_add(n):\n",
    "    if n == 0:\n",
    "        return 0\n",
    "    else:\n",
    "        return n + factorial_add(n-1)\n",
    "factorial_add(len(arr))\n"
   ]
  },
  {
   "cell_type": "code",
   "execution_count": 5,
   "metadata": {},
   "outputs": [
    {
     "name": "stdout",
     "output_type": "stream",
     "text": [
      "[1, 10]\n"
     ]
    }
   ],
   "source": [
    "import numpy as np\n",
    "\n",
    "# create a list of continuous numbers from 0 to 1000 with numpy array\n",
    "arr = list(np.arange(0,1000))\n",
    "def binary_search(array, item):\n",
    "    i = 0\n",
    "    insertion_sort(array)\n",
    "    index = None\n",
    "    curr_range = [0,len(arr)]\n",
    "    while index == None:\n",
    "        i += 1\n",
    "        mid_idx = int((curr_range[1] - curr_range[0])/2)\n",
    "        if arr[mid_idx] == item:\n",
    "            index = mid_idx\n",
    "        elif arr[mid_idx] > item:\n",
    "            curr_range[0] = curr_range[0] + mid_idx\n",
    "        else:\n",
    "            curr_range[1] = curr_range[1] - mid_idx\n",
    "    return [index, i]\n",
    "print(binary_search([arr], 1)) # should equal log_2(1000) = 10"
   ]
  },
  {
   "cell_type": "markdown",
   "metadata": {},
   "source": [
    "# Recursion\n",
    "### self embedded structures or processes\n",
    "it is not necessarily faster\n",
    "fibonacci sequence\n",
    "  Fn = Fn-1 + Fn-2\n",
    "\n",
    "### vocab\n",
    "idiomatically\n",
    "  not understandable from the literal meaning of the words\n",
    "best case\n",
    "  the results as they come in\n"
   ]
  },
  {
   "cell_type": "code",
   "execution_count": 13,
   "metadata": {},
   "outputs": [
    {
     "name": "stdout",
     "output_type": "stream",
     "text": [
      "4\n",
      "3\n",
      "2\n",
      "1\n",
      "0\n",
      "1\n",
      "2\n",
      "1\n",
      "0\n"
     ]
    },
    {
     "data": {
      "text/plain": [
       "3"
      ]
     },
     "execution_count": 13,
     "metadata": {},
     "output_type": "execute_result"
    }
   ],
   "source": [
    "def fibonacci(n):\n",
    "    print(n)\n",
    "    if n == 0:\n",
    "        return 0\n",
    "    if n == 1:\n",
    "        return 1\n",
    "    return fibonacci(n-1) + fibonacci(n-2)\n",
    "fibonacci(4) # [0,1,1,2,3,5,8]\n",
    "# 4\n",
    "  # 3\n",
    "    # 2\n",
    "      # 0\n",
    "      # 1\n",
    "    # 1\n",
    "  # 2\n",
    "    # 0\n",
    "    # 1"
   ]
  },
  {
   "cell_type": "code",
   "execution_count": 11,
   "metadata": {},
   "outputs": [
    {
     "name": "stdout",
     "output_type": "stream",
     "text": [
      "2\n",
      "3\n"
     ]
    },
    {
     "data": {
      "text/plain": [
       "2"
      ]
     },
     "execution_count": 11,
     "metadata": {},
     "output_type": "execute_result"
    }
   ],
   "source": [
    "# no recusion\n",
    "def fibonacci(n):\n",
    "    if n == 0:\n",
    "        return 0\n",
    "    if n == 1:\n",
    "        return 1\n",
    "    f = [0,1]\n",
    "    for i in range(2, n+1):\n",
    "        print(i)\n",
    "        f.append(f[i-1] + f[i-2])\n",
    "    return f[n]\n",
    "fibonacci(3) # [0,1,1,2,3,5,8]"
   ]
  },
  {
   "cell_type": "code",
   "execution_count": 16,
   "metadata": {},
   "outputs": [
    {
     "data": {
      "text/plain": [
       "144"
      ]
     },
     "execution_count": 16,
     "metadata": {},
     "output_type": "execute_result"
    }
   ],
   "source": [
    "# frogger\n",
    "def frogger(n):\n",
    "    if n == 1:\n",
    "        return 1\n",
    "    if n == 2:\n",
    "        return 2\n",
    "    return frogger(n-1) + frogger(n-2)\n",
    "frogger(11)"
   ]
  },
  {
   "cell_type": "code",
   "execution_count": 21,
   "metadata": {},
   "outputs": [
    {
     "name": "stdout",
     "output_type": "stream",
     "text": [
      "1\n",
      "2\n",
      "3\n"
     ]
    },
    {
     "data": {
      "text/plain": [
       "True"
      ]
     },
     "execution_count": 21,
     "metadata": {},
     "output_type": "execute_result"
    }
   ],
   "source": [
    "# binary search\n",
    "cou = 0\n",
    "def binary_search(arr, item):\n",
    "    # get the middle index rounded down\n",
    "    global cou\n",
    "    cou += 1\n",
    "    print(cou)\n",
    "    if len(arr) == 1:\n",
    "        if arr[0] == item:\n",
    "            return True\n",
    "        else:\n",
    "            return False\n",
    "    mid_idx = len(arr) // 2\n",
    "    if arr[mid_idx] == item:\n",
    "        return True\n",
    "    elif arr[mid_idx] > item:\n",
    "        return binary_search(arr[:mid_idx], item)\n",
    "    else:\n",
    "        return binary_search(arr[mid_idx:], item)\n",
    "binary_search([-1,0,1,1,3,4,5,6,8,9,10,10,11,20,100], 4)\n",
    "    \n",
    "    "
   ]
  },
  {
   "cell_type": "code",
   "execution_count": 22,
   "metadata": {},
   "outputs": [
    {
     "name": "stdout",
     "output_type": "stream",
     "text": [
      "False\n",
      "False\n"
     ]
    }
   ],
   "source": [
    "# Returns True if A contains item and False otherwise\n",
    "def binary_search(A, item):\n",
    "    if len(A) == 0:\n",
    "        return False\n",
    "    else:\n",
    "        middle = len(A) // 2\n",
    "        if A[middle] == item:\n",
    "            return True\n",
    "       # your code goes here\n",
    "        #A[:middle] is a copy of the elements of A to the left of middle\n",
    "            return binary_search(A[:middle], item)\n",
    "        else:\n",
    "        #A[middle+1:] is a copy of the elements of A to the right of middle\n",
    "            return binary_search(A[middle + 1:], item)\n",
    "numbers = [1, 2, 3, 5, 8, 22, 34, 42, 87, 103]\n",
    "print(binary_search(numbers, 4))\n",
    "print(binary_search(numbers, 42))"
   ]
  },
  {
   "cell_type": "markdown",
   "metadata": {},
   "source": [
    "# Divide and Conquer (D&C)\n",
    "### Divide into smaller problems, conquer each problem recusively, combine the results\n",
    "used for matrix multiplication\n",
    "towers of hanoi\n",
    "for a 2d binary search\n",
    "  N = 2^n - 1\n",
    "    N = side\n",
    "    n = number of guesses\n",
    "strategy\n",
    "  reduce the problem to the simplest problem\n",
    "  build up from there"
   ]
  },
  {
   "cell_type": "code",
   "execution_count": 18,
   "metadata": {},
   "outputs": [
    {
     "data": {
      "text/plain": [
       "15"
      ]
     },
     "execution_count": 18,
     "metadata": {},
     "output_type": "execute_result"
    }
   ],
   "source": [
    "2**4 - 1"
   ]
  },
  {
   "cell_type": "code",
   "execution_count": 23,
   "metadata": {},
   "outputs": [
    {
     "name": "stdout",
     "output_type": "stream",
     "text": [
      "cou:  1\n",
      "guess: 0 0\n",
      "[[50, 101], [50, 101]]\n",
      "cou:  2\n",
      "guess: 50 50\n",
      "W\n",
      "[50, 101]\n",
      "[50, 25]\n",
      "S\n",
      "[50, 25]\n",
      "[[50, 25], [50, 25]]\n",
      "cou:  3\n",
      "guess: 50 50\n",
      "W\n",
      "[50, 25]\n",
      "[50, 63]\n",
      "S\n",
      "[50, 63]\n",
      "[[50, 63], [50, 63]]\n",
      "cou:  4\n",
      "guess: 50 50\n",
      "W\n",
      "[50, 63]\n",
      "[50, 44]\n",
      "S\n",
      "[50, 44]\n",
      "[[50, 44], [50, 44]]\n",
      "cou:  5\n",
      "guess: 50 50\n",
      "W\n",
      "[50, 44]\n",
      "[50, 53]\n",
      "S\n",
      "[50, 53]\n",
      "[[50, 53], [50, 53]]\n",
      "cou:  6\n",
      "guess: 50 50\n",
      "W\n",
      "[50, 53]\n",
      "[50, 49]\n",
      "S\n",
      "[50, 49]\n",
      "[[50, 49], [50, 49]]\n"
     ]
    }
   ],
   "source": [
    "# [[1,3],[1,10]], [8,10]\n",
    "cou = 0\n",
    "def compass(range,correctPos):\n",
    "    global cou\n",
    "    cou += 1\n",
    "    print(\"cou: \", cou)\n",
    "    x = range[0][0]\n",
    "    y = range[1][0]\n",
    "    composite = \"\"\n",
    "    print(\"guess:\", x, y)\n",
    "    if x < correctPos[0]:\n",
    "        composite += \"E\"\n",
    "        x = x + (range[0][1] - range[0][0]) // 2\n",
    "        range[0] = [x, range[0][1]]\n",
    "    elif x > correctPos[0]:\n",
    "        print(\"W\")\n",
    "        composite += \"W\"\n",
    "        print(range[0])\n",
    "        x = x - (range[0][1] - range[0][0]) // 2\n",
    "        range[0] = [range[0][0], x]\n",
    "        print(range[0])\n",
    "    if y < correctPos[1]:\n",
    "        composite += \"N\"\n",
    "        y = y + (range[1][1] - range[1][0]) // 2\n",
    "        range[1] = [y, range[1][1]]\n",
    "    elif y > correctPos[1]:\n",
    "        print(\"S\")\n",
    "        composite += \"S\"\n",
    "        y = y - (range[1][1] - range[1][0]) // 2\n",
    "        range[1] = [range[1][0], y]\n",
    "        print(range[1])\n",
    "    if x == correctPos[0]:\n",
    "        range[0] = [x, x]\n",
    "    if y == correctPos[1]:\n",
    "        range[1] = [y, y]\n",
    "    print(range)\n",
    "    if composite == \"\":\n",
    "        return True\n",
    "    else:\n",
    "        return range\n",
    "        # return compass(range, correctPos)\n",
    "r1 = compass([[0,101],[0,101]], [8,10])\n",
    "r2 = compass(r1, [8,10])\n",
    "r3 = compass(r2, [8,10])\n",
    "r4 = compass(r3, [8,10])\n",
    "r5 = compass(r4, [8,10])\n",
    "r6 = compass(r5, [8,10])"
   ]
  },
  {
   "cell_type": "code",
   "execution_count": null,
   "metadata": {},
   "outputs": [],
   "source": []
  }
 ],
 "metadata": {
  "kernelspec": {
   "display_name": "Python 3.10.2 ('env')",
   "language": "python",
   "name": "python3"
  },
  "language_info": {
   "codemirror_mode": {
    "name": "ipython",
    "version": 3
   },
   "file_extension": ".py",
   "mimetype": "text/x-python",
   "name": "python",
   "nbconvert_exporter": "python",
   "pygments_lexer": "ipython3",
   "version": "3.10.2"
  },
  "orig_nbformat": 4,
  "vscode": {
   "interpreter": {
    "hash": "8ebb0fa82196ab5cd02a5b231fa8fb6d37dc58c342ef6ac8d3ed2447e0dae4a4"
   }
  }
 },
 "nbformat": 4,
 "nbformat_minor": 2
}
