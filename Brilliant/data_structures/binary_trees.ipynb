{
 "cells": [
  {
   "cell_type": "markdown",
   "metadata": {},
   "source": [
    "# Binary Trees\n",
    "### nodes with a branching factor of 2\n",
    "- branch\n",
    "  - a connection between 2 nodes\n",
    "- branching factor\n",
    "  - number of children a node can have\n",
    "- root\n",
    "  - top node\n",
    "- leaf\n",
    "  - node with no children\n",
    "- depth\n",
    "  - number of links from the root to the node\n",
    "- height\n",
    "  - number of links from the node to the deepest leaf\n",
    "- node height\n",
    "  - links from node to deepest leaf\n",
    "- node count is SIGMA(2**n)\n",
    "  - 3, 7, 15, 31, 63...\n",
    "- full binary tree\n",
    "  - every node has 0 or 2 children\n",
    "- complete binary tree\n",
    "  - every level is filled except the last\n",
    "  - nodes must be filled from left to right\n"
   ]
  },
  {
   "cell_type": "code",
   "execution_count": 3,
   "metadata": {},
   "outputs": [],
   "source": [
    "class TreeNode():\n",
    "    def __init__(self, val, left = None, right = None):\n",
    "        self.val = val\n",
    "        self.left = left\n",
    "        self.right = right\n",
    "\n",
    "# below ordering matches with postorder traversal\n",
    "tn1 = TreeNode(1)\n",
    "tn2 = TreeNode(2)\n",
    "tn3 = TreeNode(3, tn1, tn2)\n",
    "tn4 = TreeNode(4)\n",
    "tn5 = TreeNode(5, tn3, tn4)"
   ]
  },
  {
   "cell_type": "markdown",
   "metadata": {},
   "source": [
    "- traversal\n",
    "  - visiting every node in a tree\n",
    "  - preorder\n",
    "    - traverse counter-clockwise and mark the node as you cross its left side\n",
    "  - inorder\n",
    "    - traverse counter-clockwise and mark the node as you cross its bottom\n",
    "  - postorder\n",
    "    - traverse counter-clockwise and mark the node as you cross its right side"
   ]
  },
  {
   "cell_type": "code",
   "execution_count": 5,
   "metadata": {},
   "outputs": [
    {
     "name": "stdout",
     "output_type": "stream",
     "text": [
      "5\n",
      "3\n",
      "1\n",
      "2\n",
      "4\n"
     ]
    }
   ],
   "source": [
    "def preorderTraverse(root):\n",
    "    if root:\n",
    "        print(root.val)\n",
    "        preorderTraverse(root.left)\n",
    "        preorderTraverse(root.right)\n",
    "preorderTraverse(tn5)"
   ]
  },
  {
   "cell_type": "code",
   "execution_count": 6,
   "metadata": {},
   "outputs": [
    {
     "name": "stdout",
     "output_type": "stream",
     "text": [
      "1\n",
      "3\n",
      "2\n",
      "5\n",
      "4\n"
     ]
    }
   ],
   "source": [
    "def inorderTraverse(root):\n",
    "    if root:\n",
    "        inorderTraverse(root.left)\n",
    "        print(root.val)\n",
    "        inorderTraverse(root.right)\n",
    "inorderTraverse(tn5)"
   ]
  },
  {
   "cell_type": "code",
   "execution_count": 7,
   "metadata": {},
   "outputs": [
    {
     "name": "stdout",
     "output_type": "stream",
     "text": [
      "1\n",
      "2\n",
      "3\n",
      "4\n",
      "5\n"
     ]
    }
   ],
   "source": [
    "def postorderTraverse(root):\n",
    "    if root:\n",
    "        postorderTraverse(root.left)\n",
    "        postorderTraverse(root.right)\n",
    "        print(root.val)\n",
    "postorderTraverse(tn5)"
   ]
  },
  {
   "cell_type": "markdown",
   "metadata": {},
   "source": [
    "- depth first search\n",
    "  - go down a branch all the way left untill the leaf, then process the branch\n",
    "  - uses a stack as its array of data\n",
    "- breadth fitst search\n",
    "  - all nodes on a level are visited before going to the next level\n",
    "  - uses a que as its array of data"
   ]
  },
  {
   "cell_type": "code",
   "execution_count": 8,
   "metadata": {},
   "outputs": [
    {
     "ename": "IndentationError",
     "evalue": "unexpected indent (1161177431.py, line 2)",
     "output_type": "error",
     "traceback": [
      "\u001b[1;36m  Input \u001b[1;32mIn [8]\u001b[1;36m\u001b[0m\n\u001b[1;33m    - visiting every node in a tree\u001b[0m\n\u001b[1;37m    ^\u001b[0m\n\u001b[1;31mIndentationError\u001b[0m\u001b[1;31m:\u001b[0m unexpected indent\n"
     ]
    }
   ],
   "source": [
    "def depthFirstSearch(root):\n",
    "    if root:\n",
    "        print(root.val)\n",
    "        depthFirstSearch(root.left)\n",
    "        depthFirstSearch(root.right)"
   ]
  },
  {
   "cell_type": "markdown",
   "metadata": {},
   "source": [
    "## Binary Search Trees\n",
    "- the left and right nodes are ordered\n",
    "- balanced tree\n",
    "  - the height of the tree is log(n)\n",
    "  - must be a complete binary tree\n",
    "- runtime is O(log n)\n",
    "- unbalanced trees are O(n)"
   ]
  },
  {
   "cell_type": "code",
   "execution_count": 8,
   "metadata": {},
   "outputs": [
    {
     "name": "stdout",
     "output_type": "stream",
     "text": [
      "3\n"
     ]
    }
   ],
   "source": [
    "class BinarySearchNode():\n",
    "    def __init__(self, val, left = None, right = None):\n",
    "        self.val = val\n",
    "        self.left = left\n",
    "        self.right = right\n",
    "def navigateToLeaf(num, root):\n",
    "    if num < root.val:\n",
    "        if root.left:\n",
    "            return navigateToLeaf(num, root.left)\n",
    "        else:\n",
    "            return root\n",
    "    else:\n",
    "        if root.right:\n",
    "            return navigateToLeaf(num, root.right)\n",
    "        else:\n",
    "            return root\n",
    "def buildBinarySearchTree(arr):\n",
    "    root = BinarySearchNode(arr[0])\n",
    "    \n",
    "    for num in arr[1:]:\n",
    "        leaf = navigateToLeaf(num, root)\n",
    "        if num < leaf.val:\n",
    "            leaf.left = BinarySearchNode(num)\n",
    "        else:\n",
    "            leaf.right = BinarySearchNode(num)\n",
    "    return root\n",
    "\n",
    "def findHeight(root):\n",
    "    if root:\n",
    "        return 1 + max(findHeight(root.left), findHeight(root.right))\n",
    "    else:\n",
    "        return 0\n",
    "\n",
    "arr = [1,3,2,4]\n",
    "bst = buildBinarySearchTree(arr)\n",
    "print(findHeight(bst))\n"
   ]
  },
  {
   "cell_type": "markdown",
   "metadata": {},
   "source": [
    "## Tree Rotation\n",
    "serves to balance a tree\n",
    "- balances by rotating the tree in-order in one direction\n",
    "- left rotation\n",
    "  - rotate the right child to the top\n",
    "- right rotation\n",
    "  - rotate the left child to the top\n",
    "- a rotation consists of rotating 2 nodes and 3 links\n",
    "- AVL tree\n",
    "  - after transcending a branch to add a node it edits the tree balance\n",
    "  - looks at a branch and reacts according to its relationship\n",
    "  - aims to make left-left or right-right branches\n",
    "    - then rotate the second branch up\n",
    "- red and black tree\n",
    "  - lookup is slower than AVL\n",
    "  - requires fewer rotations than AVL since it is less rigid\n",
    "  - when nodes are added they are red\n",
    "    - surrounding nodes determine rotation"
   ]
  },
  {
   "cell_type": "code",
   "execution_count": null,
   "metadata": {},
   "outputs": [],
   "source": []
  }
 ],
 "metadata": {
  "kernelspec": {
   "display_name": "Python 3.10.2 ('env')",
   "language": "python",
   "name": "python3"
  },
  "language_info": {
   "codemirror_mode": {
    "name": "ipython",
    "version": 3
   },
   "file_extension": ".py",
   "mimetype": "text/x-python",
   "name": "python",
   "nbconvert_exporter": "python",
   "pygments_lexer": "ipython3",
   "version": "3.10.2"
  },
  "orig_nbformat": 4,
  "vscode": {
   "interpreter": {
    "hash": "8ebb0fa82196ab5cd02a5b231fa8fb6d37dc58c342ef6ac8d3ed2447e0dae4a4"
   }
  }
 },
 "nbformat": 4,
 "nbformat_minor": 2
}
