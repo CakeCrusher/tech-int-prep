{
 "cells": [
  {
   "cell_type": "markdown",
   "metadata": {},
   "source": [
    "# Heap\n",
    "### allows you to assign priority to data\n",
    "- insert\n",
    "  - inserts with priority int\n",
    "- pop\n",
    "  - pops the highest priority item\n",
    "- peek\n",
    "  - returns the highest priority item\n",
    "- a range can be set to upper bound priority\n",
    "- runtime as a stack is O(n)\n",
    "- runtime as a balanced sorted BST is O(log n)"
   ]
  },
  {
   "cell_type": "code",
   "execution_count": 2,
   "metadata": {},
   "outputs": [
    {
     "ename": "",
     "evalue": "",
     "output_type": "error",
     "traceback": [
      "\u001b[1;31mCanceled future for execute_request message before replies were done"
     ]
    },
    {
     "ename": "",
     "evalue": "",
     "output_type": "error",
     "traceback": [
      "\u001b[1;31mThe Kernel crashed while executing code in the the current cell or a previous cell. Please review the code in the cell(s) to identify a possible cause of the failure. Click <a href='https://aka.ms/vscodeJupyterKernelCrash'>here</a> for more info. View Jupyter <a href='command:jupyter.viewOutput'>log</a> for further details."
     ]
    }
   ],
   "source": [
    "class Node:\n",
    "    def __init__(self, value):\n",
    "        self.value = value\n",
    "        self.priority = None\n",
    "        self.parent = None\n",
    "        self.left = None\n",
    "        self.right = None\n",
    "class Queue:\n",
    "    def __init__(self):\n",
    "        self.arr = []\n",
    "    def add(self,value):\n",
    "        self.arr.append(value)\n",
    "    def remove(self):\n",
    "        if len(self.arr) == 0:\n",
    "            return None\n",
    "        else:\n",
    "            return self.arr.pop(0)\n",
    "class PriorityQueue():\n",
    "    def __init__(self):\n",
    "        self.head = None\n",
    "    def insert(self, data, priority):\n",
    "        new_node = Node(data)\n",
    "        new_node.priority = priority\n",
    "        if not self.head:\n",
    "            self.head = new_node\n",
    "            return new_node\n",
    "        queue = Queue()\n",
    "        def bfs(node) -> Node:\n",
    "            if node.left:\n",
    "                queue.add(node.left)\n",
    "            else:\n",
    "                return node\n",
    "            if node.right:\n",
    "                queue.add(node.right)\n",
    "            else:\n",
    "                return node\n",
    "            return bfs(queue.remove())\n",
    "        has_leaf = bfs(self.head)\n",
    "        if not has_leaf.left:\n",
    "            has_leaf.left = new_node\n",
    "        else:\n",
    "            has_leaf.right = new_node\n",
    "        return new_node\n",
    "    def swap(self, parent_node, child_node, is_right = False):\n",
    "        temp = child_node\n",
    "        child_node.parent = parent_node.parent\n",
    "        if is_right:\n",
    "            child_node.right = parent_node\n",
    "            child_node.left = parent_node.left\n",
    "        else:\n",
    "            child_node.left = parent_node\n",
    "            child_node.right = parent_node.right\n",
    "        parent_node.parent = child_node\n",
    "        parent_node.left = temp.left\n",
    "        parent_node.right = temp.right\n",
    "\n",
    "def preOrder(node):\n",
    "    if node:\n",
    "        print(node.value)\n",
    "        preOrder(node.left)\n",
    "        preOrder(node.right)\n",
    "\n",
    "pq = PriorityQueue()\n",
    "arr = [1,2,3,4,5,6,7]\n",
    "nodes = []\n",
    "for i in arr:\n",
    "    nodes.append(pq.insert(i, i))\n",
    "pq.swap(nodes[1], nodes[2], False)\n",
    "preOrder(pq.head)"
   ]
  },
  {
   "cell_type": "markdown",
   "metadata": {},
   "source": [
    "# Binary Heap\n",
    "### the value of each node must be greater than or equal to the value of its children. Also called a max heap\n",
    "- sort number\n",
    "  - nodes are sorted with a node being node n and its children being 2n and 2n+1\n",
    "- the sort number (indices for array) and priority are associated to the node\n",
    "- insert\n",
    "  - insert at the first leaf in the complete tree\n",
    "  - bubble up\n",
    "    - if the parent is less than the child, swap the parent and child\n",
    "    - repeat until the parent is greater than the child\n",
    "  - runtime is O(n*log n)\n",
    "- by running max heapify, all the nodes will be bubbled starting from the deepest layer"
   ]
  },
  {
   "cell_type": "markdown",
   "metadata": {},
   "source": [
    "# Treaps\n",
    "### randomized the data going into a tree, it has a high probablity of producing a complete tree\n",
    "- cartesian tree\n",
    "  - contains a priority and key\n",
    "  - the priority is the Y value and the key is the X value\n",
    "  - the priority increases monotonically from down to up\n",
    "  - randomize, get highest priority, lower keys on left, higher keys on right\n",
    "  - deletion\n",
    "    - delete when is leaf\n",
    "    - otherwise set the priority to minus infinity and traverse to the bottom\n",
    "    \n",
    "\n",
    "\n"
   ]
  },
  {
   "cell_type": "code",
   "execution_count": 14,
   "metadata": {},
   "outputs": [
    {
     "name": "stdout",
     "output_type": "stream",
     "text": [
      "0 45\n",
      "1 3\n",
      "2 89\n",
      "3 22\n",
      "4 97\n",
      "5 37\n",
      "6 2\n"
     ]
    }
   ],
   "source": [
    "import random\n",
    "\n",
    "class HeapNode():\n",
    "    def __init__(self, key, priority):\n",
    "        self.key = key\n",
    "        self.priority = priority\n",
    "        self.right = None\n",
    "        self.left = None\n",
    "class CartesianHeap():\n",
    "    def __init__(self):\n",
    "        self.head = None\n",
    "    def build(self, arr):\n",
    "        # random.shuffle(arr)\n",
    "        keyed_arr = []\n",
    "        for key, priority in enumerate(arr):\n",
    "            keyed_arr.append((key, priority))\n",
    "        \n",
    "        def builder(window, curr_max):\n",
    "            self.insert(curr_max[0], curr_max[1])\n",
    "            adjusted_index = curr_max[0] - window[0][0]\n",
    "            left_window = window[:adjusted_index]\n",
    "            right_window = window[adjusted_index+1:]\n",
    "\n",
    "            if left_window:\n",
    "                left_max = max(left_window, key=lambda x: x[1])\n",
    "                builder(left_window, left_max)\n",
    "            if right_window:\n",
    "                right_max = max(right_window, key=lambda x: x[1])\n",
    "                builder(right_window, right_max)\n",
    "\n",
    "        curr_max = max(keyed_arr, key=lambda x: x[1])\n",
    "        builder(keyed_arr, curr_max)\n",
    "    def insert(self, key, priority):\n",
    "        new_node = HeapNode(key, priority)\n",
    "        if not self.head:\n",
    "            self.head = new_node\n",
    "            return new_node\n",
    "        def traverse(current_node, new_node):\n",
    "            if current_node.key >= new_node.key:\n",
    "                if current_node.left:\n",
    "                    return traverse(current_node.left, new_node)\n",
    "                else:\n",
    "                    current_node.left = new_node\n",
    "                    return new_node\n",
    "            else:\n",
    "                if current_node.right:\n",
    "                    return traverse(current_node.right, new_node)\n",
    "                else:\n",
    "                    current_node.right = new_node\n",
    "                    return new_node\n",
    "        return traverse(self.head, new_node)\n",
    "    def in_order(self):\n",
    "        def traverse(current_node):\n",
    "            if current_node:\n",
    "                traverse(current_node.left)\n",
    "                print(current_node.key, current_node.priority)\n",
    "                traverse(current_node.right)\n",
    "        traverse(self.head)\n",
    "\n",
    "cartesianHeap = CartesianHeap()\n",
    "a = [45,3,89,22,97,37,2]\n",
    "cartesianHeap.build(a)\n",
    "cartesianHeap.in_order()\n"
   ]
  }
 ],
 "metadata": {
  "kernelspec": {
   "display_name": "Python 3.10.2 ('env')",
   "language": "python",
   "name": "python3"
  },
  "language_info": {
   "codemirror_mode": {
    "name": "ipython",
    "version": 3
   },
   "file_extension": ".py",
   "mimetype": "text/x-python",
   "name": "python",
   "nbconvert_exporter": "python",
   "pygments_lexer": "ipython3",
   "version": "3.10.2"
  },
  "orig_nbformat": 4,
  "vscode": {
   "interpreter": {
    "hash": "8ebb0fa82196ab5cd02a5b231fa8fb6d37dc58c342ef6ac8d3ed2447e0dae4a4"
   }
  }
 },
 "nbformat": 4,
 "nbformat_minor": 2
}
