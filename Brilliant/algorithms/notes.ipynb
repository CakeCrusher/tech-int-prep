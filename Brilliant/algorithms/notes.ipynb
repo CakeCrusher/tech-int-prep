{
 "cells": [
  {
   "cell_type": "code",
   "execution_count": null,
   "metadata": {},
   "outputs": [],
   "source": [
    "# conditional statement\n",
    "# bread down problems into smaller parts\n",
    "# hamming distance = number of substitutions needed to change one word to another\n"
   ]
  }
 ],
 "metadata": {
  "kernelspec": {
   "display_name": "Python 3.8.8 ('ai')",
   "language": "python",
   "name": "python3"
  },
  "language_info": {
   "codemirror_mode": {
    "name": "ipython",
    "version": 3
   },
   "file_extension": ".py",
   "mimetype": "text/x-python",
   "name": "python",
   "nbconvert_exporter": "python",
   "pygments_lexer": "ipython3",
   "version": "3.8.8"
  },
  "orig_nbformat": 4,
  "vscode": {
   "interpreter": {
    "hash": "3589496a1d7869e9b6ec6501882ac71de083d81c3d95f817a096c95ce40eb3d6"
   }
  }
 },
 "nbformat": 4,
 "nbformat_minor": 2
}
